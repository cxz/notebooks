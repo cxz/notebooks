{
 "cells": [
  {
   "cell_type": "code",
   "execution_count": 13,
   "metadata": {},
   "outputs": [],
   "source": [
    "#padded with mirroring instead of resizing.\n",
    "\n",
    "import os\n",
    "import tensorflow as tf\n",
    "os.environ['KERAS_BACKEND'] = 'tensorflow'\n",
    "\n",
    "import sys\n",
    "import random\n",
    "import warnings\n",
    "\n",
    "import pandas as pd\n",
    "import numpy as np\n",
    "import matplotlib.pyplot as plt\n",
    "%matplotlib inline\n",
    "\n",
    "import cv2\n",
    "\n",
    "from tqdm import tqdm\n",
    "from itertools import chain\n",
    "from skimage.io import imread, imshow, concatenate_images\n",
    "from skimage.transform import resize\n",
    "from skimage.morphology import label\n",
    "\n",
    "import tensorflow as tf\n",
    "\n",
    "from keras.preprocessing.image import array_to_img, img_to_array, load_img\n",
    "        \n",
    "PATH = 'input'\n",
    "\n",
    "train_df = pd.read_csv('input/train.csv')\n",
    "train_ids = train_df.id.values\n",
    "\n",
    "sample_df = pd.read_csv('input/sample_submission.csv')\n",
    "test_ids = sample_df.id.values"
   ]
  },
  {
   "cell_type": "code",
   "execution_count": 14,
   "metadata": {},
   "outputs": [],
   "source": [
    "def resize_mirror(img):\n",
    "    out = np.zeros((128, 128))\n",
    "    out[:img.shape[0], :img.shape[1]] = img\n",
    "    out[img.shape[0]:, :img.shape[1]] = img[::-1, :][:27, :]\n",
    "    out[:, img.shape[1]:] = out[:, ::-1][:, 27:27+27]\n",
    "    return out\n",
    "\n",
    "def pad(img):\n",
    "    return np.pad(img, ((13, 14), (13, 14)), mode='symmetric')    \n",
    "    \n",
    "def load_resized(path):\n",
    "    img = load_img(path)  \n",
    "    x = img_to_array(img)[:,:,1]\n",
    "    if x.shape != (101, 101):\n",
    "        print(path, shape)\n",
    "    \n",
    "    #return resize_mirror(x).reshape(128, 128, 1)\n",
    "    return pad(x).reshape(128, 128, 1)\n",
    "    \n",
    "\n"
   ]
  },
  {
   "cell_type": "code",
   "execution_count": 15,
   "metadata": {},
   "outputs": [],
   "source": [
    "x1 = load_resized(os.path.join(PATH, 'train', 'images', '%s.png' % '4875705fb0'))\n",
    "x2 = load_resized(os.path.join(PATH, 'train', 'masks', '%s.png' % '4875705fb0'))"
   ]
  },
  {
   "cell_type": "code",
   "execution_count": 16,
   "metadata": {},
   "outputs": [
    {
     "data": {
      "text/plain": [
       "<matplotlib.image.AxesImage at 0x7f5fb1e54fd0>"
      ]
     },
     "execution_count": 16,
     "metadata": {},
     "output_type": "execute_result"
    },
    {
     "data": {
      "image/png": "[encoded data removed]",
      "text/plain": [
       "<Figure size 720x720 with 1 Axes>"
      ]
     },
     "metadata": {},
     "output_type": "display_data"
    }
   ],
   "source": [
    "plt.figure(figsize=(10, 10))\n",
    "plt.imshow(x2[:,:,0])"
   ]
  },
  {
   "cell_type": "code",
   "execution_count": null,
   "metadata": {},
   "outputs": [],
   "source": [
    "\n",
    "\n"
   ]
  },
  {
   "cell_type": "code",
   "execution_count": 17,
   "metadata": {},
   "outputs": [
    {
     "name": "stderr",
     "output_type": "stream",
     "text": [
      "  0%|          | 2/4000 [00:00<04:23, 15.19it/s]"
     ]
    },
    {
     "name": "stdout",
     "output_type": "stream",
     "text": [
      "Getting and resizing train images and masks ... \n"
     ]
    },
    {
     "name": "stderr",
     "output_type": "stream",
     "text": [
      "100%|██████████| 4000/4000 [00:08<00:00, 486.64it/s]\n"
     ]
    }
   ],
   "source": [
    "im_width = 128\n",
    "im_height = 128\n",
    "im_chan = 1\n",
    "\n",
    "\n",
    "# Get and resize train images and masks\n",
    "X_train = np.zeros((len(train_ids), im_height, im_width, im_chan), dtype=np.float32)\n",
    "Y_train = np.zeros((len(train_ids), im_height, im_width, 1), dtype=np.bool)\n",
    "print('Getting and resizing train images and masks ... ')\n",
    "\n",
    "for n, id_ in tqdm(enumerate(train_ids), total=len(train_ids)):    \n",
    "    X_train[n] = load_resized(os.path.join(PATH, 'train', 'images', \"%s.png\" % id_))\n",
    "    Y_train[n] = load_resized(os.path.join(PATH, 'train', 'masks', \"%s.png\" % id_))\n",
    "\n"
   ]
  },
  {
   "cell_type": "code",
   "execution_count": 18,
   "metadata": {},
   "outputs": [],
   "source": [
    "#mean = np.mean(X_train/255)\n",
    "#std = np.std(X_train/255)\n",
    "#print(mean, std)\n",
    "mean = 0.5\n",
    "std = 1.0"
   ]
  },
  {
   "cell_type": "code",
   "execution_count": 19,
   "metadata": {},
   "outputs": [
    {
     "name": "stdout",
     "output_type": "stream",
     "text": [
      "Done!\n"
     ]
    }
   ],
   "source": [
    "X_train /= 255.0 \n",
    "X_train -= mean\n",
    "X_train /= std\n",
    "print('Done!')"
   ]
  },
  {
   "cell_type": "code",
   "execution_count": 20,
   "metadata": {},
   "outputs": [
    {
     "name": "stderr",
     "output_type": "stream",
     "text": [
      "  0%|          | 6/18000 [00:00<06:17, 47.69it/s]"
     ]
    },
    {
     "name": "stdout",
     "output_type": "stream",
     "text": [
      "Getting and resizing test images ... \n"
     ]
    },
    {
     "name": "stderr",
     "output_type": "stream",
     "text": [
      "100%|██████████| 18000/18000 [00:41<00:00, 436.58it/s]\n"
     ]
    },
    {
     "name": "stdout",
     "output_type": "stream",
     "text": [
      "Done!\n"
     ]
    }
   ],
   "source": [
    "# Get and resize test images\n",
    "X_test = np.zeros((len(test_ids), im_height, im_width, im_chan), dtype=np.float32)\n",
    "\n",
    "print('Getting and resizing test images ... ')\n",
    "\n",
    "for n, id_ in tqdm(enumerate(test_ids), total=len(test_ids)):\n",
    "    X_test[n] = load_resized(os.path.join(PATH, 'test', 'images', '%s.png' % id_))\n",
    "    \n",
    "X_test /= 255.0    \n",
    "X_test -= mean\n",
    "X_test /= std\n",
    "print('Done!')"
   ]
  },
  {
   "cell_type": "code",
   "execution_count": 21,
   "metadata": {},
   "outputs": [],
   "source": [
    "np.save('input/X_train2.npy', X_train)\n",
    "np.save('input/y_train2.npy', Y_train)\n",
    "np.save('input/X_test2.npy', X_test)"
   ]
  },
  {
   "cell_type": "code",
   "execution_count": null,
   "metadata": {},
   "outputs": [],
   "source": []
  }
 ],
 "metadata": {
  "kernelspec": {
   "display_name": "Python 3",
   "language": "python",
   "name": "python3"
  },
  "language_info": {
   "codemirror_mode": {
    "name": "ipython",
    "version": 3
   },
   "file_extension": ".py",
   "mimetype": "text/x-python",
   "name": "python",
   "nbconvert_exporter": "python",
   "pygments_lexer": "ipython3",
   "version": "3.6.5"
  }
 },
 "nbformat": 4,
 "nbformat_minor": 2
}
