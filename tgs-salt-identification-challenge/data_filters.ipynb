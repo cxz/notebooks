{
 "cells": [
  {
   "cell_type": "code",
   "execution_count": 23,
   "metadata": {},
   "outputs": [],
   "source": [
    "import os\n",
    "import tensorflow as tf\n",
    "os.environ['KERAS_BACKEND'] = 'tensorflow'\n",
    "\n",
    "import sys\n",
    "import random\n",
    "import warnings\n",
    "\n",
    "import pandas as pd\n",
    "import numpy as np\n",
    "import matplotlib.pyplot as plt\n",
    "%matplotlib inline\n",
    "\n",
    "import cv2\n",
    "\n",
    "from tqdm import tqdm\n",
    "from itertools import chain\n",
    "from skimage.io import imread, imshow, concatenate_images\n",
    "from skimage.transform import resize\n",
    "from skimage.morphology import label\n",
    "import skimage\n",
    "\n",
    "import tensorflow as tf\n",
    "\n",
    "from keras.preprocessing.image import array_to_img, img_to_array, load_img\n",
    "        \n",
    "PATH = 'input'\n",
    "\n",
    "train_df = pd.read_csv('input/train.csv')\n",
    "train_ids = train_df.id.values\n",
    "\n",
    "sample_df = pd.read_csv('input/sample_submission.csv')\n",
    "test_ids = sample_df.id.values"
   ]
  },
  {
   "cell_type": "code",
   "execution_count": 48,
   "metadata": {},
   "outputs": [
    {
     "name": "stderr",
     "output_type": "stream",
     "text": [
      "  0%|          | 0/4000 [00:00<?, ?it/s]/opt/miniconda2/envs/avito/lib/python3.6/site-packages/skimage/transform/_warps.py:110: UserWarning: Anti-aliasing will be enabled by default in skimage 0.15 to avoid aliasing artifacts when down-sampling images.\n",
      "  warn(\"Anti-aliasing will be enabled by default in skimage 0.15 to \"\n",
      "  0%|          | 17/4000 [00:00<00:24, 162.31it/s]"
     ]
    },
    {
     "name": "stdout",
     "output_type": "stream",
     "text": [
      "Getting and resizing train images and masks ... \n"
     ]
    },
    {
     "name": "stderr",
     "output_type": "stream",
     "text": [
      "100%|██████████| 4000/4000 [00:14<00:00, 267.92it/s]"
     ]
    },
    {
     "name": "stdout",
     "output_type": "stream",
     "text": [
      "Done!\n"
     ]
    },
    {
     "name": "stderr",
     "output_type": "stream",
     "text": [
      "\n"
     ]
    }
   ],
   "source": [
    "im_width = 128\n",
    "im_height = 128\n",
    "im_chan = 4\n",
    "\n",
    "def load_and_resize(path):\n",
    "    img = load_img(path)  \n",
    "    x = img_to_array(img)[:,:,1]\n",
    "    if x.shape != (101, 101):\n",
    "        print(path, shape)\n",
    "    x = resize(x, (128, 128, 1), mode='constant', preserve_range=True)\n",
    "    return x\n",
    "\n",
    "# Get and resize train images and masks\n",
    "X_train = np.zeros((len(train_ids), im_height, im_width, im_chan), dtype=np.float32)\n",
    "Y_train = np.zeros((len(train_ids), im_height, im_width, 1), dtype=np.bool)\n",
    "print('Getting and resizing train images and masks ... ')\n",
    "\n",
    "for n, id_ in tqdm(enumerate(train_ids), total=len(train_ids)):    \n",
    "    x = load_and_resize(os.path.join(PATH, 'train', 'images', \"%s.png\" % id_))\n",
    "    x = x[..., 0]\n",
    "    \n",
    "    Y_train[n] = load_and_resize(os.path.join(PATH, 'train', 'masks', \"%s.png\" % id_))\n",
    "        \n",
    "    X_train[n, ..., 0] = x\n",
    "    X_train[n, ..., 1] = x.cumsum(axis=0)\n",
    "    X_train[n, ..., 2] = skimage.filters.sobel_v(x)\n",
    "    X_train[n, ..., 3] = skimage.filters.sobel_h(x)\n",
    "        \n",
    "print('Done!')"
   ]
  },
  {
   "cell_type": "code",
   "execution_count": null,
   "metadata": {},
   "outputs": [],
   "source": []
  },
  {
   "cell_type": "code",
   "execution_count": null,
   "metadata": {},
   "outputs": [],
   "source": []
  },
  {
   "cell_type": "code",
   "execution_count": 50,
   "metadata": {},
   "outputs": [
    {
     "name": "stderr",
     "output_type": "stream",
     "text": [
      "  0%|          | 0/18000 [00:00<?, ?it/s]/opt/miniconda2/envs/avito/lib/python3.6/site-packages/skimage/transform/_warps.py:110: UserWarning: Anti-aliasing will be enabled by default in skimage 0.15 to avoid aliasing artifacts when down-sampling images.\n",
      "  warn(\"Anti-aliasing will be enabled by default in skimage 0.15 to \"\n",
      "  0%|          | 36/18000 [00:00<00:50, 356.40it/s]"
     ]
    },
    {
     "name": "stdout",
     "output_type": "stream",
     "text": [
      "Getting and resizing test images ... \n"
     ]
    },
    {
     "name": "stderr",
     "output_type": "stream",
     "text": [
      "100%|██████████| 18000/18000 [00:40<00:00, 440.62it/s]\n"
     ]
    }
   ],
   "source": [
    "# Get and resize test images\n",
    "X_test = np.zeros((len(test_ids), im_height, im_width, im_chan), dtype=np.float32)\n",
    "\n",
    "print('Getting and resizing test images ... ')\n",
    "\n",
    "for n, id_ in tqdm(enumerate(test_ids), total=len(test_ids)):\n",
    "    x = load_and_resize(os.path.join(PATH, 'test', 'images', '%s.png' % id_))\n",
    "    x = x[..., 0]\n",
    "    \n",
    "    X_test[n, ..., 0] = x\n",
    "    X_test[n, ..., 1] = x.cumsum(axis=0)\n",
    "    X_test[n, ..., 2] = skimage.filters.sobel_v(x)\n",
    "    X_test[n, ..., 3] = skimage.filters.sobel_h(x)\n"
   ]
  },
  {
   "cell_type": "code",
   "execution_count": 51,
   "metadata": {},
   "outputs": [
    {
     "name": "stdout",
     "output_type": "stream",
     "text": [
      "0 119.94996 40.376907\n",
      "1 7735.771 4942.955\n",
      "2 -0.0008432991 14.431183\n",
      "3 0.0014509524 17.086712\n"
     ]
    }
   ],
   "source": [
    "for ch in range(4):\n",
    "    ch_mean = np.mean(X_train[..., ch])\n",
    "    ch_std = np.std(X_train[..., ch])\n",
    "    print(ch, ch_mean, ch_std)\n",
    "    X_train[...,ch] -= ch_mean\n",
    "    X_train[...,ch] /= ch_std\n",
    "    X_test[...,ch] -= ch_mean\n",
    "    X_test[...,ch] /= ch_std\n"
   ]
  },
  {
   "cell_type": "code",
   "execution_count": 63,
   "metadata": {},
   "outputs": [],
   "source": [
    "for ch in range(1, 4):\n",
    "    ch_max = np.max(X_train[..., ch])\n",
    "    X_train[..., ch] /= ch_max\n",
    "    X_test[..., ch] /= ch_max"
   ]
  },
  {
   "cell_type": "code",
   "execution_count": 44,
   "metadata": {},
   "outputs": [
    {
     "data": {
      "text/plain": [
       "((4000, 128, 128, 4), (4000, 128, 128, 1), (18000, 128, 128, 4))"
      ]
     },
     "execution_count": 44,
     "metadata": {},
     "output_type": "execute_result"
    }
   ],
   "source": [
    "X_train.shape, Y_train.shape, X_test.shape"
   ]
  },
  {
   "cell_type": "code",
   "execution_count": 64,
   "metadata": {},
   "outputs": [],
   "source": [
    "np.save('input/X_train_filters.npy', X_train)\n",
    "np.save('input/y_train_filters.npy', Y_train)\n",
    "np.save('input/X_test_filters.npy', X_test)"
   ]
  },
  {
   "cell_type": "code",
   "execution_count": 3,
   "metadata": {},
   "outputs": [],
   "source": [
    "def load_extra():\n",
    "    depths_df = pd.read_csv('input/depths.csv')\n",
    "    z_dict = depths_df.set_index('id').to_dict()['z']\n",
    "    X_train = np.array([z_dict[x] for x in train_ids])\n",
    "    X_test = np.array([z_dict[x] for x in test_ids])\n",
    "    \n",
    "    z_mean = np.mean(X_train)\n",
    "    z_std = np.std(X_train)\n",
    "    \n",
    "    X_train -= z_mean\n",
    "    X_train /= z_std\n",
    "    \n",
    "    X_test -= z_mean\n",
    "    X_test /= z_std\n",
    "    \n",
    "    return X_train, X_test\n",
    "\n",
    "X_train, X_test = load_extra()\n"
   ]
  },
  {
   "cell_type": "code",
   "execution_count": null,
   "metadata": {},
   "outputs": [],
   "source": []
  },
  {
   "cell_type": "code",
   "execution_count": null,
   "metadata": {},
   "outputs": [],
   "source": []
  },
  {
   "cell_type": "code",
   "execution_count": null,
   "metadata": {},
   "outputs": [],
   "source": []
  },
  {
   "cell_type": "code",
   "execution_count": null,
   "metadata": {},
   "outputs": [],
   "source": []
  },
  {
   "cell_type": "code",
   "execution_count": null,
   "metadata": {},
   "outputs": [],
   "source": []
  },
  {
   "cell_type": "code",
   "execution_count": null,
   "metadata": {},
   "outputs": [],
   "source": []
  }
 ],
 "metadata": {
  "kernelspec": {
   "display_name": "Python 3",
   "language": "python",
   "name": "python3"
  },
  "language_info": {
   "codemirror_mode": {
    "name": "ipython",
    "version": 3
   },
   "file_extension": ".py",
   "mimetype": "text/x-python",
   "name": "python",
   "nbconvert_exporter": "python",
   "pygments_lexer": "ipython3",
   "version": "3.6.5"
  }
 },
 "nbformat": 4,
 "nbformat_minor": 2
}
