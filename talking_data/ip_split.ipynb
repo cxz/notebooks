{
 "cells": [
  {
   "cell_type": "code",
   "execution_count": 22,
   "metadata": {},
   "outputs": [],
   "source": [
    "\"\"\" \n",
    "\n",
    "    Build train & val sets based on ip as well. \n",
    "\n",
    "Assign rows to 1, 2, 3 according to ip.\n",
    "1: only train\n",
    "2: only test\n",
    "3: common in train & test\n",
    "\"\"\"\n",
    "\n",
    "import pandas as pd\n",
    "from tqdm import tqdm\n",
    "\n",
    "TRAIN_CSV = 'input/train.csv'\n",
    "TEST_V0_CSV = 'input/test_v0.csv'\n",
    "\n",
    "dtypes = {\n",
    "    'ip':'uint32',\n",
    "    'app': 'uint16',\n",
    "    'device': 'uint16',\n",
    "    'os': 'uint16',\n",
    "    'channel': 'uint16',\n",
    "    'is_attributed': 'uint8'\n",
    "}\n",
    "\n",
    "def check_overlapping(column):    \n",
    "    df_train = pd.read_csv(TRAIN_CSV, dtype=dtypes, usecols=[column])\n",
    "    df_test = pd.read_csv(TEST_V0_CSV, dtype=dtypes, usecols=[column])\n",
    "    train_values = set(list(df_train.loc[:, column].values))\n",
    "    test_values = set(list(df_test.loc[:, column].values))\n",
    "    \n",
    "    x1 = train_values - test_values\n",
    "    x2 = test_values - train_values\n",
    "    x3 = train_values & test_values\n",
    "    return x1, x2, x3\n",
    "    \n",
    "    \n",
    "def build_mapping(train_only, test_only, common):\n",
    "    print('load train')\n",
    "    train_df = pd.read_csv(TRAIN_CSV, usecols=['ip'])\n",
    "    \n",
    "    print('load test')\n",
    "    test_df = pd.read_csv(TEST_V0_CSV, usecols=['ip']) \n",
    "\n",
    "    df = train_df.append(test_df) \n",
    "    print('.')\n",
    "    \n",
    "    ips = df['ip'].values\n",
    "    mapped = [0]* len(ips)\n",
    "    \n",
    "    for idx, x in tqdm(enumerate(ips), mininterval=5):\n",
    "        if x in train_only:\n",
    "            mapped[idx] = 1\n",
    "        elif x in test_only:\n",
    "            mapped[idx] = 2 \n",
    "        elif x in common:\n",
    "            mapped[idx] = 3\n",
    "    return mapped\n"
   ]
  },
  {
   "cell_type": "code",
   "execution_count": 23,
   "metadata": {},
   "outputs": [],
   "source": [
    "x1, x2, x3 = check_overlapping('ip')"
   ]
  },
  {
   "cell_type": "code",
   "execution_count": 24,
   "metadata": {},
   "outputs": [
    {
     "data": {
      "text/plain": [
       "(238365, 87383, 39031)"
      ]
     },
     "execution_count": 24,
     "metadata": {},
     "output_type": "execute_result"
    }
   ],
   "source": [
    "len(x1), len(x2), len(x3)"
   ]
  },
  {
   "cell_type": "code",
   "execution_count": 25,
   "metadata": {},
   "outputs": [
    {
     "name": "stdout",
     "output_type": "stream",
     "text": [
      "load train\n",
      "load test\n"
     ]
    },
    {
     "name": "stderr",
     "output_type": "stream",
     "text": [
      "0it [00:00, ?it/s]"
     ]
    },
    {
     "name": "stdout",
     "output_type": "stream",
     "text": [
      ".\n"
     ]
    },
    {
     "name": "stderr",
     "output_type": "stream",
     "text": [
      "242441395it [18:11, 222054.01it/s]\n"
     ]
    }
   ],
   "source": [
    "train_only = x1\n",
    "test_only = x2\n",
    "common = x3\n",
    "mapped = build_mapping(train_only, test_only, common)"
   ]
  },
  {
   "cell_type": "code",
   "execution_count": 26,
   "metadata": {},
   "outputs": [
    {
     "data": {
      "text/plain": [
       "list"
      ]
     },
     "execution_count": 26,
     "metadata": {},
     "output_type": "execute_result"
    }
   ],
   "source": [
    "type(mapped)"
   ]
  },
  {
   "cell_type": "code",
   "execution_count": 28,
   "metadata": {},
   "outputs": [],
   "source": [
    "import pickle\n",
    "with open('cache/ip_mapping.pkl', 'wb') as f:\n",
    "    pickle.dump([mapped, train_only, test_only, common], f)"
   ]
  },
  {
   "cell_type": "code",
   "execution_count": 30,
   "metadata": {},
   "outputs": [
    {
     "data": {
      "text/plain": [
       "1"
      ]
     },
     "execution_count": 30,
     "metadata": {},
     "output_type": "execute_result"
    }
   ],
   "source": [
    "min(mapped)"
   ]
  },
  {
   "cell_type": "code",
   "execution_count": null,
   "metadata": {},
   "outputs": [],
   "source": []
  }
 ],
 "metadata": {
  "kernelspec": {
   "display_name": "Python 3",
   "language": "python",
   "name": "python3"
  },
  "language_info": {
   "codemirror_mode": {
    "name": "ipython",
    "version": 3
   },
   "file_extension": ".py",
   "mimetype": "text/x-python",
   "name": "python",
   "nbconvert_exporter": "python",
   "pygments_lexer": "ipython3",
   "version": "3.6.2"
  }
 },
 "nbformat": 4,
 "nbformat_minor": 2
}
