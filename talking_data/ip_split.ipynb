{
 "cells": [
  {
   "cell_type": "code",
   "execution_count": 22,
   "metadata": {},
   "outputs": [],
   "source": [
    "\"\"\" \n",
    "\n",
    "    Check which IPs are common to train & test.\n",
    "\n",
    "Assign rows to 1, 2, 3 according to ip.\n",
    "1: only train\n",
    "2: only test\n",
    "3: common in train & test\n",
    "\"\"\"\n",
    "\n",
    "import pandas as pd\n",
    "from tqdm import tqdm\n",
    "\n",
    "TRAIN_CSV = 'input/train.csv'\n",
    "TEST_V0_CSV = 'input/test_v0.csv'\n",
    "\n",
    "dtypes = {\n",
    "    'ip':'uint32',\n",
    "    'app': 'uint16',\n",
    "    'device': 'uint16',\n",
    "    'os': 'uint16',\n",
    "    'channel': 'uint16',\n",
    "    'is_attributed': 'uint8'\n",
    "}\n",
    "\n",
    "def check_overlapping(column):    \n",
    "    df_train = pd.read_csv(TRAIN_CSV, dtype=dtypes, usecols=[column])\n",
    "    df_test = pd.read_csv(TEST_V0_CSV, dtype=dtypes, usecols=[column])\n",
    "    train_values = set(list(df_train.loc[:, column].values))\n",
    "    test_values = set(list(df_test.loc[:, column].values))\n",
    "    \n",
    "    x1 = train_values - test_values\n",
    "    x2 = test_values - train_values\n",
    "    x3 = train_values & test_values\n",
    "    return x1, x2, x3\n",
    "    \n",
    "    \n",
    "def build_mapping(train_only, test_only, common):\n",
    "    print('load train')\n",
    "    train_df = pd.read_csv(TRAIN_CSV, usecols=['ip'])\n",
    "    \n",
    "    print('load test')\n",
    "    test_df = pd.read_csv(TEST_V0_CSV, usecols=['ip']) \n",
    "\n",
    "    df = train_df.append(test_df) \n",
    "    print('.')\n",
    "    \n",
    "    ips = df['ip'].values\n",
    "    mapped = [0]* len(ips)\n",
    "    \n",
    "    for idx, x in tqdm(enumerate(ips), mininterval=5):\n",
    "        if x in train_only:\n",
    "            mapped[idx] = 1\n",
    "        elif x in test_only:\n",
    "            mapped[idx] = 2 \n",
    "        elif x in common:\n",
    "            mapped[idx] = 3\n",
    "    return mapped\n"
   ]
  },
  {
   "cell_type": "code",
   "execution_count": 23,
   "metadata": {},
   "outputs": [],
   "source": [
    "train_only, test_only, common = check_overlapping('ip')"
   ]
  },
  {
   "cell_type": "code",
   "execution_count": 24,
   "metadata": {},
   "outputs": [
    {
     "data": {
      "text/plain": [
       "(238365, 87383, 39031)"
      ]
     },
     "execution_count": 24,
     "metadata": {},
     "output_type": "execute_result"
    }
   ],
   "source": [
    "len(train_only), len(test_only), len(common)"
   ]
  },
  {
   "cell_type": "code",
   "execution_count": 25,
   "metadata": {},
   "outputs": [
    {
     "name": "stdout",
     "output_type": "stream",
     "text": [
      "load train\n",
      "load test\n"
     ]
    },
    {
     "name": "stderr",
     "output_type": "stream",
     "text": [
      "0it [00:00, ?it/s]"
     ]
    },
    {
     "name": "stdout",
     "output_type": "stream",
     "text": [
      ".\n"
     ]
    },
    {
     "name": "stderr",
     "output_type": "stream",
     "text": [
      "242441395it [18:11, 222054.01it/s]\n"
     ]
    }
   ],
   "source": [
    "mapped = build_mapping(train_only, test_only, common)"
   ]
  },
  {
   "cell_type": "code",
   "execution_count": 26,
   "metadata": {},
   "outputs": [
    {
     "data": {
      "text/plain": [
       "list"
      ]
     },
     "execution_count": 26,
     "metadata": {},
     "output_type": "execute_result"
    }
   ],
   "source": [
    "type(mapped)"
   ]
  },
  {
   "cell_type": "code",
   "execution_count": 28,
   "metadata": {},
   "outputs": [],
   "source": [
    "import pickle\n",
    "with open('cache/ip_mapping.pkl', 'wb') as f:\n",
    "    pickle.dump([mapped, train_only, test_only, common], f)"
   ]
  },
  {
   "cell_type": "code",
   "execution_count": 30,
   "metadata": {},
   "outputs": [
    {
     "data": {
      "text/plain": [
       "1"
      ]
     },
     "execution_count": 30,
     "metadata": {},
     "output_type": "execute_result"
    }
   ],
   "source": []
  },
  {
   "cell_type": "code",
   "execution_count": 1,
   "metadata": {},
   "outputs": [],
   "source": [
    "import pickle\n",
    "import os\n",
    "\n",
    "with open('cache/ip_mapping.pkl', 'rb') as f:\n",
    "    mapped, _, _, _ = pickle.load(f)"
   ]
  },
  {
   "cell_type": "code",
   "execution_count": 2,
   "metadata": {},
   "outputs": [],
   "source": [
    "\n",
    "with open(os.path.join('cache/train_test_base.pkl'), 'rb') as f:        \n",
    "    df = pickle.load(f)        \n",
    "    df = df.reset_index(drop=True)\n"
   ]
  },
  {
   "cell_type": "code",
   "execution_count": 3,
   "metadata": {},
   "outputs": [],
   "source": [
    "ips = df[['ip']].values"
   ]
  },
  {
   "cell_type": "code",
   "execution_count": 4,
   "metadata": {},
   "outputs": [],
   "source": [
    "import numpy as np\n",
    "mapped = np.array(mapped)\n",
    "\n"
   ]
  },
  {
   "cell_type": "code",
   "execution_count": 6,
   "metadata": {},
   "outputs": [
    {
     "name": "stdout",
     "output_type": "stream",
     "text": [
      "201189954\n",
      ".\n"
     ]
    }
   ],
   "source": [
    "print(np.sum((mapped==3).astype(np.uint8)))\n",
    "print('.')"
   ]
  },
  {
   "cell_type": "code",
   "execution_count": 5,
   "metadata": {},
   "outputs": [
    {
     "data": {
      "text/plain": [
       "242441395"
      ]
     },
     "execution_count": 5,
     "metadata": {},
     "output_type": "execute_result"
    }
   ],
   "source": [
    "len(ips)"
   ]
  },
  {
   "cell_type": "code",
   "execution_count": null,
   "metadata": {},
   "outputs": [],
   "source": [
    "df_train = pd.read_csv(TRAIN_CSV, dtype=dtypes, usecols=[column], parse_dates=['click_time'])\n",
    "df_test = pd.read_csv(TEST_V0_CSV, dtype=dtypes, usecols=[column], parse_dates=['click_time'])\n",
    "\n",
    "df_train['day'] = df_train.click_time.dt.day.astype('uint8')\n",
    "df_train89 = df_train[df_train.day.isin([8, 9])]\n",
    "\n",
    "def check_overlapping(df1, df2, column):    \n",
    "    x1_values = set(list(x1.loc[:, column].values))\n",
    "    x2_values = set(list(x2.loc[:, column].values))\n",
    "    \n",
    "    x1 = x1_values - x2_values\n",
    "    x2 = x2_values - x1_values\n",
    "    x3 = x1_values & x2_values\n",
    "    return x1, x2, x3\n",
    "\n",
    "print(check_overlapping(df_train89, df_test, 'ip'))"
   ]
  }
 ],
 "metadata": {
  "kernelspec": {
   "display_name": "Python 3",
   "language": "python",
   "name": "python3"
  },
  "language_info": {
   "codemirror_mode": {
    "name": "ipython",
    "version": 3
   },
   "file_extension": ".py",
   "mimetype": "text/x-python",
   "name": "python",
   "nbconvert_exporter": "python",
   "pygments_lexer": "ipython3",
   "version": "3.6.2"
  }
 },
 "nbformat": 4,
 "nbformat_minor": 2
}
