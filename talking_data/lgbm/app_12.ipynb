{
 "cells": [
  {
   "cell_type": "code",
   "execution_count": 2,
   "metadata": {},
   "outputs": [],
   "source": [
    "import os\n",
    "import pickle\n",
    "import seaborn as sns\n",
    "import matplotlib.pyplot as plt\n",
    "\n",
    "import data\n",
    "\n",
    "with open(os.path.join('../cache', 'train_test_base.pkl'), 'rb') as f:    \n",
    "    df = pickle.load(f)        \n",
    "    df = df.reset_index(drop=True)\n",
    "        \n",
    "ips = df['ip'].values\n",
    "\n",
    "#df, ips, click_times = data.load()"
   ]
  },
  {
   "cell_type": "code",
   "execution_count": 4,
   "metadata": {},
   "outputs": [],
   "source": [
    "click_times = df['click_time'].values"
   ]
  },
  {
   "cell_type": "code",
   "execution_count": 5,
   "metadata": {},
   "outputs": [],
   "source": [
    "import numpy as np\n",
    "\n",
    "def datetime_to_deltas(series, delta=np.timedelta64(1, 's')):\n",
    "    t0 = series.min()\n",
    "    return ((series-t0)/delta).astype(np.int32)\n",
    "\n",
    "df['t'] = datetime_to_deltas(click_times)\n",
    "#df['t_minutes'] = df['t'].floordiv(60)"
   ]
  },
  {
   "cell_type": "code",
   "execution_count": 34,
   "metadata": {},
   "outputs": [
    {
     "name": "stdout",
     "output_type": "stream",
     "text": [
      "<class 'pandas.core.frame.DataFrame'>\n",
      "RangeIndex: 242441395 entries, 0 to 242441394\n",
      "Data columns (total 10 columns):\n",
      "app              uint16\n",
      "channel          uint16\n",
      "click_time       datetime64[ns]\n",
      "device           uint16\n",
      "ip               uint32\n",
      "is_attributed    uint8\n",
      "os               uint16\n",
      "hour             uint8\n",
      "day              uint8\n",
      "t                int32\n",
      "dtypes: datetime64[ns](1), int32(1), uint16(4), uint32(1), uint8(3)\n",
      "memory usage: 6.1 GB\n"
     ]
    }
   ],
   "source": [
    "df.info()"
   ]
  },
  {
   "cell_type": "code",
   "execution_count": 63,
   "metadata": {},
   "outputs": [],
   "source": [
    "\n",
    "df_12 = df.iloc[:data.TRAIN_ROWS]\n",
    "df_12 = df_12[df_12.app==3]\n",
    "\n",
    "# how many different IPs per second\n",
    "x_app_12 = df_12[['ip', 't']].groupby(['t'])[['ip']].count().reset_index().rename(index=str, columns={'t': 't_delta'})\n",
    "\n",
    "# set 0's across all time steps\n",
    "x = np.zeros((df_12['t'].max()+1,), dtype=np.uint16)\n",
    "\n",
    "# set counts where different than 0\n",
    "x[x_app_12.t_delta.values.ravel()] = x_app_12.ip.values\n",
    "\n",
    "\n",
    "x_app_12t = df_12[df_12.is_attributed==1][['ip', 't']].groupby(['t'])[['ip']].count().reset_index().rename(index=str, columns={'t': 't_delta'})\n",
    "\n",
    "# initialize with all zeros for all time steps\n",
    "xt = np.zeros((df_12['t'].max()+1,), dtype=np.uint16)\n",
    "\n",
    "# set counts \n",
    "xt[x_app_12t.t_delta.values.ravel()] = x_app_12t.ip.values"
   ]
  },
  {
   "cell_type": "code",
   "execution_count": 62,
   "metadata": {},
   "outputs": [
    {
     "data": {
      "text/plain": [
       "array([ 0,  0,  0,  0,  0,  0,  0,  0,  0, 41], dtype=uint16)"
      ]
     },
     "execution_count": 62,
     "metadata": {},
     "output_type": "execute_result"
    }
   ],
   "source": [
    "x[5250:5260]"
   ]
  },
  {
   "cell_type": "code",
   "execution_count": 15,
   "metadata": {},
   "outputs": [],
   "source": [
    "#x = df[['ip', 't']].groupby(['t'])[['ip']].count().reset_index()"
   ]
  },
  {
   "cell_type": "code",
   "execution_count": 21,
   "metadata": {},
   "outputs": [],
   "source": [
    "with open(\"../cache/cps_ip.pkl\", \"rb\") as f:\n",
    "    u = pickle.load(f)\n",
    "\n"
   ]
  },
  {
   "cell_type": "code",
   "execution_count": 54,
   "metadata": {},
   "outputs": [],
   "source": [
    "df['u'] = u"
   ]
  },
  {
   "cell_type": "code",
   "execution_count": 56,
   "metadata": {},
   "outputs": [
    {
     "data": {
      "text/html": [
       "<div>\n",
       "<style scoped>\n",
       "    .dataframe tbody tr th:only-of-type {\n",
       "        vertical-align: middle;\n",
       "    }\n",
       "\n",
       "    .dataframe tbody tr th {\n",
       "        vertical-align: top;\n",
       "    }\n",
       "\n",
       "    .dataframe thead th {\n",
       "        text-align: right;\n",
       "    }\n",
       "</style>\n",
       "<table border=\"1\" class=\"dataframe\">\n",
       "  <thead>\n",
       "    <tr style=\"text-align: right;\">\n",
       "      <th></th>\n",
       "      <th>app</th>\n",
       "      <th>channel</th>\n",
       "      <th>click_time</th>\n",
       "      <th>device</th>\n",
       "      <th>ip</th>\n",
       "      <th>is_attributed</th>\n",
       "      <th>os</th>\n",
       "      <th>hour</th>\n",
       "      <th>day</th>\n",
       "      <th>t</th>\n",
       "      <th>u</th>\n",
       "    </tr>\n",
       "  </thead>\n",
       "  <tbody>\n",
       "    <tr>\n",
       "      <th>490</th>\n",
       "      <td>12</td>\n",
       "      <td>245</td>\n",
       "      <td>2017-11-06 16:00:00</td>\n",
       "      <td>1</td>\n",
       "      <td>156391</td>\n",
       "      <td>0</td>\n",
       "      <td>19</td>\n",
       "      <td>16</td>\n",
       "      <td>6</td>\n",
       "      <td>5259</td>\n",
       "      <td>283</td>\n",
       "    </tr>\n",
       "    <tr>\n",
       "      <th>498</th>\n",
       "      <td>12</td>\n",
       "      <td>265</td>\n",
       "      <td>2017-11-06 16:00:00</td>\n",
       "      <td>1</td>\n",
       "      <td>67708</td>\n",
       "      <td>0</td>\n",
       "      <td>11</td>\n",
       "      <td>16</td>\n",
       "      <td>6</td>\n",
       "      <td>5259</td>\n",
       "      <td>283</td>\n",
       "    </tr>\n",
       "    <tr>\n",
       "      <th>504</th>\n",
       "      <td>12</td>\n",
       "      <td>326</td>\n",
       "      <td>2017-11-06 16:00:00</td>\n",
       "      <td>1</td>\n",
       "      <td>73516</td>\n",
       "      <td>0</td>\n",
       "      <td>16</td>\n",
       "      <td>16</td>\n",
       "      <td>6</td>\n",
       "      <td>5259</td>\n",
       "      <td>283</td>\n",
       "    </tr>\n",
       "    <tr>\n",
       "      <th>519</th>\n",
       "      <td>12</td>\n",
       "      <td>245</td>\n",
       "      <td>2017-11-06 16:00:00</td>\n",
       "      <td>1</td>\n",
       "      <td>62129</td>\n",
       "      <td>0</td>\n",
       "      <td>13</td>\n",
       "      <td>16</td>\n",
       "      <td>6</td>\n",
       "      <td>5259</td>\n",
       "      <td>283</td>\n",
       "    </tr>\n",
       "    <tr>\n",
       "      <th>529</th>\n",
       "      <td>12</td>\n",
       "      <td>245</td>\n",
       "      <td>2017-11-06 16:00:00</td>\n",
       "      <td>1</td>\n",
       "      <td>49057</td>\n",
       "      <td>0</td>\n",
       "      <td>8</td>\n",
       "      <td>16</td>\n",
       "      <td>6</td>\n",
       "      <td>5259</td>\n",
       "      <td>283</td>\n",
       "    </tr>\n",
       "    <tr>\n",
       "      <th>554</th>\n",
       "      <td>12</td>\n",
       "      <td>245</td>\n",
       "      <td>2017-11-06 16:00:00</td>\n",
       "      <td>1</td>\n",
       "      <td>194881</td>\n",
       "      <td>0</td>\n",
       "      <td>4</td>\n",
       "      <td>16</td>\n",
       "      <td>6</td>\n",
       "      <td>5259</td>\n",
       "      <td>283</td>\n",
       "    </tr>\n",
       "    <tr>\n",
       "      <th>561</th>\n",
       "      <td>12</td>\n",
       "      <td>245</td>\n",
       "      <td>2017-11-06 16:00:00</td>\n",
       "      <td>1</td>\n",
       "      <td>20488</td>\n",
       "      <td>0</td>\n",
       "      <td>19</td>\n",
       "      <td>16</td>\n",
       "      <td>6</td>\n",
       "      <td>5259</td>\n",
       "      <td>283</td>\n",
       "    </tr>\n",
       "    <tr>\n",
       "      <th>576</th>\n",
       "      <td>12</td>\n",
       "      <td>140</td>\n",
       "      <td>2017-11-06 16:00:00</td>\n",
       "      <td>1</td>\n",
       "      <td>95509</td>\n",
       "      <td>0</td>\n",
       "      <td>20</td>\n",
       "      <td>16</td>\n",
       "      <td>6</td>\n",
       "      <td>5259</td>\n",
       "      <td>283</td>\n",
       "    </tr>\n",
       "    <tr>\n",
       "      <th>585</th>\n",
       "      <td>12</td>\n",
       "      <td>259</td>\n",
       "      <td>2017-11-06 16:00:00</td>\n",
       "      <td>1</td>\n",
       "      <td>101941</td>\n",
       "      <td>0</td>\n",
       "      <td>9</td>\n",
       "      <td>16</td>\n",
       "      <td>6</td>\n",
       "      <td>5259</td>\n",
       "      <td>283</td>\n",
       "    </tr>\n",
       "    <tr>\n",
       "      <th>589</th>\n",
       "      <td>12</td>\n",
       "      <td>178</td>\n",
       "      <td>2017-11-06 16:00:00</td>\n",
       "      <td>1</td>\n",
       "      <td>48646</td>\n",
       "      <td>0</td>\n",
       "      <td>19</td>\n",
       "      <td>16</td>\n",
       "      <td>6</td>\n",
       "      <td>5259</td>\n",
       "      <td>283</td>\n",
       "    </tr>\n",
       "    <tr>\n",
       "      <th>597</th>\n",
       "      <td>12</td>\n",
       "      <td>140</td>\n",
       "      <td>2017-11-06 16:00:00</td>\n",
       "      <td>1</td>\n",
       "      <td>118408</td>\n",
       "      <td>0</td>\n",
       "      <td>1</td>\n",
       "      <td>16</td>\n",
       "      <td>6</td>\n",
       "      <td>5259</td>\n",
       "      <td>283</td>\n",
       "    </tr>\n",
       "    <tr>\n",
       "      <th>606</th>\n",
       "      <td>12</td>\n",
       "      <td>19</td>\n",
       "      <td>2017-11-06 16:00:00</td>\n",
       "      <td>1</td>\n",
       "      <td>197710</td>\n",
       "      <td>0</td>\n",
       "      <td>19</td>\n",
       "      <td>16</td>\n",
       "      <td>6</td>\n",
       "      <td>5259</td>\n",
       "      <td>283</td>\n",
       "    </tr>\n",
       "    <tr>\n",
       "      <th>608</th>\n",
       "      <td>12</td>\n",
       "      <td>259</td>\n",
       "      <td>2017-11-06 16:00:00</td>\n",
       "      <td>1</td>\n",
       "      <td>82240</td>\n",
       "      <td>0</td>\n",
       "      <td>15</td>\n",
       "      <td>16</td>\n",
       "      <td>6</td>\n",
       "      <td>5259</td>\n",
       "      <td>283</td>\n",
       "    </tr>\n",
       "    <tr>\n",
       "      <th>610</th>\n",
       "      <td>12</td>\n",
       "      <td>259</td>\n",
       "      <td>2017-11-06 16:00:00</td>\n",
       "      <td>1</td>\n",
       "      <td>100724</td>\n",
       "      <td>0</td>\n",
       "      <td>30</td>\n",
       "      <td>16</td>\n",
       "      <td>6</td>\n",
       "      <td>5259</td>\n",
       "      <td>283</td>\n",
       "    </tr>\n",
       "    <tr>\n",
       "      <th>613</th>\n",
       "      <td>12</td>\n",
       "      <td>245</td>\n",
       "      <td>2017-11-06 16:00:00</td>\n",
       "      <td>1</td>\n",
       "      <td>27478</td>\n",
       "      <td>0</td>\n",
       "      <td>13</td>\n",
       "      <td>16</td>\n",
       "      <td>6</td>\n",
       "      <td>5259</td>\n",
       "      <td>283</td>\n",
       "    </tr>\n",
       "    <tr>\n",
       "      <th>614</th>\n",
       "      <td>12</td>\n",
       "      <td>328</td>\n",
       "      <td>2017-11-06 16:00:00</td>\n",
       "      <td>1</td>\n",
       "      <td>75825</td>\n",
       "      <td>0</td>\n",
       "      <td>1</td>\n",
       "      <td>16</td>\n",
       "      <td>6</td>\n",
       "      <td>5259</td>\n",
       "      <td>283</td>\n",
       "    </tr>\n",
       "    <tr>\n",
       "      <th>629</th>\n",
       "      <td>12</td>\n",
       "      <td>245</td>\n",
       "      <td>2017-11-06 16:00:00</td>\n",
       "      <td>1</td>\n",
       "      <td>65459</td>\n",
       "      <td>0</td>\n",
       "      <td>19</td>\n",
       "      <td>16</td>\n",
       "      <td>6</td>\n",
       "      <td>5259</td>\n",
       "      <td>283</td>\n",
       "    </tr>\n",
       "    <tr>\n",
       "      <th>634</th>\n",
       "      <td>12</td>\n",
       "      <td>259</td>\n",
       "      <td>2017-11-06 16:00:00</td>\n",
       "      <td>1</td>\n",
       "      <td>73954</td>\n",
       "      <td>0</td>\n",
       "      <td>17</td>\n",
       "      <td>16</td>\n",
       "      <td>6</td>\n",
       "      <td>5259</td>\n",
       "      <td>283</td>\n",
       "    </tr>\n",
       "    <tr>\n",
       "      <th>637</th>\n",
       "      <td>12</td>\n",
       "      <td>328</td>\n",
       "      <td>2017-11-06 16:00:00</td>\n",
       "      <td>1</td>\n",
       "      <td>67658</td>\n",
       "      <td>0</td>\n",
       "      <td>19</td>\n",
       "      <td>16</td>\n",
       "      <td>6</td>\n",
       "      <td>5259</td>\n",
       "      <td>283</td>\n",
       "    </tr>\n",
       "    <tr>\n",
       "      <th>639</th>\n",
       "      <td>12</td>\n",
       "      <td>212</td>\n",
       "      <td>2017-11-06 16:00:00</td>\n",
       "      <td>1</td>\n",
       "      <td>111153</td>\n",
       "      <td>0</td>\n",
       "      <td>19</td>\n",
       "      <td>16</td>\n",
       "      <td>6</td>\n",
       "      <td>5259</td>\n",
       "      <td>283</td>\n",
       "    </tr>\n",
       "  </tbody>\n",
       "</table>\n",
       "</div>"
      ],
      "text/plain": [
       "     app  channel          click_time  device      ip  is_attributed  os  \\\n",
       "490   12      245 2017-11-06 16:00:00       1  156391              0  19   \n",
       "498   12      265 2017-11-06 16:00:00       1   67708              0  11   \n",
       "504   12      326 2017-11-06 16:00:00       1   73516              0  16   \n",
       "519   12      245 2017-11-06 16:00:00       1   62129              0  13   \n",
       "529   12      245 2017-11-06 16:00:00       1   49057              0   8   \n",
       "554   12      245 2017-11-06 16:00:00       1  194881              0   4   \n",
       "561   12      245 2017-11-06 16:00:00       1   20488              0  19   \n",
       "576   12      140 2017-11-06 16:00:00       1   95509              0  20   \n",
       "585   12      259 2017-11-06 16:00:00       1  101941              0   9   \n",
       "589   12      178 2017-11-06 16:00:00       1   48646              0  19   \n",
       "597   12      140 2017-11-06 16:00:00       1  118408              0   1   \n",
       "606   12       19 2017-11-06 16:00:00       1  197710              0  19   \n",
       "608   12      259 2017-11-06 16:00:00       1   82240              0  15   \n",
       "610   12      259 2017-11-06 16:00:00       1  100724              0  30   \n",
       "613   12      245 2017-11-06 16:00:00       1   27478              0  13   \n",
       "614   12      328 2017-11-06 16:00:00       1   75825              0   1   \n",
       "629   12      245 2017-11-06 16:00:00       1   65459              0  19   \n",
       "634   12      259 2017-11-06 16:00:00       1   73954              0  17   \n",
       "637   12      328 2017-11-06 16:00:00       1   67658              0  19   \n",
       "639   12      212 2017-11-06 16:00:00       1  111153              0  19   \n",
       "\n",
       "     hour  day     t    u  \n",
       "490    16    6  5259  283  \n",
       "498    16    6  5259  283  \n",
       "504    16    6  5259  283  \n",
       "519    16    6  5259  283  \n",
       "529    16    6  5259  283  \n",
       "554    16    6  5259  283  \n",
       "561    16    6  5259  283  \n",
       "576    16    6  5259  283  \n",
       "585    16    6  5259  283  \n",
       "589    16    6  5259  283  \n",
       "597    16    6  5259  283  \n",
       "606    16    6  5259  283  \n",
       "608    16    6  5259  283  \n",
       "610    16    6  5259  283  \n",
       "613    16    6  5259  283  \n",
       "614    16    6  5259  283  \n",
       "629    16    6  5259  283  \n",
       "634    16    6  5259  283  \n",
       "637    16    6  5259  283  \n",
       "639    16    6  5259  283  "
      ]
     },
     "execution_count": 56,
     "metadata": {},
     "output_type": "execute_result"
    }
   ],
   "source": [
    "df[df.app==12].head(20)"
   ]
  },
  {
   "cell_type": "code",
   "execution_count": 32,
   "metadata": {},
   "outputs": [
    {
     "data": {
      "text/plain": [
       "(31202352, 10)"
      ]
     },
     "execution_count": 32,
     "metadata": {},
     "output_type": "execute_result"
    }
   ],
   "source": [
    "x1 = df[df.app==12]\n",
    "x1.shape\n",
    "#sns.distplot(u[(df.is_attributed==1)&(df.app==12)])\n",
    "#sns.distplot(u[(df.is_attributed==0)&(df.app==12)])"
   ]
  },
  {
   "cell_type": "code",
   "execution_count": 64,
   "metadata": {},
   "outputs": [
    {
     "data": {
      "text/plain": [
       "<matplotlib.axes._subplots.AxesSubplot at 0x7fa081cbb358>"
      ]
     },
     "execution_count": 64,
     "metadata": {},
     "output_type": "execute_result"
    },
    {
     "data": {
      "image/png": "[encoded data removed]",
      "text/plain": [
       "<matplotlib.figure.Figure at 0x7fa081c3b780>"
      ]
     },
     "metadata": {},
     "output_type": "display_data"
    }
   ],
   "source": [
    "sns.distplot(x)"
   ]
  },
  {
   "cell_type": "code",
   "execution_count": 65,
   "metadata": {},
   "outputs": [
    {
     "data": {
      "text/plain": [
       "<matplotlib.axes._subplots.AxesSubplot at 0x7fa08204eb38>"
      ]
     },
     "execution_count": 65,
     "metadata": {},
     "output_type": "execute_result"
    },
    {
     "data": {
      "image/png": "[encoded data removed]",
      "text/plain": [
       "<matplotlib.figure.Figure at 0x7fa0819cb4e0>"
      ]
     },
     "metadata": {},
     "output_type": "display_data"
    }
   ],
   "source": [
    "\n",
    "sns.distplot(x[xt==1])\n"
   ]
  },
  {
   "cell_type": "code",
   "execution_count": 66,
   "metadata": {},
   "outputs": [
    {
     "data": {
      "text/plain": [
       "<matplotlib.axes._subplots.AxesSubplot at 0x7fa081950ba8>"
      ]
     },
     "execution_count": 66,
     "metadata": {},
     "output_type": "execute_result"
    },
    {
     "data": {
      "image/png": "[encoded data removed]",
      "text/plain": [
       "<matplotlib.figure.Figure at 0x7fa081be9898>"
      ]
     },
     "metadata": {},
     "output_type": "display_data"
    }
   ],
   "source": [
    "import seaborn as sns\n",
    "import matplotlib.pyplot as plt\n",
    "\n",
    "sns.distplot(x)\n",
    "sns.distplot(x[xt==1])\n"
   ]
  },
  {
   "cell_type": "code",
   "execution_count": 67,
   "metadata": {},
   "outputs": [
    {
     "data": {
      "text/plain": [
       "<matplotlib.axes._subplots.AxesSubplot at 0x7fa08153d7b8>"
      ]
     },
     "execution_count": 67,
     "metadata": {},
     "output_type": "execute_result"
    },
    {
     "data": {
      "image/png": "[encoded data removed]",
      "text/plain": [
       "<matplotlib.figure.Figure at 0x7fa081554470>"
      ]
     },
     "metadata": {},
     "output_type": "display_data"
    }
   ],
   "source": [
    "sns.distplot(x[xt==1])"
   ]
  },
  {
   "cell_type": "code",
   "execution_count": null,
   "metadata": {},
   "outputs": [],
   "source": []
  },
  {
   "cell_type": "code",
   "execution_count": null,
   "metadata": {},
   "outputs": [],
   "source": []
  },
  {
   "cell_type": "code",
   "execution_count": null,
   "metadata": {},
   "outputs": [],
   "source": [
    "sns.distplot(x)\n",
    "sns.distplot(xt)\n"
   ]
  },
  {
   "cell_type": "code",
   "execution_count": null,
   "metadata": {},
   "outputs": [],
   "source": []
  },
  {
   "cell_type": "code",
   "execution_count": null,
   "metadata": {},
   "outputs": [],
   "source": []
  },
  {
   "cell_type": "code",
   "execution_count": null,
   "metadata": {},
   "outputs": [],
   "source": []
  },
  {
   "cell_type": "code",
   "execution_count": null,
   "metadata": {},
   "outputs": [],
   "source": []
  }
 ],
 "metadata": {
  "kernelspec": {
   "display_name": "Python 3",
   "language": "python",
   "name": "python3"
  },
  "language_info": {
   "codemirror_mode": {
    "name": "ipython",
    "version": 3
   },
   "file_extension": ".py",
   "mimetype": "text/x-python",
   "name": "python",
   "nbconvert_exporter": "python",
   "pygments_lexer": "ipython3",
   "version": "3.6.2"
  }
 },
 "nbformat": 4,
 "nbformat_minor": 2
}
