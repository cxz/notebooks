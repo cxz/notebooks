{
 "cells": [
  {
   "cell_type": "code",
   "execution_count": 1,
   "metadata": {
    "collapsed": true
   },
   "outputs": [],
   "source": [
    "import pandas as pd"
   ]
  },
  {
   "cell_type": "code",
   "execution_count": 19,
   "metadata": {},
   "outputs": [],
   "source": [
    ""
   ]
  },
  {
   "cell_type": "code",
   "execution_count": 22,
   "metadata": {},
   "outputs": [
    {
     "name": "stdout",
     "output_type": "stream",
     "text": [
      "train activation date range: 2017-03-15 - 2017-04-07\nnans:  0\n"
     ]
    },
    {
     "name": "stdout",
     "output_type": "stream",
     "text": [
      "test activation date range: 2017-04-12 - 2017-04-20\nnans:  0\n"
     ]
    },
    {
     "name": "stdout",
     "output_type": "stream",
     "text": [
      "train_active activation date range: 2017-03-15 - 2017-03-27\nnans:  124323\n"
     ]
    },
    {
     "name": "stdout",
     "output_type": "stream",
     "text": [
      "test_active activation date range: 2017-04-12 - 2017-04-17\nnans:  114518\n"
     ]
    }
   ],
   "source": [
    "for df_name in ['train', 'test', 'train_active', 'test_active']:\n",
    "    df = pd.read_csv(\"input/{}.csv\".format(df_name), usecols=['activation_date'], parse_dates=['activation_date'])\n",
    "    has_date = ~df.activation_date.isnull()\n",
    "    date_min = df[has_date].activation_date.dt.date.min()\n",
    "    date_max = df[has_date].activation_date.dt.date.max()\n",
    "    print('{} activation date range: {} - {}'.format(df_name, date_min, date_max))\n",
    "    print('nans: ', len(df[~has_date]))\n",
    "    del df"
   ]
  },
  {
   "cell_type": "code",
   "execution_count": null,
   "metadata": {},
   "outputs": [],
   "source": [
    ""
   ]
  }
 ],
 "metadata": {
  "kernelspec": {
   "display_name": "Python 2",
   "language": "python",
   "name": "python2"
  },
  "language_info": {
   "codemirror_mode": {
    "name": "ipython",
    "version": 2.0
   },
   "file_extension": ".py",
   "mimetype": "text/x-python",
   "name": "python",
   "nbconvert_exporter": "python",
   "pygments_lexer": "ipython2",
   "version": "2.7.6"
  }
 },
 "nbformat": 4,
 "nbformat_minor": 0
}