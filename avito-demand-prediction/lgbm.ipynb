{
 "cells": [
  {
   "cell_type": "code",
   "execution_count": 1,
   "metadata": {},
   "outputs": [],
   "source": [
    "\n",
    "import numpy as np\n",
    "import pandas as pd \n",
    "\n",
    "from sklearn import preprocessing\n",
    "from sklearn.feature_extraction.text import TfidfVectorizer\n"
   ]
  },
  {
   "cell_type": "code",
   "execution_count": 2,
   "metadata": {},
   "outputs": [
    {
     "name": "stdout",
     "output_type": "stream",
     "text": [
      "loading train\n",
      "1503424\n",
      "loading test\n"
     ]
    }
   ],
   "source": [
    "print('loading train')\n",
    "train = pd.read_csv('input/train.csv')\n",
    "train_rows = len(train)\n",
    "print(train_rows)\n",
    "\n",
    "print('loading test')\n",
    "df = pd.concat([train, pd.read_csv('input/test.csv')])"
   ]
  },
  {
   "cell_type": "code",
   "execution_count": 3,
   "metadata": {},
   "outputs": [
    {
     "name": "stdout",
     "output_type": "stream",
     "text": [
      "item_id\n",
      "user_id\n",
      "region\n",
      "city\n",
      "parent_category_name\n",
      "category_name\n",
      "item_seq_number\n",
      "user_type\n"
     ]
    }
   ],
   "source": [
    "categorical = ['item_id', 'user_id', 'region', 'city', 'parent_category_name', 'category_name',  'item_seq_number', 'user_type']\n",
    "text = ['title', 'description']\n",
    "target = 'deal_probability'\n",
    "\n",
    "for c in categorical:\n",
    "    print(c)\n",
    "    le = preprocessing.LabelEncoder()\n",
    "    df[c] = le.fit_transform(df[c])"
   ]
  },
  {
   "cell_type": "code",
   "execution_count": 4,
   "metadata": {},
   "outputs": [
    {
     "name": "stdout",
     "output_type": "stream",
     "text": [
      "fitting title\n",
      "fitting description\n",
      ".\n"
     ]
    }
   ],
   "source": [
    "vectorizers = []\n",
    "for c in text:\n",
    "    print('fitting %s' % c)\n",
    "    v = TfidfVectorizer(max_features=100000, token_pattern='\\w+', ngram_range=(1, 2))\n",
    "    v.fit(df[c].fillna(''))\n",
    "    vectorizers.append(v)\n",
    "print('.')"
   ]
  },
  {
   "cell_type": "code",
   "execution_count": 5,
   "metadata": {},
   "outputs": [
    {
     "name": "stdout",
     "output_type": "stream",
     "text": [
      "title\n",
      "desc\n",
      ".\n"
     ]
    }
   ],
   "source": [
    "print('title')\n",
    "title = vectorizers[0].transform(df.loc[:, 'title'].fillna('').values)\n",
    "\n",
    "print('desc')\n",
    "desc = vectorizers[1].transform(df.loc[:, 'description'].fillna('').values)\n",
    "\n",
    "print('.')"
   ]
  },
  {
   "cell_type": "code",
   "execution_count": 6,
   "metadata": {},
   "outputs": [
    {
     "name": "stdout",
     "output_type": "stream",
     "text": [
      "(1503424, 200009) (508438, 200009)\n"
     ]
    }
   ],
   "source": [
    "from scipy.sparse import hstack\n",
    "from sklearn.model_selection import train_test_split\n",
    "\n",
    "X = hstack([df[categorical], df[['price']], title, desc]).tocsr()\n",
    "y = df[target]\n",
    "\n",
    "X_train, y_train = X[:train_rows, :], y[:train_rows]\n",
    "X_test = X[train_rows:, :]\n",
    "print(X_train.shape, X_test.shape)\n"
   ]
  },
  {
   "cell_type": "code",
   "execution_count": 7,
   "metadata": {},
   "outputs": [],
   "source": [
    "import lightgbm as lgb\n",
    "params = {\n",
    "    'boosting_type': 'gbdt',\n",
    "    'objective': 'regression',\n",
    "    'metric': 'rmse',\n",
    "    'num_leaves': 31,\n",
    "    'learning_rate': 0.3,\n",
    "    #'feature_fraction': 0.9,\n",
    "    #'bagging_fraction': 0.8,\n",
    "    #'bagging_freq': 5,\n",
    "    'verbose': 0\n",
    "}"
   ]
  },
  {
   "cell_type": "code",
   "execution_count": 8,
   "metadata": {},
   "outputs": [
    {
     "name": "stdout",
     "output_type": "stream",
     "text": [
      "fold 1\n",
      "train.\n"
     ]
    },
    {
     "name": "stderr",
     "output_type": "stream",
     "text": [
      "/opt/miniconda2/envs/talkingdata/lib/python3.6/site-packages/lightgbm/basic.py:1036: UserWarning: Using categorical_feature in Dataset.\n",
      "  warnings.warn('Using categorical_feature in Dataset.')\n",
      "/opt/miniconda2/envs/talkingdata/lib/python3.6/site-packages/lightgbm/basic.py:1038: UserWarning: categorical_feature in Dataset is overrided. New categorical_feature is [0, 1, 2, 3, 4, 5, 6, 7]\n",
      "  warnings.warn('categorical_feature in Dataset is overrided. New categorical_feature is {}'.format(sorted(list(categorical_feature))))\n",
      "/opt/miniconda2/envs/talkingdata/lib/python3.6/site-packages/lightgbm/basic.py:681: UserWarning: categorical_feature in param dict is overrided.\n",
      "  warnings.warn('categorical_feature in param dict is overrided.')\n"
     ]
    },
    {
     "name": "stdout",
     "output_type": "stream",
     "text": [
      "Training until validation scores don't improve for 100 rounds.\n",
      "[50]\ttraining's rmse: 0.225699\tvalid_1's rmse: 0.227623\n",
      "[100]\ttraining's rmse: 0.222419\tvalid_1's rmse: 0.226209\n",
      "[150]\ttraining's rmse: 0.219883\tvalid_1's rmse: 0.225506\n",
      "[200]\ttraining's rmse: 0.218031\tvalid_1's rmse: 0.225107\n",
      "[250]\ttraining's rmse: 0.216388\tvalid_1's rmse: 0.224856\n",
      "[300]\ttraining's rmse: 0.214931\tvalid_1's rmse: 0.224739\n",
      "[350]\ttraining's rmse: 0.213673\tvalid_1's rmse: 0.224636\n",
      "[400]\ttraining's rmse: 0.21242\tvalid_1's rmse: 0.224571\n",
      "[450]\ttraining's rmse: 0.211338\tvalid_1's rmse: 0.22453\n",
      "[500]\ttraining's rmse: 0.210131\tvalid_1's rmse: 0.224508\n",
      "[550]\ttraining's rmse: 0.209122\tvalid_1's rmse: 0.224498\n",
      "[600]\ttraining's rmse: 0.208081\tvalid_1's rmse: 0.224558\n",
      "Early stopping, best iteration is:\n",
      "[548]\ttraining's rmse: 0.209155\tvalid_1's rmse: 0.224496\n",
      "fold 2\n",
      "train.\n",
      "Training until validation scores don't improve for 100 rounds.\n",
      "[50]\ttraining's rmse: 0.225839\tvalid_1's rmse: 0.228073\n",
      "[100]\ttraining's rmse: 0.222422\tvalid_1's rmse: 0.226639\n",
      "[150]\ttraining's rmse: 0.220084\tvalid_1's rmse: 0.22591\n",
      "[200]\ttraining's rmse: 0.21822\tvalid_1's rmse: 0.225554\n",
      "[250]\ttraining's rmse: 0.216562\tvalid_1's rmse: 0.225264\n",
      "[300]\ttraining's rmse: 0.215173\tvalid_1's rmse: 0.225127\n",
      "[350]\ttraining's rmse: 0.213835\tvalid_1's rmse: 0.225043\n",
      "[400]\ttraining's rmse: 0.212549\tvalid_1's rmse: 0.22498\n",
      "[450]\ttraining's rmse: 0.211399\tvalid_1's rmse: 0.224941\n",
      "[500]\ttraining's rmse: 0.210389\tvalid_1's rmse: 0.224954\n",
      "[550]\ttraining's rmse: 0.209213\tvalid_1's rmse: 0.224932\n",
      "[600]\ttraining's rmse: 0.208199\tvalid_1's rmse: 0.224938\n",
      "[650]\ttraining's rmse: 0.207265\tvalid_1's rmse: 0.224934\n",
      "Early stopping, best iteration is:\n",
      "[582]\ttraining's rmse: 0.208579\tvalid_1's rmse: 0.224905\n",
      "fold 3\n",
      "train.\n",
      "Training until validation scores don't improve for 100 rounds.\n",
      "[50]\ttraining's rmse: 0.225687\tvalid_1's rmse: 0.227408\n",
      "[100]\ttraining's rmse: 0.222298\tvalid_1's rmse: 0.225881\n",
      "[150]\ttraining's rmse: 0.219877\tvalid_1's rmse: 0.22527\n",
      "[200]\ttraining's rmse: 0.218072\tvalid_1's rmse: 0.224843\n",
      "[250]\ttraining's rmse: 0.2164\tvalid_1's rmse: 0.22461\n",
      "[300]\ttraining's rmse: 0.2148\tvalid_1's rmse: 0.224483\n",
      "[350]\ttraining's rmse: 0.213468\tvalid_1's rmse: 0.22436\n",
      "[400]\ttraining's rmse: 0.212295\tvalid_1's rmse: 0.22428\n",
      "[450]\ttraining's rmse: 0.211119\tvalid_1's rmse: 0.224251\n",
      "[500]\ttraining's rmse: 0.210053\tvalid_1's rmse: 0.224265\n",
      "[550]\ttraining's rmse: 0.20893\tvalid_1's rmse: 0.224265\n",
      "Early stopping, best iteration is:\n",
      "[478]\ttraining's rmse: 0.210498\tvalid_1's rmse: 0.224233\n",
      "fold 4\n",
      "train.\n",
      "Training until validation scores don't improve for 100 rounds.\n",
      "[50]\ttraining's rmse: 0.22565\tvalid_1's rmse: 0.227865\n",
      "[100]\ttraining's rmse: 0.222038\tvalid_1's rmse: 0.22639\n",
      "[150]\ttraining's rmse: 0.219714\tvalid_1's rmse: 0.225685\n",
      "[200]\ttraining's rmse: 0.217851\tvalid_1's rmse: 0.225349\n",
      "[250]\ttraining's rmse: 0.216259\tvalid_1's rmse: 0.225117\n",
      "[300]\ttraining's rmse: 0.214758\tvalid_1's rmse: 0.224895\n",
      "[350]\ttraining's rmse: 0.213454\tvalid_1's rmse: 0.22482\n",
      "[400]\ttraining's rmse: 0.212344\tvalid_1's rmse: 0.224751\n",
      "[450]\ttraining's rmse: 0.211049\tvalid_1's rmse: 0.22478\n",
      "[500]\ttraining's rmse: 0.209946\tvalid_1's rmse: 0.224732\n",
      "[550]\ttraining's rmse: 0.208847\tvalid_1's rmse: 0.224688\n",
      "[600]\ttraining's rmse: 0.207885\tvalid_1's rmse: 0.224716\n",
      "Early stopping, best iteration is:\n",
      "[536]\ttraining's rmse: 0.209152\tvalid_1's rmse: 0.224679\n",
      "fold 5\n",
      "train.\n",
      "Training until validation scores don't improve for 100 rounds.\n",
      "[50]\ttraining's rmse: 0.22574\tvalid_1's rmse: 0.227935\n",
      "[100]\ttraining's rmse: 0.222313\tvalid_1's rmse: 0.226308\n",
      "[150]\ttraining's rmse: 0.219939\tvalid_1's rmse: 0.225626\n",
      "[200]\ttraining's rmse: 0.218143\tvalid_1's rmse: 0.225306\n",
      "[250]\ttraining's rmse: 0.216551\tvalid_1's rmse: 0.225068\n",
      "[300]\ttraining's rmse: 0.21499\tvalid_1's rmse: 0.224832\n",
      "[350]\ttraining's rmse: 0.213626\tvalid_1's rmse: 0.224767\n",
      "[400]\ttraining's rmse: 0.212474\tvalid_1's rmse: 0.22468\n",
      "[450]\ttraining's rmse: 0.211332\tvalid_1's rmse: 0.224645\n",
      "[500]\ttraining's rmse: 0.210144\tvalid_1's rmse: 0.22458\n",
      "[550]\ttraining's rmse: 0.208973\tvalid_1's rmse: 0.224553\n",
      "[600]\ttraining's rmse: 0.208011\tvalid_1's rmse: 0.224598\n",
      "Early stopping, best iteration is:\n",
      "[537]\ttraining's rmse: 0.209253\tvalid_1's rmse: 0.224549\n"
     ]
    }
   ],
   "source": [
    "from sklearn.model_selection import KFold, StratifiedKFold\n",
    "\n",
    "y_pred = np.zeros((len(df) - train_rows, ), dtype=np.float32)\n",
    "\n",
    "kf = KFold(n_splits=5, random_state=0)\n",
    "for fold, (train_idx, val_idx) in enumerate(kf.split(X_train)):\n",
    "    print('fold', fold+1)\n",
    "    X_fold, y_fold = X_train[train_idx, :], y_train[train_idx]\n",
    "    X_valid, y_valid = X_train[val_idx, :], y_train[val_idx]\n",
    "    \n",
    "    lgb_train = lgb.Dataset(X_fold, y_fold, categorical_feature=[idx for idx, name in enumerate(categorical)], free_raw_data=False)\n",
    "    lgb_valid = lgb.Dataset(X_valid, y_valid, reference=lgb_train)\n",
    "    \n",
    "    print('train.')\n",
    "    \n",
    "    gbm = lgb.train(params,\n",
    "                    lgb_train,\n",
    "                    num_boost_round=3000,\n",
    "                    valid_sets=[lgb_train, lgb_valid],\n",
    "                    early_stopping_rounds=100,\n",
    "                    verbose_eval=50)\n",
    "    \n",
    "    y_pred += gbm.predict(X_test, num_iteration=gbm.best_iteration)    \n",
    "    fold += 1\n",
    "    \n",
    "y_pred /= 5\n"
   ]
  },
  {
   "cell_type": "code",
   "execution_count": 9,
   "metadata": {},
   "outputs": [],
   "source": [
    "sample_submission = pd.read_csv('input/sample_submission.csv')\n",
    "sample_submission['deal_probability'] = y_pred\n",
    "sample_submission.to_csv('sample.csv', index=False)"
   ]
  },
  {
   "cell_type": "code",
   "execution_count": null,
   "metadata": {},
   "outputs": [],
   "source": []
  }
 ],
 "metadata": {
  "kernelspec": {
   "display_name": "Python 3",
   "language": "python",
   "name": "python3"
  },
  "language_info": {
   "codemirror_mode": {
    "name": "ipython",
    "version": 3
   },
   "file_extension": ".py",
   "mimetype": "text/x-python",
   "name": "python",
   "nbconvert_exporter": "python",
   "pygments_lexer": "ipython3",
   "version": "3.6.2"
  }
 },
 "nbformat": 4,
 "nbformat_minor": 2
}
