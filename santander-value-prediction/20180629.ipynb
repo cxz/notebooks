{
 "cells": [
  {
   "cell_type": "code",
   "execution_count": 1,
   "metadata": {},
   "outputs": [],
   "source": [
    "import numpy as np\n",
    "import pickle\n",
    "\n",
    "with open('cache/traintest.pkl', 'rb') as f:\n",
    "    df_train, df_test, train_y = pickle.load(f)\n",
    "    \n",
    "with open('cache/traintest_decomposition2_50.pkl', 'rb') as f:\n",
    "    out50_train, out50_test = pickle.load(f)\n",
    "        \n",
    "with open('cache/non_zero_stats.pkl', 'rb') as f:\n",
    "    agg_train, agg_test = pickle.load(f)        "
   ]
  },
  {
   "cell_type": "code",
   "execution_count": 2,
   "metadata": {},
   "outputs": [],
   "source": [
    "from sklearn.feature_selection import VarianceThreshold    \n",
    "import pandas as pd\n",
    "from sklearn import preprocessing, model_selection, metrics\n",
    "import lightgbm as lgb\n",
    "import xgboost as xgb\n"
   ]
  },
  {
   "cell_type": "code",
   "execution_count": 3,
   "metadata": {},
   "outputs": [
    {
     "data": {
      "text/plain": [
       "((4459, 4735), (4459, 100), (4459, 18))"
      ]
     },
     "execution_count": 3,
     "metadata": {},
     "output_type": "execute_result"
    }
   ],
   "source": [
    "df_train.shape, out50_train.shape, agg_train.shape"
   ]
  },
  {
   "cell_type": "code",
   "execution_count": 4,
   "metadata": {},
   "outputs": [],
   "source": [
    "\n",
    "\n",
    "def low_variance(df_train):\n",
    "    s = VarianceThreshold(threshold=.0)\n",
    "    s.fit(df_train)\n",
    "    idxs = s.get_support()\n",
    "    to_remove = [c for c, x in zip(df_train.columns, idxs) if not x]\n",
    "    return to_remove\n",
    "\n",
    "def nunique(df_train):\n",
    "    _, index = np.unique(df_train.values, return_index=True, axis=1)\n",
    "    return [c for idx, c in enumerate(df_train.columns) if idx not in index]\n",
    "\n",
    "def suspicious(df_train):\n",
    "    # drop zero fraction\n",
    "    thr = 0.98\n",
    "    to_ignore = []\n",
    "    for column in df_train.columns:\n",
    "        counts = df_train[column].value_counts()\n",
    "        value_fraction = counts[0] / len(df_train)\n",
    "        if value_fraction >= thr:\n",
    "            to_ignore.append(column)\n",
    "    return to_ignore\n",
    "\n"
   ]
  },
  {
   "cell_type": "code",
   "execution_count": 5,
   "metadata": {},
   "outputs": [],
   "source": [
    "to_ignore = set()\n",
    "to_ignore |= set(low_variance(df_train))\n",
    "to_ignore |= set(nunique(df_train))\n",
    "to_ignore |= set(suspicious(df_train))"
   ]
  },
  {
   "cell_type": "code",
   "execution_count": 6,
   "metadata": {},
   "outputs": [
    {
     "data": {
      "text/plain": [
       "2614"
      ]
     },
     "execution_count": 6,
     "metadata": {},
     "output_type": "execute_result"
    }
   ],
   "source": [
    "len(to_ignore)"
   ]
  },
  {
   "cell_type": "code",
   "execution_count": 7,
   "metadata": {},
   "outputs": [],
   "source": [
    "features = [c for c in df_train if c not in to_ignore]"
   ]
  },
  {
   "cell_type": "code",
   "execution_count": 8,
   "metadata": {},
   "outputs": [
    {
     "data": {
      "text/plain": [
       "2121"
      ]
     },
     "execution_count": 8,
     "metadata": {},
     "output_type": "execute_result"
    }
   ],
   "source": [
    "len(features)"
   ]
  },
  {
   "cell_type": "code",
   "execution_count": null,
   "metadata": {},
   "outputs": [],
   "source": []
  },
  {
   "cell_type": "code",
   "execution_count": null,
   "metadata": {},
   "outputs": [],
   "source": []
  },
  {
   "cell_type": "code",
   "execution_count": null,
   "metadata": {},
   "outputs": [],
   "source": []
  },
  {
   "cell_type": "code",
   "execution_count": null,
   "metadata": {},
   "outputs": [],
   "source": []
  },
  {
   "cell_type": "code",
   "execution_count": null,
   "metadata": {},
   "outputs": [],
   "source": []
  },
  {
   "cell_type": "code",
   "execution_count": 9,
   "metadata": {},
   "outputs": [],
   "source": [
    "#train_X = pd.concat([df_train[features], out50_train, agg_train], axis=1)\n",
    "train_X = pd.concat([out50_train, agg_train], axis=1)\n",
    "train_X = train_X.replace([np.inf, -np.inf], np.nan)\n",
    "train_X = train_X.fillna(0)\n",
    "\n",
    "#test_X = pd.concat([df_test[features], out100_test, agg_test], axis=1)\n",
    "test_X = pd.concat([out50_test, agg_test], axis=1)\n",
    "test_X = test_X.replace([np.inf, -np.inf], np.nan)\n",
    "test_X = test_X.fillna(0)\n"
   ]
  },
  {
   "cell_type": "code",
   "execution_count": 11,
   "metadata": {},
   "outputs": [
    {
     "data": {
      "text/plain": [
       "((4459, 118), (49342, 118))"
      ]
     },
     "execution_count": 11,
     "metadata": {},
     "output_type": "execute_result"
    }
   ],
   "source": [
    "train_X.shape, test_X.shape"
   ]
  },
  {
   "cell_type": "code",
   "execution_count": null,
   "metadata": {},
   "outputs": [],
   "source": [
    "\n",
    "\n"
   ]
  },
  {
   "cell_type": "code",
   "execution_count": null,
   "metadata": {},
   "outputs": [],
   "source": [
    "\n"
   ]
  },
  {
   "cell_type": "code",
   "execution_count": 12,
   "metadata": {},
   "outputs": [],
   "source": [
    "\n",
    "def run_cv2(train_X, train_y):    \n",
    "    params = {\n",
    "        'booster': 'gbtree',\n",
    "        'objective': 'reg:linear', \n",
    "        'learning_rate': 0.01,\n",
    "        'max_depth': 3, \n",
    "        #'min_child_weight': 1,\n",
    "        #'subsample': 0.1,\n",
    "        #'colsample_bytree': 0.1,\n",
    "        #'colsample_bylevel': 0.1,\n",
    "        #'reg_lambda': 1,\n",
    "        #'reg_alpha': 1,\n",
    "        'base_score': np.mean(train_y)\n",
    "    }    \n",
    "    \n",
    "    xgtrain = xgb.DMatrix(train_X, label=train_y)\n",
    "    hist = xgb.cv(params, \n",
    "                  xgtrain, \n",
    "                  10000, \n",
    "                  nfold=5, \n",
    "                  metrics='rmse',\n",
    "                  early_stopping_rounds=100, \n",
    "                  stratified=False,\n",
    "                  verbose_eval=100)\n"
   ]
  },
  {
   "cell_type": "code",
   "execution_count": 14,
   "metadata": {},
   "outputs": [
    {
     "name": "stdout",
     "output_type": "stream",
     "text": [
      ".\n"
     ]
    }
   ],
   "source": [
    "# run_cv2(train_X, train_y)\n",
    "print('.')"
   ]
  },
  {
   "cell_type": "code",
   "execution_count": null,
   "metadata": {},
   "outputs": [],
   "source": []
  },
  {
   "cell_type": "code",
   "execution_count": null,
   "metadata": {},
   "outputs": [],
   "source": []
  },
  {
   "cell_type": "code",
   "execution_count": null,
   "metadata": {},
   "outputs": [],
   "source": []
  },
  {
   "cell_type": "code",
   "execution_count": null,
   "metadata": {},
   "outputs": [],
   "source": []
  },
  {
   "cell_type": "code",
   "execution_count": null,
   "metadata": {},
   "outputs": [],
   "source": []
  },
  {
   "cell_type": "code",
   "execution_count": null,
   "metadata": {},
   "outputs": [],
   "source": []
  },
  {
   "cell_type": "code",
   "execution_count": null,
   "metadata": {},
   "outputs": [],
   "source": []
  },
  {
   "cell_type": "code",
   "execution_count": 15,
   "metadata": {},
   "outputs": [],
   "source": [
    "def run_xgb(train_X, train_y, val_X, val_y, test_X):\n",
    "    params = {\n",
    "        'booster': 'gbtree',\n",
    "        'objective': 'reg:linear', \n",
    "        'learning_rate': 0.01,\n",
    "        'max_depth': 3, \n",
    "        #'min_child_weight': 1,\n",
    "        #'subsample': 0.1,\n",
    "        #'colsample_bytree': 0.1,\n",
    "        #'colsample_bylevel': 0.1,\n",
    "        #'reg_lambda': 1,\n",
    "        #'reg_alpha': 1,\n",
    "        'base_score': np.mean(train_y)\n",
    "    }\n",
    "        \n",
    "    xgtrain = xgb.DMatrix(train_X, label=train_y)\n",
    "    xgval = xgb.DMatrix(val_X, label=val_y)\n",
    "    \n",
    "    watchlist = [(xgtrain, 'train'), (xgval, 'eval')]\n",
    "    \n",
    "    bst = xgb.train(params, \n",
    "                    xgtrain, \n",
    "                    num_boost_round=10000, \n",
    "                    evals=watchlist,\n",
    "                    early_stopping_rounds=50, \n",
    "                    verbose_eval=100)\n",
    "    return bst"
   ]
  },
  {
   "cell_type": "code",
   "execution_count": null,
   "metadata": {},
   "outputs": [],
   "source": []
  },
  {
   "cell_type": "code",
   "execution_count": 16,
   "metadata": {},
   "outputs": [
    {
     "name": "stdout",
     "output_type": "stream",
     "text": [
      "[0]\ttrain-rmse:1.73733\teval-rmse:1.75875\n",
      "Multiple eval metrics have been passed: 'eval-rmse' will be used for early stopping.\n",
      "\n",
      "Will train until eval-rmse hasn't improved in 50 rounds.\n",
      "[100]\ttrain-rmse:1.42313\teval-rmse:1.45822\n",
      "[200]\ttrain-rmse:1.33633\teval-rmse:1.39276\n",
      "[300]\ttrain-rmse:1.28935\teval-rmse:1.37496\n",
      "[400]\ttrain-rmse:1.2615\teval-rmse:1.36849\n",
      "[500]\ttrain-rmse:1.23889\teval-rmse:1.36332\n",
      "[600]\ttrain-rmse:1.21802\teval-rmse:1.3609\n",
      "[700]\ttrain-rmse:1.19958\teval-rmse:1.35969\n",
      "[800]\ttrain-rmse:1.18205\teval-rmse:1.35783\n",
      "[900]\ttrain-rmse:1.16572\teval-rmse:1.35647\n",
      "[1000]\ttrain-rmse:1.15063\teval-rmse:1.35541\n",
      "Stopping. Best iteration:\n",
      "[1046]\ttrain-rmse:1.14397\teval-rmse:1.3552\n",
      "\n",
      "fold 0:  1.3552011833947022\n",
      "[0]\ttrain-rmse:1.73925\teval-rmse:1.7555\n",
      "Multiple eval metrics have been passed: 'eval-rmse' will be used for early stopping.\n",
      "\n",
      "Will train until eval-rmse hasn't improved in 50 rounds.\n",
      "[100]\ttrain-rmse:1.42959\teval-rmse:1.45435\n",
      "[200]\ttrain-rmse:1.34294\teval-rmse:1.38534\n",
      "[300]\ttrain-rmse:1.2983\teval-rmse:1.36583\n",
      "[400]\ttrain-rmse:1.27048\teval-rmse:1.35882\n",
      "[500]\ttrain-rmse:1.24868\teval-rmse:1.35446\n",
      "[600]\ttrain-rmse:1.2305\teval-rmse:1.35203\n",
      "[700]\ttrain-rmse:1.21087\teval-rmse:1.34999\n",
      "[800]\ttrain-rmse:1.18972\teval-rmse:1.34863\n",
      "[900]\ttrain-rmse:1.16983\teval-rmse:1.34807\n",
      "Stopping. Best iteration:\n",
      "[861]\ttrain-rmse:1.17741\teval-rmse:1.3478\n",
      "\n",
      "fold 1:  1.3478038701183237\n",
      "[0]\ttrain-rmse:1.7565\teval-rmse:1.71959\n",
      "Multiple eval metrics have been passed: 'eval-rmse' will be used for early stopping.\n",
      "\n",
      "Will train until eval-rmse hasn't improved in 50 rounds.\n",
      "[100]\ttrain-rmse:1.41775\teval-rmse:1.44997\n",
      "[200]\ttrain-rmse:1.32997\teval-rmse:1.40184\n",
      "[300]\ttrain-rmse:1.28817\teval-rmse:1.38731\n",
      "[400]\ttrain-rmse:1.25739\teval-rmse:1.38215\n",
      "[500]\ttrain-rmse:1.2359\teval-rmse:1.37867\n",
      "[600]\ttrain-rmse:1.21518\teval-rmse:1.37667\n",
      "[700]\ttrain-rmse:1.19757\teval-rmse:1.3743\n",
      "[800]\ttrain-rmse:1.18042\teval-rmse:1.37342\n",
      "[900]\ttrain-rmse:1.16404\teval-rmse:1.37255\n",
      "[1000]\ttrain-rmse:1.1484\teval-rmse:1.37118\n",
      "[1100]\ttrain-rmse:1.1325\teval-rmse:1.37061\n",
      "[1200]\ttrain-rmse:1.11807\teval-rmse:1.36983\n",
      "[1300]\ttrain-rmse:1.10353\teval-rmse:1.36956\n",
      "[1400]\ttrain-rmse:1.08946\teval-rmse:1.36899\n",
      "Stopping. Best iteration:\n",
      "[1361]\ttrain-rmse:1.09502\teval-rmse:1.36867\n",
      "\n",
      "fold 2:  1.3686740829170785\n"
     ]
    }
   ],
   "source": [
    "xgtest = xgb.DMatrix(test_X)\n",
    "                    \n",
    "folds = 3\n",
    "kf = model_selection.KFold(n_splits=folds, shuffle=True, random_state=0)\n",
    "\n",
    "sub_preds = np.zeros(test_X.shape[0])\n",
    "oof_preds = np.zeros(train_X.shape[0])\n",
    "\n",
    "for fold_no, (dev_index, val_index) in enumerate(kf.split(train_X)):\n",
    "    dev_X, val_X = train_X.loc[dev_index,:], train_X.loc[val_index,:]\n",
    "    dev_y, val_y = train_y[dev_index], train_y[val_index]\n",
    "    model = run_xgb(dev_X, dev_y, val_X, val_y, test_X)\n",
    "    \n",
    "    xgval = xgb.DMatrix(val_X, label=val_y)\n",
    "    oof_preds[val_index] = model.predict(xgval, ntree_limit=model.best_ntree_limit )\n",
    "    \n",
    "    fold_rmse = np.sqrt(metrics.mean_squared_error(val_y, oof_preds[val_index]))\n",
    "    print(f\"fold {fold_no}: \", fold_rmse)    \n",
    "    \n",
    "    pred_test = model.predict(xgtest, ntree_limit=model.best_ntree_limit)    \n",
    "    sub_preds += np.expm1(pred_test) / folds\n",
    "    \n",
    "    del xgval\n"
   ]
  },
  {
   "cell_type": "code",
   "execution_count": null,
   "metadata": {},
   "outputs": [],
   "source": [
    "\n",
    "    "
   ]
  },
  {
   "cell_type": "code",
   "execution_count": null,
   "metadata": {},
   "outputs": [],
   "source": []
  },
  {
   "cell_type": "code",
   "execution_count": 17,
   "metadata": {},
   "outputs": [],
   "source": [
    "sample = pd.read_csv('input/test.csv', usecols=['ID'])\n",
    "sample[\"target\"] = sub_preds\n",
    "sample.to_csv(\"submissions/subm_20180629_xgb1.csv\", index=False)"
   ]
  },
  {
   "cell_type": "code",
   "execution_count": null,
   "metadata": {},
   "outputs": [],
   "source": []
  },
  {
   "cell_type": "code",
   "execution_count": 99,
   "metadata": {},
   "outputs": [],
   "source": []
  },
  {
   "cell_type": "code",
   "execution_count": null,
   "metadata": {},
   "outputs": [],
   "source": []
  },
  {
   "cell_type": "code",
   "execution_count": 19,
   "metadata": {},
   "outputs": [
    {
     "data": {
      "text/plain": [
       "<matplotlib.axes._subplots.AxesSubplot at 0x7fb433018198>"
      ]
     },
     "execution_count": 19,
     "metadata": {},
     "output_type": "execute_result"
    }
   ],
   "source": [
    "xgb.plot_importance(model, max_num_features=20)"
   ]
  },
  {
   "cell_type": "code",
   "execution_count": null,
   "metadata": {},
   "outputs": [],
   "source": []
  }
 ],
 "metadata": {
  "kernelspec": {
   "display_name": "Python 3",
   "language": "python",
   "name": "python3"
  },
  "language_info": {
   "codemirror_mode": {
    "name": "ipython",
    "version": 3
   },
   "file_extension": ".py",
   "mimetype": "text/x-python",
   "name": "python",
   "nbconvert_exporter": "python",
   "pygments_lexer": "ipython3",
   "version": "3.6.5"
  }
 },
 "nbformat": 4,
 "nbformat_minor": 2
}
