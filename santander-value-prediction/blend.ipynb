{
 "cells": [
  {
   "cell_type": "code",
   "execution_count": 1,
   "metadata": {},
   "outputs": [
    {
     "name": "stdout",
     "output_type": "stream",
     "text": [
      "['train.csv.zip', 'test.csv', 'sample_submission.csv.zip', 'test.csv.zip', 'train.csv', 'sample_submission.csv']\n"
     ]
    }
   ],
   "source": [
    "import os\n",
    "\n",
    "import pandas as pd \n",
    "import numpy as np\n",
    "import matplotlib\n",
    "import matplotlib.pyplot as plt\n",
    "from math import pi\n",
    "import seaborn as sns\n",
    "%matplotlib inline \n",
    "\n",
    "import warnings\n",
    "warnings.filterwarnings(\"ignore\")\n",
    "\n",
    "# Print all rows and columns\n",
    "pd.set_option('display.max_columns', None)\n",
    "pd.set_option('display.max_rows', None)\n",
    "IS_LOCAL = True\n",
    "\n",
    "import os\n",
    "\n",
    "if IS_LOCAL:\n",
    "    PATH=\"input\"\n",
    "else:\n",
    "    PATH=\"../input\"\n",
    "print(os.listdir(PATH))\n"
   ]
  },
  {
   "cell_type": "code",
   "execution_count": 2,
   "metadata": {},
   "outputs": [],
   "source": [
    "train_df = pd.read_csv(os.path.join(PATH, \"train.csv\"))\n",
    "test_df = pd.read_csv(os.path.join(PATH, \"test.csv\"))"
   ]
  },
  {
   "cell_type": "code",
   "execution_count": 3,
   "metadata": {},
   "outputs": [],
   "source": [
    "train_y = np.log1p(train_df[\"target\"].values)\n",
    "train_X = train_df.drop([\"ID\", \"target\"], axis=1)\n",
    "test_X = test_df.drop([\"ID\"], axis=1)"
   ]
  },
  {
   "cell_type": "code",
   "execution_count": 4,
   "metadata": {},
   "outputs": [
    {
     "name": "stdout",
     "output_type": "stream",
     "text": [
      "tsvd\n",
      "pca\n",
      "ica\n",
      "grp\n",
      "srp\n"
     ]
    }
   ],
   "source": [
    "from sklearn.random_projection import GaussianRandomProjection\n",
    "from sklearn.random_projection import SparseRandomProjection\n",
    "from sklearn.decomposition import PCA, FastICA\n",
    "from sklearn.decomposition import TruncatedSVD\n",
    "\n",
    "n_comp = 150\n",
    "\n",
    "# tSVD\n",
    "print('tsvd')\n",
    "tsvd = TruncatedSVD(n_components=n_comp, random_state=420)\n",
    "tsvd_results_train = tsvd.fit_transform(train_X)\n",
    "tsvd_results_test = tsvd.transform(test_X)\n",
    "\n",
    "# PCA\n",
    "print('pca')\n",
    "pca = PCA(n_components=n_comp, random_state=420)\n",
    "pca2_results_train = pca.fit_transform(train_X)\n",
    "pca2_results_test = pca.transform(test_X)\n",
    "\n",
    "# ICA\n",
    "print('ica')\n",
    "ica = FastICA(n_components=n_comp, random_state=420)\n",
    "ica2_results_train = ica.fit_transform(train_X)\n",
    "ica2_results_test = ica.transform(test_X)\n",
    "\n",
    "# GRP\n",
    "print('grp')\n",
    "grp = GaussianRandomProjection(n_components=n_comp, eps=0.1, random_state=420)\n",
    "grp_results_train = grp.fit_transform(train_X)\n",
    "grp_results_test = grp.transform(test_X)\n",
    "\n",
    "# SRP\n",
    "print('srp')\n",
    "srp = SparseRandomProjection(n_components=n_comp, dense_output=True, random_state=420)\n",
    "srp_results_train = srp.fit_transform(train_X)\n",
    "srp_results_test = srp.transform(test_X)"
   ]
  },
  {
   "cell_type": "code",
   "execution_count": 5,
   "metadata": {},
   "outputs": [],
   "source": [
    "# Append decomposition components to datasets\n",
    "for i in range(1, n_comp + 1):\n",
    "    train_X['pca_' + str(i)] = pca2_results_train[:, i - 1]\n",
    "    test_X['pca_' + str(i)] = pca2_results_test[:, i - 1]\n",
    "\n",
    "    train_X['ica_' + str(i)] = ica2_results_train[:, i - 1]\n",
    "    test_X['ica_' + str(i)] = ica2_results_test[:, i - 1]\n",
    "\n",
    "    train_X['tsvd_' + str(i)] = tsvd_results_train[:, i - 1]\n",
    "    test_X['tsvd_' + str(i)] = tsvd_results_test[:, i - 1]\n",
    "\n",
    "    train_X['grp_' + str(i)] = grp_results_train[:, i - 1]\n",
    "    test_X['grp_' + str(i)] = grp_results_test[:, i - 1]\n",
    "\n",
    "    train_X['srp_' + str(i)] = srp_results_train[:, i - 1]\n",
    "    test_X['srp_' + str(i)] = srp_results_test[:, i - 1]\n",
    "\n",
    "y_mean = np.mean(train_y)"
   ]
  },
  {
   "cell_type": "code",
   "execution_count": 9,
   "metadata": {},
   "outputs": [],
   "source": [
    "train_X2 = train_X[[x for x in train_X.columns if x[:3] in ['tsv', 'pca', 'ica', 'grp', 'srp']]]\n",
    "test_X2 = test_X[[x for x in train_X.columns if x[:3] in ['tsv', 'pca', 'ica', 'grp', 'srp']]]"
   ]
  },
  {
   "cell_type": "code",
   "execution_count": 22,
   "metadata": {},
   "outputs": [],
   "source": [
    "def run_lgb(train_X, train_y, val_X, val_y, test_X):\n",
    "    params = {\n",
    "        \"objective\" : \"regression\",\n",
    "        \"metric\" : \"rmse\",\n",
    "        \"num_leaves\" : 6,\n",
    "        #'min_data_in_leaf': 500,\n",
    "        #'min_sum_hessian_in_leaf':,\n",
    "        \"learning_rate\" : 0.01,\n",
    "        \"bagging_fraction\" : 0.7,\n",
    "        \"feature_fraction\" : 0.1,\n",
    "        \"bagging_frequency\" : 1,\n",
    "        \"bagging_seed\" : 2018,\n",
    "        \"verbosity\" : -1\n",
    "    }\n",
    "    \n",
    "    lgtrain = lgb.Dataset(train_X, label=train_y)\n",
    "    lgval = lgb.Dataset(val_X, label=val_y)\n",
    "    evals_result = {}\n",
    "    model = lgb.train(params, lgtrain, 1000, valid_sets=[lgtrain, lgval], early_stopping_rounds=100, verbose_eval=200, evals_result=evals_result)\n",
    "    \n",
    "    pred_test_y = model.predict(test_X, num_iteration=model.best_iteration)\n",
    "    return pred_test_y, model, evals_result"
   ]
  },
  {
   "cell_type": "code",
   "execution_count": 23,
   "metadata": {},
   "outputs": [],
   "source": [
    "import xgboost as xgb\n",
    "\n",
    "def run_xgb(train_X, train_y, val_X, val_y, test_X):\n",
    "    params =  {\n",
    "      \"objective\"           : \"reg:linear\",\n",
    "      \"eval_metric\"         : \"rmse\",\n",
    "      \"eta\"                 : 0.01,\n",
    "      \"max_depth\"           : 4,\n",
    "      #\"min_child_weight\"    : 6,\n",
    "      #\"gamma\"               : 10,\n",
    "      \"subsample\"           : 0.7,\n",
    "      \"colsample_bytree\"    : 0.5,\n",
    "      #\"alpha\"               : 16,\n",
    "      #\"lambda\"              : 1,\n",
    "      #'tree_method'       : 'hist',\n",
    "      'nthread'           : 8,\n",
    "      'base_score' : 14.5,\n",
    "       #'max_delta_step'    : 1,\n",
    "       #'scale_pos_weight' : 3\n",
    "    }\n",
    "    dtrain = xgb.DMatrix(train_X, label=train_y)\n",
    "    dval = xgb.DMatrix(val_X, label=val_y)\n",
    "    dtest = xgb.DMatrix(test_X)\n",
    "    evallist = [(dtrain, 'train'), (dval, 'eval')]\n",
    "    num_round = 5000\n",
    "    bst = xgb.train(params, dtrain, num_round, evallist, early_stopping_rounds=200, verbose_eval=200)\n",
    "    \n",
    "    pred_test_y = bst.predict(dtest, ntree_limit=bst.best_ntree_limit)\n",
    "    return pred_test_y, bst, {}"
   ]
  },
  {
   "cell_type": "code",
   "execution_count": 24,
   "metadata": {},
   "outputs": [
    {
     "name": "stdout",
     "output_type": "stream",
     "text": [
      "Training until validation scores don't improve for 100 rounds.\n",
      "[200]\ttraining's rmse: 1.48037\tvalid_1's rmse: 1.49053\n",
      "[400]\ttraining's rmse: 1.3625\tvalid_1's rmse: 1.42289\n",
      "[600]\ttraining's rmse: 1.29333\tvalid_1's rmse: 1.39516\n",
      "[800]\ttraining's rmse: 1.24461\tvalid_1's rmse: 1.38455\n",
      "[1000]\ttraining's rmse: 1.20408\tvalid_1's rmse: 1.3799\n",
      "Did not meet early stopping. Best iteration is:\n",
      "[1000]\ttraining's rmse: 1.20408\tvalid_1's rmse: 1.3799\n",
      "Training until validation scores don't improve for 100 rounds.\n",
      "[200]\ttraining's rmse: 1.47554\tvalid_1's rmse: 1.52701\n",
      "[400]\ttraining's rmse: 1.36251\tvalid_1's rmse: 1.44755\n",
      "[600]\ttraining's rmse: 1.29523\tvalid_1's rmse: 1.4141\n",
      "[800]\ttraining's rmse: 1.24625\tvalid_1's rmse: 1.39499\n",
      "[1000]\ttraining's rmse: 1.20597\tvalid_1's rmse: 1.38634\n",
      "Did not meet early stopping. Best iteration is:\n",
      "[1000]\ttraining's rmse: 1.20597\tvalid_1's rmse: 1.38634\n",
      "Training until validation scores don't improve for 100 rounds.\n",
      "[200]\ttraining's rmse: 1.47571\tvalid_1's rmse: 1.52858\n",
      "[400]\ttraining's rmse: 1.35865\tvalid_1's rmse: 1.45518\n",
      "[600]\ttraining's rmse: 1.29074\tvalid_1's rmse: 1.42691\n",
      "[800]\ttraining's rmse: 1.24094\tvalid_1's rmse: 1.41613\n",
      "[1000]\ttraining's rmse: 1.20142\tvalid_1's rmse: 1.40973\n",
      "Did not meet early stopping. Best iteration is:\n",
      "[1000]\ttraining's rmse: 1.20142\tvalid_1's rmse: 1.40973\n",
      "Training until validation scores don't improve for 100 rounds.\n",
      "[200]\ttraining's rmse: 1.46548\tvalid_1's rmse: 1.56891\n",
      "[400]\ttraining's rmse: 1.35245\tvalid_1's rmse: 1.49192\n",
      "[600]\ttraining's rmse: 1.28558\tvalid_1's rmse: 1.45779\n",
      "[800]\ttraining's rmse: 1.23724\tvalid_1's rmse: 1.44408\n",
      "[1000]\ttraining's rmse: 1.19771\tvalid_1's rmse: 1.43656\n",
      "Did not meet early stopping. Best iteration is:\n",
      "[1000]\ttraining's rmse: 1.19771\tvalid_1's rmse: 1.43656\n",
      "Training until validation scores don't improve for 100 rounds.\n",
      "[200]\ttraining's rmse: 1.47357\tvalid_1's rmse: 1.53655\n",
      "[400]\ttraining's rmse: 1.3569\tvalid_1's rmse: 1.46274\n",
      "[600]\ttraining's rmse: 1.28955\tvalid_1's rmse: 1.43508\n",
      "[800]\ttraining's rmse: 1.24048\tvalid_1's rmse: 1.42512\n",
      "[1000]\ttraining's rmse: 1.19925\tvalid_1's rmse: 1.41936\n",
      "Did not meet early stopping. Best iteration is:\n",
      "[1000]\ttraining's rmse: 1.19925\tvalid_1's rmse: 1.41936\n"
     ]
    }
   ],
   "source": [
    "import numpy as np # linear algebra\n",
    "import pandas as pd # data processing, CSV file I/O (e.g. pd.read_csv)\n",
    "import matplotlib.pyplot as plt\n",
    "import seaborn as sns\n",
    "from sklearn.feature_extraction.text import TfidfVectorizer, CountVectorizer\n",
    "from sklearn.decomposition import TruncatedSVD\n",
    "from sklearn import preprocessing, model_selection, metrics\n",
    "import lightgbm as lgb\n",
    "\n",
    "kf = model_selection.KFold(n_splits=5, shuffle=True, random_state=2017)\n",
    "pred_test_full = 0\n",
    "for dev_index, val_index in kf.split(train_X):\n",
    "    dev_X, val_X = train_X.loc[dev_index,:], train_X.loc[val_index,:]\n",
    "    dev_y, val_y = train_y[dev_index], train_y[val_index]\n",
    "    \n",
    "    #pred_test, model1, evals_result = run_xgb(dev_X, dev_y, val_X, val_y, test_X)    \n",
    "    #pred_test_full += np.expm1(pred_test)\n",
    "    \n",
    "    pred_test, model2, evals_result = run_lgb(dev_X, dev_y, val_X, val_y, test_X)    \n",
    "    pred_test_full += np.expm1(pred_test)\n",
    "    \n",
    "    \n",
    "pred_test_full /= 5.\n"
   ]
  },
  {
   "cell_type": "code",
   "execution_count": 25,
   "metadata": {},
   "outputs": [],
   "source": [
    "sub_df = pd.DataFrame({\"ID\":test_df[\"ID\"].values})\n",
    "sub_df[\"target\"] = pred_test_full\n",
    "sub_df.to_csv(\"submissions/subm_005.csv\", index=False)"
   ]
  },
  {
   "cell_type": "code",
   "execution_count": null,
   "metadata": {},
   "outputs": [],
   "source": []
  }
 ],
 "metadata": {
  "kernelspec": {
   "display_name": "Python 3",
   "language": "python",
   "name": "python3"
  },
  "language_info": {
   "codemirror_mode": {
    "name": "ipython",
    "version": 3
   },
   "file_extension": ".py",
   "mimetype": "text/x-python",
   "name": "python",
   "nbconvert_exporter": "python",
   "pygments_lexer": "ipython3",
   "version": "3.6.5"
  }
 },
 "nbformat": 4,
 "nbformat_minor": 2
}
