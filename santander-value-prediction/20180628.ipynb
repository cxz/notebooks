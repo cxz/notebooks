{
 "cells": [
  {
   "cell_type": "code",
   "execution_count": 25,
   "metadata": {},
   "outputs": [],
   "source": [
    "import numpy as np\n",
    "import pickle\n",
    "\n",
    "with open('cache/traintest.pkl', 'rb') as f:\n",
    "    df_train, df_test, train_y = pickle.load(f)\n",
    "    \n",
    "with open('cache/traintest_decomposition2_50.pkl', 'rb') as f:\n",
    "    out50_train, out50_test = pickle.load(f)\n",
    "        \n",
    "with open('cache/non_zero_stats.pkl', 'rb') as f:\n",
    "    agg_train, agg_test = pickle.load(f)        "
   ]
  },
  {
   "cell_type": "code",
   "execution_count": 26,
   "metadata": {},
   "outputs": [],
   "source": [
    "from sklearn.feature_selection import VarianceThreshold    \n",
    "import pandas as pd\n",
    "from sklearn import preprocessing, model_selection, metrics\n",
    "import lightgbm as lgb\n"
   ]
  },
  {
   "cell_type": "code",
   "execution_count": 27,
   "metadata": {},
   "outputs": [
    {
     "data": {
      "text/plain": [
       "((4459, 4735), (4459, 100), (4459, 18))"
      ]
     },
     "execution_count": 27,
     "metadata": {},
     "output_type": "execute_result"
    }
   ],
   "source": [
    "df_train.shape, out50_train.shape, agg_train.shape"
   ]
  },
  {
   "cell_type": "code",
   "execution_count": 28,
   "metadata": {},
   "outputs": [],
   "source": [
    "\n",
    "\n",
    "def low_variance(df_train):\n",
    "    s = VarianceThreshold(threshold=.0)\n",
    "    s.fit(df_train)\n",
    "    idxs = s.get_support()\n",
    "    to_remove = [c for c, x in zip(df_train.columns, idxs) if not x]\n",
    "    return to_remove\n",
    "\n",
    "def nunique(df_train):\n",
    "    _, index = np.unique(df_train.values, return_index=True, axis=1)\n",
    "    return [c for idx, c in enumerate(df_train.columns) if idx not in index]\n",
    "\n",
    "def suspicious(df_train):\n",
    "    # drop zero fraction\n",
    "    thr = 0.98\n",
    "    to_ignore = []\n",
    "    for column in df_train.columns:\n",
    "        counts = df_train[column].value_counts()\n",
    "        value_fraction = counts[0] / len(df_train)\n",
    "        if value_fraction >= thr:\n",
    "            to_ignore.append(column)\n",
    "    return to_ignore\n",
    "\n"
   ]
  },
  {
   "cell_type": "code",
   "execution_count": 29,
   "metadata": {},
   "outputs": [],
   "source": [
    "to_ignore = set()\n",
    "to_ignore |= set(low_variance(df_train))\n",
    "to_ignore |= set(nunique(df_train))\n",
    "to_ignore |= set(suspicious(df_train))"
   ]
  },
  {
   "cell_type": "code",
   "execution_count": 30,
   "metadata": {},
   "outputs": [
    {
     "data": {
      "text/plain": [
       "2614"
      ]
     },
     "execution_count": 30,
     "metadata": {},
     "output_type": "execute_result"
    }
   ],
   "source": [
    "len(to_ignore)"
   ]
  },
  {
   "cell_type": "code",
   "execution_count": 31,
   "metadata": {},
   "outputs": [],
   "source": [
    "features = [c for c in df_train if c not in to_ignore]"
   ]
  },
  {
   "cell_type": "code",
   "execution_count": 32,
   "metadata": {},
   "outputs": [
    {
     "data": {
      "text/plain": [
       "2121"
      ]
     },
     "execution_count": 32,
     "metadata": {},
     "output_type": "execute_result"
    }
   ],
   "source": [
    "len(features)"
   ]
  },
  {
   "cell_type": "code",
   "execution_count": null,
   "metadata": {},
   "outputs": [],
   "source": []
  },
  {
   "cell_type": "code",
   "execution_count": null,
   "metadata": {},
   "outputs": [],
   "source": []
  },
  {
   "cell_type": "code",
   "execution_count": null,
   "metadata": {},
   "outputs": [],
   "source": []
  },
  {
   "cell_type": "code",
   "execution_count": null,
   "metadata": {},
   "outputs": [],
   "source": []
  },
  {
   "cell_type": "code",
   "execution_count": 33,
   "metadata": {},
   "outputs": [],
   "source": [
    "train_X = pd.concat([df_train[features], out50_train, agg_train], axis=1)"
   ]
  },
  {
   "cell_type": "code",
   "execution_count": 39,
   "metadata": {},
   "outputs": [],
   "source": [
    "train_X = pd.concat([out50_train, agg_train], axis=1)"
   ]
  },
  {
   "cell_type": "code",
   "execution_count": 40,
   "metadata": {},
   "outputs": [
    {
     "data": {
      "text/plain": [
       "(4459, 118)"
      ]
     },
     "execution_count": 40,
     "metadata": {},
     "output_type": "execute_result"
    }
   ],
   "source": [
    "train_X.shape"
   ]
  },
  {
   "cell_type": "code",
   "execution_count": 35,
   "metadata": {},
   "outputs": [],
   "source": [
    "\n",
    "def run_cv1(train_X, train_y):\n",
    "    params = {\n",
    "        \"objective\" : \"regression\",\n",
    "        \"metric\" : \"rmse\",\n",
    "        \"num_leaves\" : 180,\n",
    "        \"max_depth\": -1,\n",
    "        \"learning_rate\" : 0.01,\n",
    "        'min_child_weight': 10,\n",
    "        'reg_lambda': 0.1,\n",
    "        'subsample': 0.5,\n",
    "        'scale_pos_weight': 1,\n",
    "        'reg_alpha': 0.0,\n",
    "        'colsample_bytree': 0.5,\n",
    "        'max_bin': 255,\n",
    "        'subsample_freq': 4,\n",
    "        'min_child_samples': 1,\n",
    "        \n",
    "        \n",
    "        #'min_data_in_leaf': 100,\n",
    "        #\"bagging_fraction\" : 0.7,\n",
    "        #\"feature_fraction\" : 0.1,\n",
    "        #\"bagging_frequency\" : 1,\n",
    "        #\"bagging_seed\" : 2018,\n",
    "        \"verbosity\" : -1\n",
    "    }\n",
    "    \n",
    "    lgtrain = lgb.Dataset(train_X, \n",
    "                          label=train_y)\n",
    "    hist = lgb.cv(params, \n",
    "                  lgtrain, \n",
    "                  10000, \n",
    "                  nfold=5, \n",
    "                  early_stopping_rounds=100, \n",
    "                  stratified=False,\n",
    "                  verbose_eval=50)\n"
   ]
  },
  {
   "cell_type": "code",
   "execution_count": 93,
   "metadata": {},
   "outputs": [],
   "source": [
    "def run_cv2(train_X, train_y):\n",
    "    params = {\n",
    "        \"objective\" : \"regression\",\n",
    "        \"metric\" : \"rmse\",\n",
    "        \"num_leaves\" : 127,\n",
    "        \"max_depth\": 6,\n",
    "        \"learning_rate\" : 0.005,\n",
    "        'min_child_weight': 10,\n",
    "        'reg_lambda': 0.1,\n",
    "        'subsample': 0.5,\n",
    "        'scale_pos_weight': 1,\n",
    "        'reg_alpha': 0.0,\n",
    "        #'colsample_bytree': 0.5,\n",
    "        'max_bin': 255,\n",
    "        # 'subsample_freq': 4,\n",
    "        #'min_child_samples': 1,\n",
    "                \n",
    "        #'min_data_in_leaf': 100,\n",
    "        \"bagging_fraction\" : 0.2,\n",
    "        \"feature_fraction\" : 0.15,\n",
    "        \"bagging_frequency\" : 10,\n",
    "        #\"bagging_seed\" : 2018,\n",
    "        \"verbosity\" : -1\n",
    "    }\n",
    "    \n",
    "    lgtrain = lgb.Dataset(train_X, \n",
    "                          label=train_y)\n",
    "    hist = lgb.cv(params, \n",
    "                  lgtrain, \n",
    "                  10000, \n",
    "                  nfold=5, \n",
    "                  early_stopping_rounds=100, \n",
    "                  stratified=False,\n",
    "                  verbose_eval=50)"
   ]
  },
  {
   "cell_type": "code",
   "execution_count": 94,
   "metadata": {},
   "outputs": [
    {
     "name": "stdout",
     "output_type": "stream",
     "text": [
      "[50]\tcv_agg's rmse: 1.63862 + 0.0339141\n",
      "[100]\tcv_agg's rmse: 1.55571 + 0.0288839\n",
      "[150]\tcv_agg's rmse: 1.49253 + 0.0243665\n",
      "[200]\tcv_agg's rmse: 1.44848 + 0.0208897\n",
      "[250]\tcv_agg's rmse: 1.41825 + 0.0185473\n",
      "[300]\tcv_agg's rmse: 1.39655 + 0.0164074\n",
      "[350]\tcv_agg's rmse: 1.38128 + 0.0154288\n",
      "[400]\tcv_agg's rmse: 1.36972 + 0.0147235\n",
      "[450]\tcv_agg's rmse: 1.36155 + 0.0143164\n",
      "[500]\tcv_agg's rmse: 1.35585 + 0.0141555\n",
      "[550]\tcv_agg's rmse: 1.35141 + 0.0141661\n",
      "[600]\tcv_agg's rmse: 1.34777 + 0.0141796\n",
      "[650]\tcv_agg's rmse: 1.34514 + 0.0143395\n",
      "[700]\tcv_agg's rmse: 1.34308 + 0.0145328\n",
      "[750]\tcv_agg's rmse: 1.34174 + 0.0147824\n",
      "[800]\tcv_agg's rmse: 1.34091 + 0.014901\n",
      "[850]\tcv_agg's rmse: 1.34013 + 0.0153245\n",
      "[900]\tcv_agg's rmse: 1.33949 + 0.0153963\n",
      "[950]\tcv_agg's rmse: 1.33898 + 0.0153247\n",
      "[1000]\tcv_agg's rmse: 1.33889 + 0.0155649\n",
      "[1050]\tcv_agg's rmse: 1.33858 + 0.015684\n",
      "[1100]\tcv_agg's rmse: 1.3384 + 0.0158184\n",
      "[1150]\tcv_agg's rmse: 1.33821 + 0.0160593\n",
      "[1200]\tcv_agg's rmse: 1.33807 + 0.0162804\n",
      "[1250]\tcv_agg's rmse: 1.33784 + 0.0163446\n",
      "[1300]\tcv_agg's rmse: 1.33768 + 0.0164493\n",
      "[1350]\tcv_agg's rmse: 1.3376 + 0.0163406\n",
      "[1400]\tcv_agg's rmse: 1.3376 + 0.0166203\n",
      "[1450]\tcv_agg's rmse: 1.33753 + 0.0166195\n",
      "[1500]\tcv_agg's rmse: 1.33743 + 0.0167446\n",
      "[1550]\tcv_agg's rmse: 1.3375 + 0.0166939\n",
      "[1600]\tcv_agg's rmse: 1.33772 + 0.0165822\n"
     ]
    }
   ],
   "source": [
    "#run_cv(train_X, train_y)\n",
    "run_cv2(train_X, train_y)"
   ]
  },
  {
   "cell_type": "code",
   "execution_count": null,
   "metadata": {},
   "outputs": [],
   "source": []
  },
  {
   "cell_type": "code",
   "execution_count": 36,
   "metadata": {},
   "outputs": [
    {
     "name": "stdout",
     "output_type": "stream",
     "text": [
      "[50]\tcv_agg's rmse: 1.5136 + 0.0274603\n",
      "[100]\tcv_agg's rmse: 1.41094 + 0.0193085\n",
      "[150]\tcv_agg's rmse: 1.36727 + 0.0179535\n",
      "[200]\tcv_agg's rmse: 1.34997 + 0.0174103\n",
      "[250]\tcv_agg's rmse: 1.3438 + 0.0174458\n",
      "[300]\tcv_agg's rmse: 1.34152 + 0.0189359\n",
      "[350]\tcv_agg's rmse: 1.34045 + 0.0191162\n",
      "[400]\tcv_agg's rmse: 1.34092 + 0.0192083\n"
     ]
    }
   ],
   "source": []
  },
  {
   "cell_type": "code",
   "execution_count": null,
   "metadata": {},
   "outputs": [],
   "source": [
    "\"\"\"\n",
    "[50]\tcv_agg's rmse: 1.517 + 0.0271728\n",
    "[100]\tcv_agg's rmse: 1.41489 + 0.0165783\n",
    "[150]\tcv_agg's rmse: 1.37202 + 0.013006\n",
    "[200]\tcv_agg's rmse: 1.35475 + 0.0114454\n",
    "[250]\tcv_agg's rmse: 1.34908 + 0.0120152\n",
    "[300]\tcv_agg's rmse: 1.34677 + 0.012814\n",
    "[350]\tcv_agg's rmse: 1.34612 + 0.0133199\n",
    "[400]\tcv_agg's rmse: 1.34716 + 0.0137825\n",
    "[450]\tcv_agg's rmse: 1.34801 + 0.0132945\n",
    "\n",
    "\"\"\""
   ]
  },
  {
   "cell_type": "code",
   "execution_count": null,
   "metadata": {},
   "outputs": [],
   "source": []
  },
  {
   "cell_type": "code",
   "execution_count": 95,
   "metadata": {},
   "outputs": [],
   "source": [
    "def run_lgb(train_X, train_y, val_X, val_y, test_X):\n",
    "    params = {\n",
    "        \"objective\" : \"regression\",\n",
    "        \"metric\" : \"rmse\",\n",
    "        \"num_leaves\" : 127,\n",
    "        \"max_depth\": 6,\n",
    "        \"learning_rate\" : 0.005,\n",
    "        'min_child_weight': 10,\n",
    "        'reg_lambda': 0.1,\n",
    "        'subsample': 0.5,\n",
    "        'scale_pos_weight': 1,\n",
    "        'reg_alpha': 0.0,\n",
    "        #'colsample_bytree': 0.5,\n",
    "        'max_bin': 255,\n",
    "        # 'subsample_freq': 4,\n",
    "        #'min_child_samples': 1,\n",
    "                \n",
    "        #'min_data_in_leaf': 100,\n",
    "        \"bagging_fraction\" : 0.2,\n",
    "        \"feature_fraction\" : 0.15,\n",
    "        \"bagging_frequency\" : 10,\n",
    "        #\"bagging_seed\" : 2018,\n",
    "        \"verbosity\" : -1\n",
    "    }\n",
    "    \n",
    "    lgtrain = lgb.Dataset(train_X, label=train_y)\n",
    "    lgval = lgb.Dataset(val_X, label=val_y)\n",
    "    evals_result = {}\n",
    "    model = lgb.train(params, \n",
    "                      lgtrain, \n",
    "                      num_boost_round=10000, \n",
    "                      valid_sets=[lgtrain, lgval], \n",
    "                      early_stopping_rounds=100, \n",
    "                      verbose_eval=200, \n",
    "                      evals_result=evals_result)\n",
    "    \n",
    "    #pred_test_y = model.predict(test_X, num_iteration=model.best_iteration)\n",
    "    return model, evals_result"
   ]
  },
  {
   "cell_type": "code",
   "execution_count": null,
   "metadata": {},
   "outputs": [],
   "source": []
  },
  {
   "cell_type": "code",
   "execution_count": 96,
   "metadata": {},
   "outputs": [
    {
     "name": "stdout",
     "output_type": "stream",
     "text": [
      "Training until validation scores don't improve for 100 rounds.\n",
      "[200]\ttraining's rmse: 1.34303\tvalid_1's rmse: 1.45576\n",
      "[400]\ttraining's rmse: 1.17747\tvalid_1's rmse: 1.3735\n",
      "[600]\ttraining's rmse: 1.08174\tvalid_1's rmse: 1.34897\n",
      "[800]\ttraining's rmse: 1.01719\tvalid_1's rmse: 1.34243\n",
      "[1000]\ttraining's rmse: 0.969818\tvalid_1's rmse: 1.33968\n",
      "[1200]\ttraining's rmse: 0.927572\tvalid_1's rmse: 1.33838\n",
      "[1400]\ttraining's rmse: 0.88945\tvalid_1's rmse: 1.33817\n",
      "Early stopping, best iteration is:\n",
      "[1364]\ttraining's rmse: 0.896116\tvalid_1's rmse: 1.33791\n",
      "fold 0:  1.337908326377923\n",
      "Training until validation scores don't improve for 100 rounds.\n",
      "[200]\ttraining's rmse: 1.34709\tvalid_1's rmse: 1.45252\n",
      "[400]\ttraining's rmse: 1.17712\tvalid_1's rmse: 1.36703\n",
      "[600]\ttraining's rmse: 1.07979\tvalid_1's rmse: 1.34392\n",
      "[800]\ttraining's rmse: 1.00923\tvalid_1's rmse: 1.33792\n",
      "[1000]\ttraining's rmse: 0.955367\tvalid_1's rmse: 1.33627\n",
      "[1200]\ttraining's rmse: 0.913423\tvalid_1's rmse: 1.33629\n",
      "Early stopping, best iteration is:\n",
      "[1143]\ttraining's rmse: 0.924944\tvalid_1's rmse: 1.33598\n",
      "fold 1:  1.3359783136728005\n",
      "Training until validation scores don't improve for 100 rounds.\n",
      "[200]\ttraining's rmse: 1.3467\tvalid_1's rmse: 1.43841\n",
      "[400]\ttraining's rmse: 1.17354\tvalid_1's rmse: 1.36974\n",
      "[600]\ttraining's rmse: 1.07508\tvalid_1's rmse: 1.35351\n",
      "[800]\ttraining's rmse: 1.00242\tvalid_1's rmse: 1.3485\n",
      "[1000]\ttraining's rmse: 0.945715\tvalid_1's rmse: 1.34576\n",
      "[1200]\ttraining's rmse: 0.896768\tvalid_1's rmse: 1.34481\n",
      "Early stopping, best iteration is:\n",
      "[1182]\ttraining's rmse: 0.900232\tvalid_1's rmse: 1.34477\n",
      "fold 2:  1.344766986545362\n"
     ]
    }
   ],
   "source": [
    "#test_X = pd.concat([df_test[features], out100_test, agg_test], axis=1)\n",
    "test_X = pd.concat([out50_test, agg_test], axis=1)\n",
    "\n",
    "                    \n",
    "folds = 3\n",
    "kf = model_selection.KFold(n_splits=folds, shuffle=True, random_state=0)\n",
    "\n",
    "sub_preds = np.zeros(test_X.shape[0])\n",
    "oof_preds = np.zeros(train_X.shape[0])\n",
    "\n",
    "for fold_no, (dev_index, val_index) in enumerate(kf.split(train_X)):\n",
    "    dev_X, val_X = train_X.loc[dev_index,:], train_X.loc[val_index,:]\n",
    "    dev_y, val_y = train_y[dev_index], train_y[val_index]\n",
    "    model, evals_result = run_lgb(dev_X, dev_y, val_X, val_y, test_X)\n",
    "    \n",
    "    oof_preds[val_index] = model.predict(val_X, num_iteration=model.best_iteration)\n",
    "    fold_rmse = np.sqrt(metrics.mean_squared_error(val_y, oof_preds[val_index]))\n",
    "    print(f\"fold {fold_no}: \", fold_rmse)    \n",
    "    \n",
    "    pred_test = model.predict(test_X, num_iteration=model.best_iteration)    \n",
    "    sub_preds += np.expm1(pred_test) / folds"
   ]
  },
  {
   "cell_type": "code",
   "execution_count": 27,
   "metadata": {},
   "outputs": [
    {
     "name": "stdout",
     "output_type": "stream",
     "text": [
      "Training until validation scores don't improve for 100 rounds.\n",
      "[200]\ttraining's rmse: 0.834297\tvalid_1's rmse: 1.26202\n",
      "[400]\ttraining's rmse: 0.515362\tvalid_1's rmse: 1.23768\n",
      "Early stopping, best iteration is:\n",
      "[495]\ttraining's rmse: 0.421357\tvalid_1's rmse: 1.23653\n",
      "fold 0:  1.236528004279091\n",
      "Training until validation scores don't improve for 100 rounds.\n",
      "[200]\ttraining's rmse: 0.828484\tvalid_1's rmse: 1.43361\n",
      "Early stopping, best iteration is:\n",
      "[214]\ttraining's rmse: 0.797659\tvalid_1's rmse: 1.43121\n",
      "fold 1:  1.4312126457898486\n",
      "Training until validation scores don't improve for 100 rounds.\n",
      "[200]\ttraining's rmse: 0.825663\tvalid_1's rmse: 1.31121\n",
      "[400]\ttraining's rmse: 0.509487\tvalid_1's rmse: 1.29656\n",
      "Early stopping, best iteration is:\n",
      "[449]\ttraining's rmse: 0.457818\tvalid_1's rmse: 1.29514\n",
      "fold 2:  1.2951411121611769\n",
      "Training until validation scores don't improve for 100 rounds.\n",
      "[200]\ttraining's rmse: 0.829188\tvalid_1's rmse: 1.36447\n",
      "Early stopping, best iteration is:\n",
      "[287]\ttraining's rmse: 0.663965\tvalid_1's rmse: 1.36202\n",
      "fold 3:  1.3620202828381949\n",
      "Training until validation scores don't improve for 100 rounds.\n",
      "[200]\ttraining's rmse: 0.826265\tvalid_1's rmse: 1.43105\n",
      "[400]\ttraining's rmse: 0.510165\tvalid_1's rmse: 1.41348\n",
      "Early stopping, best iteration is:\n",
      "[414]\ttraining's rmse: 0.494771\tvalid_1's rmse: 1.41277\n",
      "fold 4:  1.4127694712925158\n",
      "Training until validation scores don't improve for 100 rounds.\n",
      "[200]\ttraining's rmse: 0.830692\tvalid_1's rmse: 1.34109\n",
      "[400]\ttraining's rmse: 0.515346\tvalid_1's rmse: 1.31298\n",
      "Early stopping, best iteration is:\n",
      "[401]\ttraining's rmse: 0.514199\tvalid_1's rmse: 1.31279\n",
      "fold 5:  1.3127859447353034\n",
      "Training until validation scores don't improve for 100 rounds.\n",
      "[200]\ttraining's rmse: 0.831571\tvalid_1's rmse: 1.2529\n",
      "[400]\ttraining's rmse: 0.512767\tvalid_1's rmse: 1.22679\n",
      "Early stopping, best iteration is:\n",
      "[381]\ttraining's rmse: 0.534756\tvalid_1's rmse: 1.22595\n",
      "fold 6:  1.2259532135353133\n",
      "Training until validation scores don't improve for 100 rounds.\n",
      "[200]\ttraining's rmse: 0.825363\tvalid_1's rmse: 1.39067\n",
      "Early stopping, best iteration is:\n",
      "[269]\ttraining's rmse: 0.690425\tvalid_1's rmse: 1.3812\n",
      "fold 7:  1.381195492401846\n",
      "Training until validation scores don't improve for 100 rounds.\n",
      "[200]\ttraining's rmse: 0.830439\tvalid_1's rmse: 1.34321\n",
      "[400]\ttraining's rmse: 0.513397\tvalid_1's rmse: 1.32135\n",
      "Early stopping, best iteration is:\n",
      "[484]\ttraining's rmse: 0.429624\tvalid_1's rmse: 1.31829\n",
      "fold 8:  1.3182890273427927\n",
      "Training until validation scores don't improve for 100 rounds.\n",
      "[200]\ttraining's rmse: 0.826189\tvalid_1's rmse: 1.34689\n",
      "Early stopping, best iteration is:\n",
      "[192]\ttraining's rmse: 0.843798\tvalid_1's rmse: 1.34486\n",
      "fold 9:  1.3448573733912144\n",
      "Training until validation scores don't improve for 100 rounds.\n",
      "[200]\ttraining's rmse: 0.824119\tvalid_1's rmse: 1.40987\n",
      "[400]\ttraining's rmse: 0.509966\tvalid_1's rmse: 1.38622\n",
      "Early stopping, best iteration is:\n",
      "[439]\ttraining's rmse: 0.46851\tvalid_1's rmse: 1.38396\n",
      "fold 10:  1.3839573564512937\n",
      "Training until validation scores don't improve for 100 rounds.\n",
      "[200]\ttraining's rmse: 0.831565\tvalid_1's rmse: 1.18215\n",
      "[400]\ttraining's rmse: 0.514486\tvalid_1's rmse: 1.16355\n",
      "Early stopping, best iteration is:\n",
      "[360]\ttraining's rmse: 0.562097\tvalid_1's rmse: 1.15954\n",
      "fold 11:  1.1595407046500548\n",
      "Training until validation scores don't improve for 100 rounds.\n",
      "[200]\ttraining's rmse: 0.828778\tvalid_1's rmse: 1.35656\n",
      "[400]\ttraining's rmse: 0.511484\tvalid_1's rmse: 1.34418\n",
      "Early stopping, best iteration is:\n",
      "[323]\ttraining's rmse: 0.609555\tvalid_1's rmse: 1.34056\n",
      "fold 12:  1.3405633168486653\n",
      "Training until validation scores don't improve for 100 rounds.\n",
      "[200]\ttraining's rmse: 0.826479\tvalid_1's rmse: 1.32039\n",
      "Early stopping, best iteration is:\n",
      "[227]\ttraining's rmse: 0.769686\tvalid_1's rmse: 1.31763\n",
      "fold 13:  1.3176268882274436\n",
      "Training until validation scores don't improve for 100 rounds.\n",
      "[200]\ttraining's rmse: 0.824263\tvalid_1's rmse: 1.37394\n",
      "Early stopping, best iteration is:\n",
      "[190]\ttraining's rmse: 0.8473\tvalid_1's rmse: 1.37316\n",
      "fold 14:  1.3731579912320198\n",
      "Training until validation scores don't improve for 100 rounds.\n",
      "[200]\ttraining's rmse: 0.825505\tvalid_1's rmse: 1.38372\n",
      "[400]\ttraining's rmse: 0.509098\tvalid_1's rmse: 1.37877\n",
      "Early stopping, best iteration is:\n",
      "[307]\ttraining's rmse: 0.630431\tvalid_1's rmse: 1.37728\n",
      "fold 15:  1.3772822005526644\n",
      "Training until validation scores don't improve for 100 rounds.\n",
      "[200]\ttraining's rmse: 0.830069\tvalid_1's rmse: 1.3555\n",
      "Early stopping, best iteration is:\n",
      "[271]\ttraining's rmse: 0.692257\tvalid_1's rmse: 1.34458\n",
      "fold 16:  1.344582858696563\n",
      "Training until validation scores don't improve for 100 rounds.\n",
      "[200]\ttraining's rmse: 0.829756\tvalid_1's rmse: 1.36488\n",
      "[400]\ttraining's rmse: 0.513945\tvalid_1's rmse: 1.34669\n",
      "Early stopping, best iteration is:\n",
      "[395]\ttraining's rmse: 0.519528\tvalid_1's rmse: 1.34605\n",
      "fold 17:  1.3460519230320882\n",
      "Training until validation scores don't improve for 100 rounds.\n",
      "[200]\ttraining's rmse: 0.82621\tvalid_1's rmse: 1.40994\n",
      "[400]\ttraining's rmse: 0.514407\tvalid_1's rmse: 1.39244\n",
      "[600]\ttraining's rmse: 0.342139\tvalid_1's rmse: 1.38537\n",
      "[800]\ttraining's rmse: 0.242622\tvalid_1's rmse: 1.38197\n",
      "[1000]\ttraining's rmse: 0.179887\tvalid_1's rmse: 1.37956\n",
      "Early stopping, best iteration is:\n",
      "[950]\ttraining's rmse: 0.193003\tvalid_1's rmse: 1.37905\n",
      "fold 18:  1.3790481187524881\n",
      "Training until validation scores don't improve for 100 rounds.\n",
      "[200]\ttraining's rmse: 0.832556\tvalid_1's rmse: 1.22071\n",
      "[400]\ttraining's rmse: 0.514647\tvalid_1's rmse: 1.20078\n",
      "[600]\ttraining's rmse: 0.34119\tvalid_1's rmse: 1.19875\n",
      "Early stopping, best iteration is:\n",
      "[514]\ttraining's rmse: 0.403883\tvalid_1's rmse: 1.19612\n",
      "fold 19:  1.1961168577630352\n"
     ]
    }
   ],
   "source": [
    "\n",
    "    "
   ]
  },
  {
   "cell_type": "code",
   "execution_count": null,
   "metadata": {},
   "outputs": [],
   "source": []
  },
  {
   "cell_type": "code",
   "execution_count": 97,
   "metadata": {},
   "outputs": [],
   "source": [
    "sample = pd.read_csv('input/test.csv', usecols=['ID'])\n",
    "sample[\"target\"] = sub_preds\n",
    "sample.to_csv(\"submissions/subm_012b.csv\", index=False)"
   ]
  },
  {
   "cell_type": "code",
   "execution_count": 98,
   "metadata": {},
   "outputs": [],
   "source": [
    "subm_000 = pd.read_csv('submissions/subm_000.csv')\n",
    "subm_010 = pd.read_csv('submissions/subm_010.csv')\n",
    "subm_011 = pd.read_csv('submissions/subm_011.csv')\n",
    "subm_012a = pd.read_csv('submissions/subm_012a.csv')\n",
    "subm_012b = pd.read_csv('submissions/subm_012b.csv')\n"
   ]
  },
  {
   "cell_type": "code",
   "execution_count": 99,
   "metadata": {},
   "outputs": [],
   "source": [
    "subm_012a['subm_000'] = subm_000.target.values\n",
    "subm_012a['subm_010'] = subm_010.target.values\n",
    "subm_012a['subm_011'] = subm_011.target.values\n",
    "subm_012a['subm_012b'] = subm_012b.target.values"
   ]
  },
  {
   "cell_type": "code",
   "execution_count": 102,
   "metadata": {},
   "outputs": [],
   "source": [
    "subm_012b.target = subm_012b.target * 0.6 + subm_000.target * 0.2 + subm_010.target * 0.2\n",
    "subm_012b.to_csv(\"submissions/subm_012.csv\", index=False)"
   ]
  },
  {
   "cell_type": "code",
   "execution_count": null,
   "metadata": {},
   "outputs": [],
   "source": []
  }
 ],
 "metadata": {
  "kernelspec": {
   "display_name": "Python 3",
   "language": "python",
   "name": "python3"
  },
  "language_info": {
   "codemirror_mode": {
    "name": "ipython",
    "version": 3
   },
   "file_extension": ".py",
   "mimetype": "text/x-python",
   "name": "python",
   "nbconvert_exporter": "python",
   "pygments_lexer": "ipython3",
   "version": "3.6.5"
  }
 },
 "nbformat": 4,
 "nbformat_minor": 2
}
