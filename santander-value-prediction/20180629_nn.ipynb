{
 "cells": [
  {
   "cell_type": "code",
   "execution_count": 1,
   "metadata": {},
   "outputs": [],
   "source": [
    "import numpy as np\n",
    "import pickle\n",
    "\n",
    "with open('cache/traintest.pkl', 'rb') as f:\n",
    "    df_train, df_test, train_y = pickle.load(f)\n",
    "    \n",
    "with open('cache/traintest_decomposition2_50.pkl', 'rb') as f:\n",
    "    out50_train, out50_test = pickle.load(f)\n",
    "        \n",
    "with open('cache/non_zero_stats.pkl', 'rb') as f:\n",
    "    agg_train, agg_test = pickle.load(f)        "
   ]
  },
  {
   "cell_type": "code",
   "execution_count": 2,
   "metadata": {},
   "outputs": [],
   "source": [
    "from sklearn.feature_selection import VarianceThreshold    \n",
    "import pandas as pd\n",
    "from sklearn import preprocessing, model_selection, metrics\n",
    "import lightgbm as lgb\n",
    "import xgboost as xgb\n"
   ]
  },
  {
   "cell_type": "code",
   "execution_count": 3,
   "metadata": {},
   "outputs": [
    {
     "data": {
      "text/plain": [
       "((4459, 4735), (4459, 100), (4459, 18))"
      ]
     },
     "execution_count": 3,
     "metadata": {},
     "output_type": "execute_result"
    }
   ],
   "source": [
    "df_train.shape, out50_train.shape, agg_train.shape"
   ]
  },
  {
   "cell_type": "code",
   "execution_count": 4,
   "metadata": {},
   "outputs": [],
   "source": [
    "def _to_ignore(df_train):\n",
    "    def low_variance(df_train):\n",
    "        s = VarianceThreshold(threshold=.0)\n",
    "        s.fit(df_train)\n",
    "        idxs = s.get_support()\n",
    "        to_remove = [c for c, x in zip(df_train.columns, idxs) if not x]\n",
    "        return to_remove\n",
    "\n",
    "    def nunique(df_train):\n",
    "        _, index = np.unique(df_train.values, return_index=True, axis=1)\n",
    "        return [c for idx, c in enumerate(df_train.columns) if idx not in index]\n",
    "\n",
    "    def suspicious(df_train):\n",
    "        # drop zero fraction\n",
    "        thr = 0.98\n",
    "        to_ignore = []\n",
    "        for column in df_train.columns:\n",
    "            counts = df_train[column].value_counts()\n",
    "            value_fraction = counts[0] / len(df_train)\n",
    "            if value_fraction >= thr:\n",
    "                to_ignore.append(column)\n",
    "        return to_ignore\n",
    "\n",
    "    to_ignore = set()\n",
    "    to_ignore |= set(low_variance(df_train))\n",
    "    to_ignore |= set(nunique(df_train))\n",
    "    to_ignore |= set(suspicious(df_train))\n",
    "    return to_ignore\n",
    "\n",
    "from sklearn.feature_selection import VarianceThreshold    \n",
    "from sklearn import preprocessing, model_selection, metrics\n",
    "\n",
    "to_ignore = _to_ignore(df_train)\n",
    "features = [c for c in df_train if c not in to_ignore]"
   ]
  },
  {
   "cell_type": "code",
   "execution_count": 5,
   "metadata": {},
   "outputs": [
    {
     "name": "stdout",
     "output_type": "stream",
     "text": [
      "2121\n"
     ]
    }
   ],
   "source": [
    "print(len(features))"
   ]
  },
  {
   "cell_type": "code",
   "execution_count": null,
   "metadata": {},
   "outputs": [],
   "source": []
  },
  {
   "cell_type": "code",
   "execution_count": 6,
   "metadata": {},
   "outputs": [],
   "source": [
    "original = [\n",
    "    'f190486d6',\n",
    "    '58e056e12',\n",
    "    '58e2e02e6',\n",
    "    '15ace8c9f',\n",
    "    'fc436be29',\n",
    "    '9fd594eec',\n",
    "    'b6fa5a5fd',\n",
    "    'eeb9cd3aa',\n",
    "]"
   ]
  },
  {
   "cell_type": "code",
   "execution_count": 7,
   "metadata": {},
   "outputs": [
    {
     "name": "stdout",
     "output_type": "stream",
     "text": [
      "f190486d6 319612000.0 200000000.0\n",
      "58e056e12 319612000.0 343333340.0\n",
      "58e2e02e6 319612000.0 343333340.0\n",
      "15ace8c9f 319612000.0 270074900.0\n",
      "fc436be29 130000000.0 174891420.0\n",
      "9fd594eec 115538000.0 343333340.0\n",
      "b6fa5a5fd 200000000.0 279597950.0\n",
      "eeb9cd3aa 319612000.0 336784540.0\n"
     ]
    }
   ],
   "source": [
    "for c in original:\n",
    "    print(c, np.max(df_train[c]), np.max(df_test[c]))"
   ]
  },
  {
   "cell_type": "code",
   "execution_count": null,
   "metadata": {},
   "outputs": [],
   "source": []
  },
  {
   "cell_type": "code",
   "execution_count": 8,
   "metadata": {},
   "outputs": [],
   "source": [
    "import scipy\n",
    "from tqdm import tqdm"
   ]
  },
  {
   "cell_type": "code",
   "execution_count": 9,
   "metadata": {},
   "outputs": [],
   "source": [
    "def build_stats(df_train, df_test, columns):\n",
    "    out_train = pd.DataFrame()\n",
    "    out_test = pd.DataFrame()\n",
    "    \n",
    "    df_all = pd.concat([df_train[columns], df_test[columns]]).astype(np.float32)\n",
    "    \n",
    "    for c in tqdm(columns):\n",
    "        _, _, bin_idx = scipy.stats.binned_statistic(df_all[c], df_all[c], bins=100)\n",
    "        out_train[f\"{c}_bin\"] = bin_idx[:df_train.shape[0]]\n",
    "        out_test[f\"{c}_bin\"] = bin_idx[df_train.shape[0]:]\n",
    "        \n",
    "        rank = scipy.stats.rankdata(df_all[c])\n",
    "        out_train[f\"{c}_rank\"] = rank[:df_train.shape[0]]\n",
    "        out_test[f\"{c}_rank\"] = rank[df_train.shape[0]:]\n",
    "        \n",
    "        #no good\n",
    "        #zscore = scipy.stats.rankdata(df_all[c])\n",
    "        #out_train[f\"{c}_zscore\"] = zscore[:df_train.shape[0]]\n",
    "        #out_test[f\"{c}_zscore\"] = zscore[df_train.shape[0]:]\n",
    "        \n",
    "    return out_train, out_test\n",
    "     \n",
    "        \n",
    "    "
   ]
  },
  {
   "cell_type": "code",
   "execution_count": 10,
   "metadata": {},
   "outputs": [
    {
     "name": "stderr",
     "output_type": "stream",
     "text": [
      "100%|██████████| 8/8 [00:00<00:00, 61.84it/s]\n"
     ]
    }
   ],
   "source": [
    "stats1_train, stats1_test = build_stats(df_train, df_test, original)"
   ]
  },
  {
   "cell_type": "code",
   "execution_count": 12,
   "metadata": {},
   "outputs": [],
   "source": [
    "\n",
    "\n"
   ]
  },
  {
   "cell_type": "code",
   "execution_count": null,
   "metadata": {},
   "outputs": [],
   "source": []
  },
  {
   "cell_type": "code",
   "execution_count": null,
   "metadata": {},
   "outputs": [],
   "source": []
  },
  {
   "cell_type": "code",
   "execution_count": null,
   "metadata": {},
   "outputs": [],
   "source": []
  },
  {
   "cell_type": "code",
   "execution_count": null,
   "metadata": {},
   "outputs": [],
   "source": []
  },
  {
   "cell_type": "code",
   "execution_count": 29,
   "metadata": {},
   "outputs": [],
   "source": [
    "train_X = pd.concat([df_train[original], out50_train, agg_train, stats1_train], axis=1)\n",
    "#train_X = pd.concat([df_train[features], out50_train, agg_train, stats1_train], axis=1)\n",
    "#train_X = pd.concat([out50_train, agg_train], axis=1)\n",
    "train_X = train_X.replace([np.inf, -np.inf], np.nan)\n",
    "train_X = train_X.fillna(0)\n",
    "\n",
    "test_X = pd.concat([df_test[original], out50_test, agg_test, stats1_test], axis=1)\n",
    "#test_X = pd.concat([df_test[features], out50_test, agg_test, stats1_test], axis=1)\n",
    "#test_X = pd.concat([out50_test, agg_test], axis=1)\n",
    "test_X = test_X.replace([np.inf, -np.inf], np.nan)\n",
    "test_X = test_X.fillna(0)\n"
   ]
  },
  {
   "cell_type": "code",
   "execution_count": 30,
   "metadata": {},
   "outputs": [
    {
     "data": {
      "text/plain": [
       "((4459, 142), (49342, 142))"
      ]
     },
     "execution_count": 30,
     "metadata": {},
     "output_type": "execute_result"
    }
   ],
   "source": [
    "train_X.shape, test_X.shape"
   ]
  },
  {
   "cell_type": "code",
   "execution_count": 31,
   "metadata": {},
   "outputs": [
    {
     "name": "stderr",
     "output_type": "stream",
     "text": [
      " 55%|█████▍    | 78/142 [00:00<00:00, 772.32it/s]/opt/miniconda2/envs/avito/lib/python3.6/site-packages/sklearn/utils/validation.py:475: DataConversionWarning: Data with input dtype int64 was converted to float64 by MinMaxScaler.\n",
      "  warnings.warn(msg, DataConversionWarning)\n",
      "100%|██████████| 142/142 [00:00<00:00, 732.98it/s]\n"
     ]
    }
   ],
   "source": [
    "# need to scale & normalize everything\n",
    "from sklearn.preprocessing import RobustScaler, StandardScaler, MinMaxScaler\n",
    "\n",
    "for c in tqdm(train_X.columns):\n",
    "    s = MinMaxScaler()\n",
    "    s.fit(train_X[c].values.reshape(-1, 1))\n",
    "    train_X[c] = s.transform(train_X[c].values.reshape(-1, 1))\n",
    "    test_X[c] = s.transform(test_X[c].values.reshape(-1, 1))\n",
    "    \n",
    "    "
   ]
  },
  {
   "cell_type": "code",
   "execution_count": null,
   "metadata": {},
   "outputs": [],
   "source": [
    "\n"
   ]
  },
  {
   "cell_type": "code",
   "execution_count": null,
   "metadata": {},
   "outputs": [],
   "source": []
  },
  {
   "cell_type": "code",
   "execution_count": null,
   "metadata": {},
   "outputs": [],
   "source": []
  },
  {
   "cell_type": "code",
   "execution_count": null,
   "metadata": {},
   "outputs": [],
   "source": []
  },
  {
   "cell_type": "code",
   "execution_count": null,
   "metadata": {},
   "outputs": [],
   "source": []
  },
  {
   "cell_type": "code",
   "execution_count": null,
   "metadata": {},
   "outputs": [],
   "source": []
  },
  {
   "cell_type": "code",
   "execution_count": 34,
   "metadata": {},
   "outputs": [],
   "source": [
    "\n",
    "def run_cv2(train_X, train_y):\n",
    "    params = {\n",
    "        \"objective\" : \"regression\",\n",
    "        \"metric\" : \"rmse\",\n",
    "        \"num_leaves\" : 127,\n",
    "        \"max_depth\": -1,\n",
    "        \"learning_rate\" : 0.005,\n",
    "        #'min_child_weight': 10,\n",
    "        #'reg_lambda': 0.1,\n",
    "        #'subsample': 0.5,\n",
    "        #'scale_pos_weight': 1,\n",
    "        #'reg_alpha': 0.0,\n",
    "        #'colsample_bytree': 0.5,\n",
    "        #'max_bin': 255,\n",
    "        # 'subsample_freq': 4,\n",
    "        #'min_child_samples': 1,\n",
    "                \n",
    "        #'min_data_in_leaf': 100,\n",
    "        \"feature_fraction\" : 0.15,\n",
    "        \"bagging_fraction\" : 0.2,\n",
    "        \"bagging_frequency\" : 1,\n",
    "        #\"bagging_seed\" : 2018,\n",
    "        \"verbosity\" : -1\n",
    "    }\n",
    "    \n",
    "    lgtrain = lgb.Dataset(train_X, \n",
    "                          label=train_y)\n",
    "    hist = lgb.cv(params, \n",
    "                  lgtrain, \n",
    "                  10000, \n",
    "                  nfold=5, \n",
    "                  early_stopping_rounds=100, \n",
    "                  stratified=False,\n",
    "                  verbose_eval=50)\n"
   ]
  },
  {
   "cell_type": "code",
   "execution_count": 35,
   "metadata": {},
   "outputs": [
    {
     "name": "stdout",
     "output_type": "stream",
     "text": [
      "[50]\tcv_agg's rmse: 1.62298 + 0.0327949\n",
      "[100]\tcv_agg's rmse: 1.53156 + 0.027106\n",
      "[150]\tcv_agg's rmse: 1.46915 + 0.0230909\n",
      "[200]\tcv_agg's rmse: 1.4255 + 0.0198853\n",
      "[250]\tcv_agg's rmse: 1.39529 + 0.0178088\n",
      "[300]\tcv_agg's rmse: 1.37523 + 0.0166195\n",
      "[350]\tcv_agg's rmse: 1.36146 + 0.0153628\n",
      "[400]\tcv_agg's rmse: 1.35226 + 0.0151321\n",
      "[450]\tcv_agg's rmse: 1.34566 + 0.0151192\n",
      "[500]\tcv_agg's rmse: 1.34159 + 0.01524\n",
      "[550]\tcv_agg's rmse: 1.33871 + 0.0153881\n",
      "[600]\tcv_agg's rmse: 1.33685 + 0.0152656\n",
      "[650]\tcv_agg's rmse: 1.33555 + 0.0152996\n",
      "[700]\tcv_agg's rmse: 1.33454 + 0.0154284\n",
      "[750]\tcv_agg's rmse: 1.33392 + 0.0156588\n",
      "[800]\tcv_agg's rmse: 1.3337 + 0.0154994\n",
      "[850]\tcv_agg's rmse: 1.3333 + 0.0154556\n",
      "[900]\tcv_agg's rmse: 1.33326 + 0.0154014\n",
      "[950]\tcv_agg's rmse: 1.33306 + 0.0153441\n",
      "[1000]\tcv_agg's rmse: 1.33314 + 0.0154218\n",
      "[1050]\tcv_agg's rmse: 1.33331 + 0.0153683\n",
      ".\n"
     ]
    }
   ],
   "source": [
    "run_cv2(train_X, train_y)\n",
    "print('.')"
   ]
  },
  {
   "cell_type": "code",
   "execution_count": null,
   "metadata": {},
   "outputs": [],
   "source": []
  },
  {
   "cell_type": "code",
   "execution_count": null,
   "metadata": {},
   "outputs": [],
   "source": []
  },
  {
   "cell_type": "code",
   "execution_count": null,
   "metadata": {},
   "outputs": [],
   "source": []
  },
  {
   "cell_type": "code",
   "execution_count": null,
   "metadata": {},
   "outputs": [],
   "source": []
  },
  {
   "cell_type": "code",
   "execution_count": null,
   "metadata": {},
   "outputs": [],
   "source": []
  },
  {
   "cell_type": "code",
   "execution_count": null,
   "metadata": {},
   "outputs": [],
   "source": []
  },
  {
   "cell_type": "code",
   "execution_count": null,
   "metadata": {},
   "outputs": [],
   "source": []
  },
  {
   "cell_type": "code",
   "execution_count": 149,
   "metadata": {},
   "outputs": [],
   "source": [
    "def run_lgb(train_X, train_y, val_X, val_y, test_X):\n",
    "    params = {\n",
    "        \"objective\" : \"regression\",\n",
    "        \"metric\" : \"rmse\",\n",
    "        \"num_leaves\" : 127,\n",
    "        \"max_depth\": -1,\n",
    "        \"learning_rate\" : 0.005,\n",
    "        #'min_child_weight': 10,\n",
    "        #'reg_lambda': 0.1,\n",
    "        #'subsample': 0.5,\n",
    "        #'scale_pos_weight': 1,\n",
    "        #'reg_alpha': 0.0,\n",
    "        #'colsample_bytree': 0.5,\n",
    "        #'max_bin': 255,\n",
    "        # 'subsample_freq': 4,\n",
    "        #'min_child_samples': 1,\n",
    "                \n",
    "        #'min_data_in_leaf': 100,\n",
    "        \"feature_fraction\" : 0.15,\n",
    "        \"bagging_fraction\" : 0.2,\n",
    "        \"bagging_frequency\" : 1,\n",
    "        #\"bagging_seed\" : 2018,\n",
    "        \"verbosity\" : -1\n",
    "    }\n",
    "    \n",
    "    lgtrain = lgb.Dataset(train_X, label=train_y)\n",
    "    lgval = lgb.Dataset(val_X, label=val_y)\n",
    "    evals_result = {}\n",
    "    model = lgb.train(params, \n",
    "                      lgtrain, \n",
    "                      num_boost_round=10000, \n",
    "                      valid_sets=[lgtrain, lgval], \n",
    "                      early_stopping_rounds=100, \n",
    "                      verbose_eval=200, \n",
    "                      evals_result=evals_result)\n",
    "    \n",
    "    #pred_test_y = model.predict(test_X, num_iteration=model.best_iteration)\n",
    "    return model, evals_result"
   ]
  },
  {
   "cell_type": "code",
   "execution_count": null,
   "metadata": {},
   "outputs": [],
   "source": []
  },
  {
   "cell_type": "code",
   "execution_count": 150,
   "metadata": {},
   "outputs": [
    {
     "name": "stdout",
     "output_type": "stream",
     "text": [
      "Training until validation scores don't improve for 100 rounds.\n",
      "[200]\ttraining's rmse: 1.34076\tvalid_1's rmse: 1.4546\n",
      "[400]\ttraining's rmse: 1.17141\tvalid_1's rmse: 1.36794\n",
      "[600]\ttraining's rmse: 1.07563\tvalid_1's rmse: 1.34406\n",
      "[800]\ttraining's rmse: 1.00797\tvalid_1's rmse: 1.33578\n",
      "[1000]\ttraining's rmse: 0.957817\tvalid_1's rmse: 1.33251\n",
      "[1200]\ttraining's rmse: 0.916205\tvalid_1's rmse: 1.33109\n",
      "[1400]\ttraining's rmse: 0.876063\tvalid_1's rmse: 1.33081\n",
      "Early stopping, best iteration is:\n",
      "[1318]\ttraining's rmse: 0.89235\tvalid_1's rmse: 1.33061\n",
      "fold 0:  1.3306080441518056\n"
     ]
    }
   ],
   "source": [
    "                  \n",
    "folds = 3\n",
    "kf = model_selection.KFold(n_splits=folds, shuffle=True, random_state=0)\n",
    "\n",
    "sub_preds = np.zeros(test_X.shape[0])\n",
    "oof_preds = np.zeros(train_X.shape[0])\n",
    "\n",
    "for fold_no, (dev_index, val_index) in enumerate(kf.split(train_X)):\n",
    "    dev_X, val_X = train_X.loc[dev_index,:], train_X.loc[val_index,:]\n",
    "    dev_y, val_y = train_y[dev_index], train_y[val_index]\n",
    "    model, evals_result = run_lgb(dev_X, dev_y, val_X, val_y, test_X)\n",
    "    \n",
    "    oof_preds[val_index] = model.predict(val_X, num_iteration=model.best_iteration)\n",
    "    fold_rmse = np.sqrt(metrics.mean_squared_error(val_y, oof_preds[val_index]))\n",
    "    print(f\"fold {fold_no}: \", fold_rmse)    \n",
    "    \n",
    "    pred_test = model.predict(test_X, num_iteration=model.best_iteration)    \n",
    "    sub_preds += np.expm1(pred_test) / folds\n",
    "    #\n",
    "    #\n",
    "    break"
   ]
  },
  {
   "cell_type": "code",
   "execution_count": 151,
   "metadata": {},
   "outputs": [],
   "source": [
    "#1.333"
   ]
  },
  {
   "cell_type": "code",
   "execution_count": null,
   "metadata": {},
   "outputs": [],
   "source": []
  },
  {
   "cell_type": "code",
   "execution_count": 152,
   "metadata": {},
   "outputs": [
    {
     "data": {
      "text/plain": [
       "<matplotlib.axes._subplots.AxesSubplot at 0x7fa4625f3438>"
      ]
     },
     "execution_count": 152,
     "metadata": {},
     "output_type": "execute_result"
    },
    {
     "data": {
      "image/png": "[encoded data removed]",
      "text/plain": [
       "<Figure size 648x1944 with 1 Axes>"
      ]
     },
     "metadata": {},
     "output_type": "display_data"
    }
   ],
   "source": [
    "lgb.plot_importance(model, max_num_features=100, figsize=(9, 27))    "
   ]
  },
  {
   "cell_type": "code",
   "execution_count": 17,
   "metadata": {},
   "outputs": [],
   "source": [
    "sample = pd.read_csv('input/test.csv', usecols=['ID'])\n",
    "sample[\"target\"] = sub_preds\n",
    "sample.to_csv(\"submissions/subm_20180629_lgb2.csv\", index=False)"
   ]
  },
  {
   "cell_type": "code",
   "execution_count": null,
   "metadata": {},
   "outputs": [],
   "source": []
  },
  {
   "cell_type": "code",
   "execution_count": 99,
   "metadata": {},
   "outputs": [],
   "source": []
  },
  {
   "cell_type": "code",
   "execution_count": 41,
   "metadata": {},
   "outputs": [
    {
     "data": {
      "text/plain": [
       "((4459, 142), (4459,), (49342, 142))"
      ]
     },
     "execution_count": 41,
     "metadata": {},
     "output_type": "execute_result"
    }
   ],
   "source": [
    "train_X.shape, train_y.shape, test_X.shape"
   ]
  },
  {
   "cell_type": "code",
   "execution_count": null,
   "metadata": {},
   "outputs": [],
   "source": []
  },
  {
   "cell_type": "code",
   "execution_count": 20,
   "metadata": {},
   "outputs": [],
   "source": []
  },
  {
   "cell_type": "code",
   "execution_count": 36,
   "metadata": {},
   "outputs": [],
   "source": [
    "import tensorflow as tf\n",
    "\n",
    "import os\n",
    "os.environ['KERAS_BACKEND'] = 'tensorflow'\n"
   ]
  },
  {
   "cell_type": "code",
   "execution_count": 37,
   "metadata": {},
   "outputs": [
    {
     "data": {
      "text/plain": [
       "'1.8.0'"
      ]
     },
     "execution_count": 37,
     "metadata": {},
     "output_type": "execute_result"
    }
   ],
   "source": [
    "tf.__version__"
   ]
  },
  {
   "cell_type": "code",
   "execution_count": 115,
   "metadata": {},
   "outputs": [],
   "source": [
    "import keras\n",
    "import random\n",
    "\n",
    "class MyGenerator(keras.utils.Sequence):\n",
    "    def __init__(self, df, df_y=None, batch_size=32, shuffle=True):        \n",
    "        self.X = df\n",
    "        self.y = df_y\n",
    "        self.batch_size = batch_size\n",
    "        self.shuffle =shuffle\n",
    "        self.idxs = None\n",
    "        self.on_epoch_end()        \n",
    "        \n",
    "    def __len__(self):\n",
    "        # number of batches per epoch\n",
    "        return int(np.floor(self.X.shape[0] / self.batch_size))\n",
    "    \n",
    "    def __getitem__(self, idx):\n",
    "        # generate one batch\n",
    "        batch_x = self.X.iloc[idx * self.batch_size:(idx + 1) * self.batch_size]\n",
    "        batch_y = self.y[idx * self.batch_size:(idx + 1) * self.batch_size]\n",
    "        return batch_x, batch_y\n",
    "    \n",
    "    def on_epoch_end(self):\n",
    "        self.idxs = np.arange(self.X.shape[0])\n",
    "        if self.shuffle:\n",
    "            np.random.shuffle(self.idxs)\n",
    "            "
   ]
  },
  {
   "cell_type": "code",
   "execution_count": null,
   "metadata": {},
   "outputs": [],
   "source": []
  },
  {
   "cell_type": "code",
   "execution_count": null,
   "metadata": {},
   "outputs": [],
   "source": []
  },
  {
   "cell_type": "code",
   "execution_count": 129,
   "metadata": {},
   "outputs": [],
   "source": [
    "from keras.layers import Input, Dense, Lambda, Dropout, BatchNormalization\n",
    "from keras.models import Model\n",
    "from keras import backend as K\n",
    "from sklearn.metrics import mean_squared_error as mse\n",
    "\n",
    "    \n",
    "def nn1(input_dim):\n",
    "    inputs = Input(shape=(input_dim, ))\n",
    "    x = Dense(512, activation='relu')(inputs)\n",
    "    x = Dense(512, activation='relu')(x)        \n",
    "    x = Dense(1)(x)\n",
    "    model = Model(inputs=inputs, outputs=x)\n",
    "    model.compile(optimizer='adam', loss='mse')\n",
    "    return model"
   ]
  },
  {
   "cell_type": "code",
   "execution_count": null,
   "metadata": {},
   "outputs": [],
   "source": []
  },
  {
   "cell_type": "code",
   "execution_count": null,
   "metadata": {},
   "outputs": [
    {
     "name": "stdout",
     "output_type": "stream",
     "text": [
      "Train on 4013 samples, validate on 446 samples\n",
      "Epoch 1/100\n",
      "4013/4013 [==============================] - 2s 409us/step - loss: 7.4874 - val_loss: 2.6542\n",
      "Epoch 2/100\n",
      "4013/4013 [==============================] - 0s 78us/step - loss: 3.8004 - val_loss: 2.1643\n",
      "Epoch 3/100\n",
      "4013/4013 [==============================] - 0s 77us/step - loss: 3.5269 - val_loss: 8.3367\n",
      "Epoch 4/100\n",
      "4013/4013 [==============================] - 0s 77us/step - loss: 3.2056 - val_loss: 7.1785\n",
      "Epoch 5/100\n",
      "4013/4013 [==============================] - 0s 77us/step - loss: 2.9691 - val_loss: 3.7013\n",
      "Epoch 6/100\n",
      "4013/4013 [==============================] - 0s 77us/step - loss: 2.9709 - val_loss: 3.7032\n",
      "Epoch 7/100\n",
      "4013/4013 [==============================] - 0s 77us/step - loss: 2.8153 - val_loss: 2.4106\n",
      "Epoch 8/100\n",
      "4013/4013 [==============================] - 0s 77us/step - loss: 2.7135 - val_loss: 2.1101\n",
      "Epoch 9/100\n",
      "4013/4013 [==============================] - 0s 77us/step - loss: 2.5978 - val_loss: 4.7397\n",
      "Epoch 10/100\n",
      "4013/4013 [==============================] - 0s 77us/step - loss: 2.5711 - val_loss: 2.1690\n",
      "Epoch 11/100\n",
      "4013/4013 [==============================] - 0s 77us/step - loss: 2.5438 - val_loss: 3.4150\n",
      "Epoch 12/100\n",
      "4013/4013 [==============================] - 0s 77us/step - loss: 2.5237 - val_loss: 2.0210\n",
      "Epoch 13/100\n",
      "4013/4013 [==============================] - 0s 77us/step - loss: 2.4834 - val_loss: 2.9324\n",
      "Epoch 14/100\n",
      "4013/4013 [==============================] - 0s 77us/step - loss: 2.4688 - val_loss: 2.1387\n",
      "Epoch 15/100\n",
      "4013/4013 [==============================] - 0s 76us/step - loss: 2.3993 - val_loss: 2.0656\n",
      "Epoch 16/100\n",
      "4013/4013 [==============================] - 0s 77us/step - loss: 2.4242 - val_loss: 1.9302\n",
      "Epoch 17/100\n",
      "4013/4013 [==============================] - 0s 77us/step - loss: 2.3726 - val_loss: 2.4132\n",
      "Epoch 18/100\n",
      "4013/4013 [==============================] - 0s 76us/step - loss: 2.3390 - val_loss: 2.9949\n",
      "Epoch 19/100\n",
      "4013/4013 [==============================] - 0s 77us/step - loss: 2.3647 - val_loss: 1.9324\n",
      "Epoch 20/100\n",
      "4013/4013 [==============================] - 0s 76us/step - loss: 2.3553 - val_loss: 2.0769\n",
      "Epoch 21/100\n",
      "4013/4013 [==============================] - 0s 77us/step - loss: 2.3328 - val_loss: 3.5891\n",
      "Epoch 22/100\n",
      "4013/4013 [==============================] - 0s 77us/step - loss: 2.3165 - val_loss: 2.0296\n",
      "Epoch 23/100\n",
      "4013/4013 [==============================] - 0s 77us/step - loss: 2.2407 - val_loss: 3.0918\n",
      "Epoch 24/100\n",
      "4013/4013 [==============================] - 0s 77us/step - loss: 2.2740 - val_loss: 2.9686\n",
      "Epoch 25/100\n",
      "4013/4013 [==============================] - 0s 76us/step - loss: 2.2903 - val_loss: 1.9156\n",
      "Epoch 26/100\n",
      "4013/4013 [==============================] - 0s 77us/step - loss: 2.2764 - val_loss: 1.8820\n",
      "Epoch 27/100\n",
      "4013/4013 [==============================] - 0s 78us/step - loss: 2.2490 - val_loss: 1.9635\n",
      "Epoch 28/100\n",
      "4013/4013 [==============================] - 0s 77us/step - loss: 2.2354 - val_loss: 2.3610\n",
      "Epoch 29/100\n",
      "4013/4013 [==============================] - 0s 77us/step - loss: 2.2398 - val_loss: 1.9588\n",
      "Epoch 30/100\n",
      "4013/4013 [==============================] - 0s 77us/step - loss: 2.1989 - val_loss: 3.9134\n",
      "Epoch 31/100\n",
      "4013/4013 [==============================] - 0s 76us/step - loss: 2.2860 - val_loss: 2.8667\n",
      "Epoch 32/100\n",
      "4013/4013 [==============================] - 0s 77us/step - loss: 2.1887 - val_loss: 2.5471\n",
      "Epoch 33/100\n",
      "4013/4013 [==============================] - 0s 77us/step - loss: 2.2587 - val_loss: 1.9650\n",
      "Epoch 34/100\n",
      "4013/4013 [==============================] - 0s 77us/step - loss: 2.2298 - val_loss: 1.9722\n",
      "Epoch 35/100\n",
      "4013/4013 [==============================] - 0s 76us/step - loss: 2.1833 - val_loss: 3.8615\n",
      "Epoch 36/100\n",
      "4013/4013 [==============================] - 0s 77us/step - loss: 2.2031 - val_loss: 2.1234\n",
      "Epoch 37/100\n",
      "4013/4013 [==============================] - 0s 77us/step - loss: 2.1813 - val_loss: 2.1293\n",
      "Epoch 38/100\n",
      "4013/4013 [==============================] - 0s 77us/step - loss: 2.1682 - val_loss: 2.8785\n",
      "Epoch 39/100\n",
      "4013/4013 [==============================] - 0s 76us/step - loss: 2.1904 - val_loss: 1.9065\n"
     ]
    }
   ],
   "source": [
    "from keras.callbacks import ModelCheckpoint, ReduceLROnPlateau\n",
    "from keras.models import load_model\n",
    "\n",
    "folds = 10\n",
    "kf = model_selection.KFold(n_splits=folds, shuffle=True, random_state=0)\n",
    "\n",
    "#sub_preds = np.zeros(test_X.shape[0])\n",
    "oof_preds = np.zeros(train_X.shape[0])\n",
    "\n",
    "for fold_no, (dev_index, val_index) in enumerate(kf.split(train_X)):\n",
    "    dev_X, val_X = train_X.loc[dev_index,:], train_X.loc[val_index,:]\n",
    "    dev_y, val_y = train_y[dev_index], train_y[val_index]\n",
    "    \n",
    "    train_g = MyGenerator(dev_X, dev_y)\n",
    "    val_g = MyGenerator(val_X, val_y)\n",
    "    \n",
    "    ckpt = ModelCheckpoint(filepath='cache/20180629.hdf5', verbose=0, save_best_only=True)\n",
    "    # reduce_lr = ReduceLROnPlateau(monitor='val_loss', factor=0.2, patience=5, min_lr=0.001)\n",
    "    model = nn1(train_X.shape[1])\n",
    "    model.fit(dev_X, dev_y, \n",
    "              validation_data=(val_X, val_y),\n",
    "              callbacks=[ckpt],\n",
    "              epochs=100)\n",
    "    \n",
    "    #model.fit_generator(generator=train_g,\n",
    "    #                    validation_data=val_g,\n",
    "    #                    callbacks=[ckpt, reduce_lr],\n",
    "    #                    epochs=100)\n",
    "\n",
    "    #model, evals_result = run_lgb(dev_X, dev_y, val_X, val_y, test_X)\n",
    "    #model = load_model('cache/20180629.hdf5')\n",
    "    \n",
    "    fold_preds = model.predict(val_X, verbose=1).ravel()\n",
    "    fold_rmse = np.sqrt(mse(val_y, fold_preds))\n",
    "    print(f\"fold {fold_no}: \", fold_rmse)    \n",
    "    \n",
    "    fold_train_preds = model.predict(dev_X, verbose=1).ravel()\n",
    "    fold_train_rmse = np.sqrt(mse(dev_y, fold_train_preds))\n",
    "    print(f\"fold {fold_no}: \", fold_train_rmse)    \n",
    "        \n",
    "    oof_preds[val_index] = fold_preds\n",
    "    \n",
    "    #pred_test = model.predict(test_X, num_iteration=model.best_iteration)    \n",
    "    #sub_preds += np.expm1(pred_test) / folds\n",
    "    #\n",
    "    #\n",
    "    break"
   ]
  },
  {
   "cell_type": "code",
   "execution_count": null,
   "metadata": {},
   "outputs": [],
   "source": []
  },
  {
   "cell_type": "code",
   "execution_count": null,
   "metadata": {},
   "outputs": [],
   "source": []
  },
  {
   "cell_type": "code",
   "execution_count": null,
   "metadata": {},
   "outputs": [],
   "source": []
  }
 ],
 "metadata": {
  "kernelspec": {
   "display_name": "Python 3",
   "language": "python",
   "name": "python3"
  },
  "language_info": {
   "codemirror_mode": {
    "name": "ipython",
    "version": 3
   },
   "file_extension": ".py",
   "mimetype": "text/x-python",
   "name": "python",
   "nbconvert_exporter": "python",
   "pygments_lexer": "ipython3",
   "version": "3.6.5"
  }
 },
 "nbformat": 4,
 "nbformat_minor": 2
}
