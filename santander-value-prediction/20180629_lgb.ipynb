{
 "cells": [
  {
   "cell_type": "code",
   "execution_count": 1,
   "metadata": {},
   "outputs": [],
   "source": [
    "import numpy as np\n",
    "import pickle\n",
    "\n",
    "with open('cache/traintest.pkl', 'rb') as f:\n",
    "    df_train, df_test, train_y = pickle.load(f)\n",
    "    \n",
    "with open('cache/traintest_decomposition2_50.pkl', 'rb') as f:\n",
    "    out50_train, out50_test = pickle.load(f)\n",
    "        \n",
    "with open('cache/non_zero_stats.pkl', 'rb') as f:\n",
    "    agg_train, agg_test = pickle.load(f)        "
   ]
  },
  {
   "cell_type": "code",
   "execution_count": 2,
   "metadata": {},
   "outputs": [],
   "source": [
    "from sklearn.feature_selection import VarianceThreshold    \n",
    "import pandas as pd\n",
    "from sklearn import preprocessing, model_selection, metrics\n",
    "\n",
    "import lightgbm as lgb\n",
    "import xgboost as xgb\n"
   ]
  },
  {
   "cell_type": "code",
   "execution_count": 3,
   "metadata": {},
   "outputs": [
    {
     "data": {
      "text/plain": [
       "((4459, 4735), (4459, 100), (4459, 18))"
      ]
     },
     "execution_count": 3,
     "metadata": {},
     "output_type": "execute_result"
    }
   ],
   "source": [
    "df_train.shape, out50_train.shape, agg_train.shape"
   ]
  },
  {
   "cell_type": "code",
   "execution_count": 4,
   "metadata": {},
   "outputs": [],
   "source": [
    "def _to_ignore(df_train):\n",
    "    def low_variance(df_train):\n",
    "        s = VarianceThreshold(threshold=.0)\n",
    "        s.fit(df_train)\n",
    "        idxs = s.get_support()\n",
    "        to_remove = [c for c, x in zip(df_train.columns, idxs) if not x]\n",
    "        return to_remove\n",
    "\n",
    "    def nunique(df_train):\n",
    "        _, index = np.unique(df_train.values, return_index=True, axis=1)\n",
    "        return [c for idx, c in enumerate(df_train.columns) if idx not in index]\n",
    "\n",
    "    def suspicious(df_train):\n",
    "        # drop zero fraction\n",
    "        thr = 0.98\n",
    "        to_ignore = []\n",
    "        for column in df_train.columns:\n",
    "            counts = df_train[column].value_counts()\n",
    "            value_fraction = counts[0] / len(df_train)\n",
    "            if value_fraction >= thr:\n",
    "                to_ignore.append(column)\n",
    "        return to_ignore\n",
    "\n",
    "    to_ignore = set()\n",
    "    to_ignore |= set(low_variance(df_train))\n",
    "    to_ignore |= set(nunique(df_train))\n",
    "    to_ignore |= set(suspicious(df_train))\n",
    "    return to_ignore\n",
    "\n",
    "from sklearn.feature_selection import VarianceThreshold    \n",
    "from sklearn import preprocessing, model_selection, metrics\n",
    "\n",
    "to_ignore = _to_ignore(df_train)\n",
    "features = [c for c in df_train if c not in to_ignore]"
   ]
  },
  {
   "cell_type": "code",
   "execution_count": 5,
   "metadata": {},
   "outputs": [
    {
     "name": "stdout",
     "output_type": "stream",
     "text": [
      "2121\n"
     ]
    }
   ],
   "source": [
    "print(len(features))"
   ]
  },
  {
   "cell_type": "code",
   "execution_count": null,
   "metadata": {},
   "outputs": [],
   "source": []
  },
  {
   "cell_type": "code",
   "execution_count": 6,
   "metadata": {},
   "outputs": [],
   "source": [
    "original = [\n",
    "    'f190486d6',\n",
    "    '58e056e12',\n",
    "    '58e2e02e6',\n",
    "    '15ace8c9f',\n",
    "    'fc436be29',\n",
    "    '9fd594eec',\n",
    "    'b6fa5a5fd',\n",
    "    'eeb9cd3aa',\n",
    "]"
   ]
  },
  {
   "cell_type": "code",
   "execution_count": 7,
   "metadata": {},
   "outputs": [
    {
     "name": "stdout",
     "output_type": "stream",
     "text": [
      "f190486d6 319612000.0 200000000.0\n",
      "58e056e12 319612000.0 343333340.0\n",
      "58e2e02e6 319612000.0 343333340.0\n",
      "15ace8c9f 319612000.0 270074900.0\n",
      "fc436be29 130000000.0 174891420.0\n",
      "9fd594eec 115538000.0 343333340.0\n",
      "b6fa5a5fd 200000000.0 279597950.0\n",
      "eeb9cd3aa 319612000.0 336784540.0\n"
     ]
    }
   ],
   "source": [
    "for c in original:\n",
    "    print(c, np.max(df_train[c]), np.max(df_test[c]))"
   ]
  },
  {
   "cell_type": "code",
   "execution_count": 8,
   "metadata": {},
   "outputs": [
    {
     "data": {
      "text/html": [
       "<div>\n",
       "<style scoped>\n",
       "    .dataframe tbody tr th:only-of-type {\n",
       "        vertical-align: middle;\n",
       "    }\n",
       "\n",
       "    .dataframe tbody tr th {\n",
       "        vertical-align: top;\n",
       "    }\n",
       "\n",
       "    .dataframe thead th {\n",
       "        text-align: right;\n",
       "    }\n",
       "</style>\n",
       "<table border=\"1\" class=\"dataframe\">\n",
       "  <thead>\n",
       "    <tr style=\"text-align: right;\">\n",
       "      <th></th>\n",
       "      <th>f190486d6</th>\n",
       "      <th>58e056e12</th>\n",
       "      <th>58e2e02e6</th>\n",
       "      <th>15ace8c9f</th>\n",
       "      <th>fc436be29</th>\n",
       "      <th>9fd594eec</th>\n",
       "      <th>b6fa5a5fd</th>\n",
       "      <th>eeb9cd3aa</th>\n",
       "    </tr>\n",
       "  </thead>\n",
       "  <tbody>\n",
       "    <tr>\n",
       "      <th>f190486d6</th>\n",
       "      <td>1.000000</td>\n",
       "      <td>0.214752</td>\n",
       "      <td>0.242988</td>\n",
       "      <td>0.203771</td>\n",
       "      <td>-0.004452</td>\n",
       "      <td>0.288258</td>\n",
       "      <td>0.020651</td>\n",
       "      <td>0.229428</td>\n",
       "    </tr>\n",
       "    <tr>\n",
       "      <th>58e056e12</th>\n",
       "      <td>0.214752</td>\n",
       "      <td>1.000000</td>\n",
       "      <td>0.221408</td>\n",
       "      <td>0.266942</td>\n",
       "      <td>-0.004367</td>\n",
       "      <td>0.295572</td>\n",
       "      <td>0.003456</td>\n",
       "      <td>0.214775</td>\n",
       "    </tr>\n",
       "    <tr>\n",
       "      <th>58e2e02e6</th>\n",
       "      <td>0.242988</td>\n",
       "      <td>0.221408</td>\n",
       "      <td>1.000000</td>\n",
       "      <td>0.224111</td>\n",
       "      <td>-0.003110</td>\n",
       "      <td>0.248266</td>\n",
       "      <td>-0.003843</td>\n",
       "      <td>0.241182</td>\n",
       "    </tr>\n",
       "    <tr>\n",
       "      <th>15ace8c9f</th>\n",
       "      <td>0.203771</td>\n",
       "      <td>0.266942</td>\n",
       "      <td>0.224111</td>\n",
       "      <td>1.000000</td>\n",
       "      <td>-0.014206</td>\n",
       "      <td>0.286573</td>\n",
       "      <td>0.004396</td>\n",
       "      <td>0.247367</td>\n",
       "    </tr>\n",
       "    <tr>\n",
       "      <th>fc436be29</th>\n",
       "      <td>-0.004452</td>\n",
       "      <td>-0.004367</td>\n",
       "      <td>-0.003110</td>\n",
       "      <td>-0.014206</td>\n",
       "      <td>1.000000</td>\n",
       "      <td>0.002263</td>\n",
       "      <td>0.007941</td>\n",
       "      <td>-0.008515</td>\n",
       "    </tr>\n",
       "    <tr>\n",
       "      <th>9fd594eec</th>\n",
       "      <td>0.288258</td>\n",
       "      <td>0.295572</td>\n",
       "      <td>0.248266</td>\n",
       "      <td>0.286573</td>\n",
       "      <td>0.002263</td>\n",
       "      <td>1.000000</td>\n",
       "      <td>0.030259</td>\n",
       "      <td>0.300301</td>\n",
       "    </tr>\n",
       "    <tr>\n",
       "      <th>b6fa5a5fd</th>\n",
       "      <td>0.020651</td>\n",
       "      <td>0.003456</td>\n",
       "      <td>-0.003843</td>\n",
       "      <td>0.004396</td>\n",
       "      <td>0.007941</td>\n",
       "      <td>0.030259</td>\n",
       "      <td>1.000000</td>\n",
       "      <td>0.004249</td>\n",
       "    </tr>\n",
       "    <tr>\n",
       "      <th>eeb9cd3aa</th>\n",
       "      <td>0.229428</td>\n",
       "      <td>0.214775</td>\n",
       "      <td>0.241182</td>\n",
       "      <td>0.247367</td>\n",
       "      <td>-0.008515</td>\n",
       "      <td>0.300301</td>\n",
       "      <td>0.004249</td>\n",
       "      <td>1.000000</td>\n",
       "    </tr>\n",
       "  </tbody>\n",
       "</table>\n",
       "</div>"
      ],
      "text/plain": [
       "           f190486d6  58e056e12  58e2e02e6  15ace8c9f  fc436be29  9fd594eec  \\\n",
       "f190486d6   1.000000   0.214752   0.242988   0.203771  -0.004452   0.288258   \n",
       "58e056e12   0.214752   1.000000   0.221408   0.266942  -0.004367   0.295572   \n",
       "58e2e02e6   0.242988   0.221408   1.000000   0.224111  -0.003110   0.248266   \n",
       "15ace8c9f   0.203771   0.266942   0.224111   1.000000  -0.014206   0.286573   \n",
       "fc436be29  -0.004452  -0.004367  -0.003110  -0.014206   1.000000   0.002263   \n",
       "9fd594eec   0.288258   0.295572   0.248266   0.286573   0.002263   1.000000   \n",
       "b6fa5a5fd   0.020651   0.003456  -0.003843   0.004396   0.007941   0.030259   \n",
       "eeb9cd3aa   0.229428   0.214775   0.241182   0.247367  -0.008515   0.300301   \n",
       "\n",
       "           b6fa5a5fd  eeb9cd3aa  \n",
       "f190486d6   0.020651   0.229428  \n",
       "58e056e12   0.003456   0.214775  \n",
       "58e2e02e6  -0.003843   0.241182  \n",
       "15ace8c9f   0.004396   0.247367  \n",
       "fc436be29   0.007941  -0.008515  \n",
       "9fd594eec   0.030259   0.300301  \n",
       "b6fa5a5fd   1.000000   0.004249  \n",
       "eeb9cd3aa   0.004249   1.000000  "
      ]
     },
     "execution_count": 8,
     "metadata": {},
     "output_type": "execute_result"
    }
   ],
   "source": [
    "df_train[original].corr()"
   ]
  },
  {
   "cell_type": "code",
   "execution_count": 9,
   "metadata": {},
   "outputs": [],
   "source": [
    "import scipy\n",
    "from tqdm import tqdm"
   ]
  },
  {
   "cell_type": "code",
   "execution_count": 10,
   "metadata": {},
   "outputs": [],
   "source": [
    "def build_stats(df_train, df_test, columns):\n",
    "    out_train = pd.DataFrame()\n",
    "    out_test = pd.DataFrame()\n",
    "    \n",
    "    df_all = pd.concat([df_train[columns], df_test[columns]]).astype(np.float32)\n",
    "    \n",
    "    for c in tqdm(columns):\n",
    "        _, _, bin_idx = scipy.stats.binned_statistic(df_all[c], df_all[c], bins=10)        \n",
    "        out_train[f\"{c}_bin\"] = bin_idx[:df_train.shape[0]]\n",
    "        out_test[f\"{c}_bin\"] = bin_idx[df_train.shape[0]:]\n",
    "        \n",
    "        rank = scipy.stats.rankdata(df_all[c]) / len(df_all)\n",
    "        out_train[f\"{c}_rank\"] = rank[:df_train.shape[0]]\n",
    "        out_test[f\"{c}_rank\"] = rank[df_train.shape[0]:]\n",
    "        \n",
    "        #no good\n",
    "        #zscore = scipy.stats.rankdata(df_all[c])\n",
    "        #out_train[f\"{c}_zscore\"] = zscore[:df_train.shape[0]]\n",
    "        #out_test[f\"{c}_zscore\"] = zscore[df_train.shape[0]:]\n",
    "        \n",
    "    return out_train, out_test\n",
    "     \n",
    "        \n",
    "    "
   ]
  },
  {
   "cell_type": "code",
   "execution_count": 11,
   "metadata": {},
   "outputs": [
    {
     "name": "stderr",
     "output_type": "stream",
     "text": [
      "100%|██████████| 8/8 [00:00<00:00, 49.28it/s]\n"
     ]
    }
   ],
   "source": [
    "stats1_train, stats1_test = build_stats(df_train, df_test, original)"
   ]
  },
  {
   "cell_type": "code",
   "execution_count": 12,
   "metadata": {},
   "outputs": [],
   "source": [
    "import pandas as pd\n",
    "from scipy.stats import skew, kurtosis\n",
    "\n",
    "def quantile(x, q):\n",
    "    return np.percentile(x, q=q)\n",
    "\n",
    "def build_stats2(df_train, df_test):\n",
    "    def aggregate_row(row):\n",
    "        non_zero_values = row.iloc[row.nonzero()].dropna(how='all')\n",
    "        aggs = {'non_zero_mean2': non_zero_values.mean(),\n",
    "                'non_zero_std2': non_zero_values.std(),\n",
    "                'non_zero_max2': non_zero_values.max(),\n",
    "                'non_zero_min2': non_zero_values.min(),\n",
    "                'non_zero_sum2': non_zero_values.sum(),\n",
    "                'non_zero_skewness2': skew(non_zero_values),\n",
    "                'non_zero_kurtosis2': kurtosis(non_zero_values),\n",
    "                'non_zero_median2': non_zero_values.median(),\n",
    "                #'non_zero_q12': quantile(non_zero_values, 25),\n",
    "                #'non_zero_q32': quantile(non_zero_values, 75),\n",
    "                'non_zero_log_mean2': np.log1p(non_zero_values).mean(),\n",
    "                'non_zero_log_std2': np.log1p(non_zero_values).std(),\n",
    "                'non_zero_log_max2': np.log1p(non_zero_values).max(),\n",
    "                'non_zero_log_min2': np.log1p(non_zero_values).min(),\n",
    "                'non_zero_log_sum2': np.log1p(non_zero_values).sum(),\n",
    "                'non_zero_log_skewness2': skew(np.log1p(non_zero_values)),\n",
    "                'non_zero_log_kurtosis2': kurtosis(np.log1p(non_zero_values)),\n",
    "                'non_zero_log_median2': np.log1p(non_zero_values).median(),\n",
    "                #'non_zero_log_q12': quantile(np.log1p(non_zero_values), 25),\n",
    "                #'non_zero_log_q32': quantile(np.log1p(non_zero_values), 75),\n",
    "                'non_zero_count2': non_zero_values.count(),\n",
    "                'non_zero_fraction2': non_zero_values.count() / row.count()\n",
    "                }\n",
    "        return pd.Series(aggs)\n",
    "    agg_train = df_train.apply(aggregate_row, axis=1)\n",
    "    agg_test = df_test.apply(aggregate_row, axis=1)\n",
    "    return agg_train, agg_test\n"
   ]
  },
  {
   "cell_type": "code",
   "execution_count": 13,
   "metadata": {},
   "outputs": [],
   "source": [
    "rank_columns = [f\"{c}_rank\" for c in original]\n",
    "stats2_train, stats2_test = build_stats2(stats1_train[rank_columns], stats1_test[rank_columns])"
   ]
  },
  {
   "cell_type": "code",
   "execution_count": null,
   "metadata": {},
   "outputs": [],
   "source": []
  },
  {
   "cell_type": "code",
   "execution_count": null,
   "metadata": {},
   "outputs": [],
   "source": []
  },
  {
   "cell_type": "code",
   "execution_count": 14,
   "metadata": {},
   "outputs": [],
   "source": [
    "train_X = pd.concat([df_train[original], out50_train, agg_train, stats1_train, stats2_train], axis=1)\n",
    "#train_X = pd.concat([df_train[features], out50_train, agg_train, stats1_train], axis=1)\n",
    "#train_X = pd.concat([out50_train, agg_train], axis=1)\n",
    "train_X = train_X.replace([np.inf, -np.inf], np.nan)\n",
    "train_X = train_X.fillna(0)\n",
    "\n",
    "test_X = pd.concat([df_test[original], out50_test, agg_test, stats1_test, stats2_test], axis=1)\n",
    "#test_X = pd.concat([df_test[features], out50_test, agg_test, stats1_test], axis=1)\n",
    "#test_X = pd.concat([out50_test, agg_test], axis=1)\n",
    "test_X = test_X.replace([np.inf, -np.inf], np.nan)\n",
    "test_X = test_X.fillna(0)\n"
   ]
  },
  {
   "cell_type": "code",
   "execution_count": 15,
   "metadata": {},
   "outputs": [
    {
     "data": {
      "text/plain": [
       "((4459, 160), (49342, 160))"
      ]
     },
     "execution_count": 15,
     "metadata": {},
     "output_type": "execute_result"
    }
   ],
   "source": [
    "train_X.shape, test_X.shape"
   ]
  },
  {
   "cell_type": "code",
   "execution_count": 16,
   "metadata": {},
   "outputs": [
    {
     "data": {
      "text/plain": [
       "(8, (4459, 100), (4459, 18), (4459, 16), (4459, 18))"
      ]
     },
     "execution_count": 16,
     "metadata": {},
     "output_type": "execute_result"
    }
   ],
   "source": [
    "len(original), out50_train.shape, agg_train.shape, stats1_train.shape, stats2_train.shape"
   ]
  },
  {
   "cell_type": "code",
   "execution_count": null,
   "metadata": {},
   "outputs": [],
   "source": [
    "\n"
   ]
  },
  {
   "cell_type": "code",
   "execution_count": 17,
   "metadata": {},
   "outputs": [],
   "source": [
    "\n",
    "def run_cv2(train_X, train_y):\n",
    "    params = {\n",
    "        \"objective\" : \"regression\",\n",
    "        \"metric\" : \"rmse\",\n",
    "        \"num_leaves\" : 150,\n",
    "        \"max_depth\": -1,\n",
    "        \"learning_rate\" : 0.005,\n",
    "        #'min_child_weight': 10,\n",
    "        #'reg_lambda': 0.1,\n",
    "        #'subsample': 0.5,\n",
    "        #'scale_pos_weight': 1,\n",
    "        #'reg_alpha': 0.0,\n",
    "        #'colsample_bytree': 0.5,\n",
    "        #'max_bin': 255,\n",
    "        # 'subsample_freq': 4,\n",
    "        #'min_child_samples': 1,\n",
    "                \n",
    "        #'min_data_in_leaf': 100,\n",
    "        \"feature_fraction\" : 0.15,\n",
    "        \"bagging_fraction\" : 0.2,\n",
    "        \"bagging_frequency\" : 1,\n",
    "        #\"bagging_seed\" : 2018,\n",
    "        \"verbosity\" : -1\n",
    "    }\n",
    "    \n",
    "    lgtrain = lgb.Dataset(train_X, \n",
    "                          label=train_y)\n",
    "    hist = lgb.cv(params, \n",
    "                  lgtrain, \n",
    "                  10000, \n",
    "                  nfold=5, \n",
    "                  early_stopping_rounds=100, \n",
    "                  stratified=False,\n",
    "                  verbose_eval=50)\n"
   ]
  },
  {
   "cell_type": "code",
   "execution_count": 18,
   "metadata": {},
   "outputs": [
    {
     "name": "stdout",
     "output_type": "stream",
     "text": [
      "[50]\tcv_agg's rmse: 1.61831 + 0.0329589\n",
      "[100]\tcv_agg's rmse: 1.5275 + 0.0273047\n",
      "[150]\tcv_agg's rmse: 1.46359 + 0.0236344\n",
      "[200]\tcv_agg's rmse: 1.42076 + 0.0208535\n",
      "[250]\tcv_agg's rmse: 1.39131 + 0.0185823\n",
      "[300]\tcv_agg's rmse: 1.37157 + 0.0174838\n",
      "[350]\tcv_agg's rmse: 1.3586 + 0.0168626\n",
      "[400]\tcv_agg's rmse: 1.34974 + 0.0161124\n",
      "[450]\tcv_agg's rmse: 1.34402 + 0.0160188\n",
      "[500]\tcv_agg's rmse: 1.33999 + 0.0161887\n",
      "[550]\tcv_agg's rmse: 1.33769 + 0.0161011\n",
      "[600]\tcv_agg's rmse: 1.33568 + 0.0164665\n",
      "[650]\tcv_agg's rmse: 1.33427 + 0.0167473\n",
      "[700]\tcv_agg's rmse: 1.33347 + 0.0171181\n",
      "[750]\tcv_agg's rmse: 1.33302 + 0.0173304\n",
      "[800]\tcv_agg's rmse: 1.33288 + 0.0174685\n",
      "[850]\tcv_agg's rmse: 1.33276 + 0.0174409\n",
      "[900]\tcv_agg's rmse: 1.33261 + 0.0175871\n",
      "[950]\tcv_agg's rmse: 1.33261 + 0.0174977\n",
      "[1000]\tcv_agg's rmse: 1.33285 + 0.0172201\n",
      ".\n"
     ]
    }
   ],
   "source": [
    "run_cv2(train_X, train_y)\n",
    "print('.')"
   ]
  },
  {
   "cell_type": "code",
   "execution_count": null,
   "metadata": {},
   "outputs": [],
   "source": []
  },
  {
   "cell_type": "code",
   "execution_count": null,
   "metadata": {},
   "outputs": [],
   "source": []
  },
  {
   "cell_type": "code",
   "execution_count": null,
   "metadata": {},
   "outputs": [],
   "source": []
  },
  {
   "cell_type": "code",
   "execution_count": null,
   "metadata": {},
   "outputs": [],
   "source": []
  },
  {
   "cell_type": "code",
   "execution_count": null,
   "metadata": {},
   "outputs": [],
   "source": []
  },
  {
   "cell_type": "code",
   "execution_count": null,
   "metadata": {},
   "outputs": [],
   "source": []
  },
  {
   "cell_type": "code",
   "execution_count": null,
   "metadata": {},
   "outputs": [],
   "source": []
  },
  {
   "cell_type": "code",
   "execution_count": 19,
   "metadata": {},
   "outputs": [],
   "source": [
    "def run_lgb(train_X, train_y, val_X, val_y, test_X):\n",
    "    params = {\n",
    "        \"objective\" : \"regression\",\n",
    "        \"metric\" : \"rmse\",\n",
    "        \"num_leaves\" : 150,\n",
    "        \"max_depth\": -1,\n",
    "        \"learning_rate\" : 0.005,\n",
    "        #'min_child_weight': 10,\n",
    "        #'reg_lambda': 0.1,\n",
    "        #'subsample': 0.5,\n",
    "        #'scale_pos_weight': 1,\n",
    "        #'reg_alpha': 0.0,\n",
    "        #'colsample_bytree': 0.5,\n",
    "        #'max_bin': 255,\n",
    "        # 'subsample_freq': 4,\n",
    "        #'min_child_samples': 1,\n",
    "                \n",
    "        #'min_data_in_leaf': 100,\n",
    "        \"feature_fraction\" : 0.15,\n",
    "        \"bagging_fraction\" : 0.2,\n",
    "        \"bagging_frequency\" : 1,\n",
    "        #\"bagging_seed\" : 2018,\n",
    "        \"verbosity\" : -1\n",
    "    }\n",
    "    \n",
    "    lgtrain = lgb.Dataset(train_X, label=train_y)\n",
    "    lgval = lgb.Dataset(val_X, label=val_y)\n",
    "    evals_result = {}\n",
    "    model = lgb.train(params, \n",
    "                      lgtrain, \n",
    "                      num_boost_round=10000, \n",
    "                      valid_sets=[lgtrain, lgval], \n",
    "                      early_stopping_rounds=100, \n",
    "                      verbose_eval=200, \n",
    "                      evals_result=evals_result)\n",
    "    \n",
    "    #pred_test_y = model.predict(test_X, num_iteration=model.best_iteration)\n",
    "    return model, evals_result"
   ]
  },
  {
   "cell_type": "code",
   "execution_count": null,
   "metadata": {},
   "outputs": [],
   "source": []
  },
  {
   "cell_type": "code",
   "execution_count": 20,
   "metadata": {},
   "outputs": [
    {
     "name": "stdout",
     "output_type": "stream",
     "text": [
      "Training until validation scores don't improve for 100 rounds.\n",
      "[200]\ttraining's rmse: 1.17083\tvalid_1's rmse: 1.43138\n",
      "[400]\ttraining's rmse: 0.889597\tvalid_1's rmse: 1.35735\n",
      "[600]\ttraining's rmse: 0.710046\tvalid_1's rmse: 1.34021\n",
      "[800]\ttraining's rmse: 0.576676\tvalid_1's rmse: 1.33688\n",
      "Early stopping, best iteration is:\n",
      "[855]\ttraining's rmse: 0.545666\tvalid_1's rmse: 1.33654\n",
      "fold 0:  1.336537295307032\n",
      "Training until validation scores don't improve for 100 rounds.\n",
      "[200]\ttraining's rmse: 1.17695\tvalid_1's rmse: 1.42605\n",
      "[400]\ttraining's rmse: 0.895878\tvalid_1's rmse: 1.34724\n",
      "[600]\ttraining's rmse: 0.71555\tvalid_1's rmse: 1.32976\n",
      "[800]\ttraining's rmse: 0.582281\tvalid_1's rmse: 1.32635\n",
      "Early stopping, best iteration is:\n",
      "[870]\ttraining's rmse: 0.543118\tvalid_1's rmse: 1.32581\n",
      "fold 1:  1.3258100918901388\n",
      "Training until validation scores don't improve for 100 rounds.\n",
      "[200]\ttraining's rmse: 1.1774\tvalid_1's rmse: 1.40999\n",
      "[400]\ttraining's rmse: 0.895269\tvalid_1's rmse: 1.34912\n",
      "[600]\ttraining's rmse: 0.715609\tvalid_1's rmse: 1.33743\n",
      "[800]\ttraining's rmse: 0.582866\tvalid_1's rmse: 1.33549\n",
      "Early stopping, best iteration is:\n",
      "[897]\ttraining's rmse: 0.529597\tvalid_1's rmse: 1.33466\n",
      "fold 2:  1.334662557667297\n"
     ]
    }
   ],
   "source": [
    "                  \n",
    "folds = 3\n",
    "kf = model_selection.KFold(n_splits=folds, shuffle=True, random_state=0)\n",
    "\n",
    "sub_preds = np.zeros(test_X.shape[0])\n",
    "oof_preds = np.zeros(train_X.shape[0])\n",
    "\n",
    "for fold_no, (dev_index, val_index) in enumerate(kf.split(train_X)):\n",
    "    dev_X, val_X = train_X.loc[dev_index,:], train_X.loc[val_index,:]\n",
    "    dev_y, val_y = train_y[dev_index], train_y[val_index]\n",
    "    model, evals_result = run_lgb(dev_X, dev_y, val_X, val_y, test_X)\n",
    "    \n",
    "    oof_preds[val_index] = model.predict(val_X, num_iteration=model.best_iteration)\n",
    "    fold_rmse = np.sqrt(metrics.mean_squared_error(val_y, oof_preds[val_index]))\n",
    "    print(f\"fold {fold_no}: \", fold_rmse)    \n",
    "    \n",
    "    pred_test = model.predict(test_X, num_iteration=model.best_iteration)    \n",
    "    sub_preds += np.expm1(pred_test) / folds\n"
   ]
  },
  {
   "cell_type": "code",
   "execution_count": 21,
   "metadata": {},
   "outputs": [],
   "source": [
    "#1.333"
   ]
  },
  {
   "cell_type": "code",
   "execution_count": null,
   "metadata": {},
   "outputs": [],
   "source": []
  },
  {
   "cell_type": "code",
   "execution_count": 25,
   "metadata": {},
   "outputs": [
    {
     "data": {
      "text/plain": [
       "<matplotlib.axes._subplots.AxesSubplot at 0x7f74e7db7710>"
      ]
     },
     "execution_count": 25,
     "metadata": {},
     "output_type": "execute_result"
    },
    {
     "data": {
      "image/png": "[encoded data removed]",
      "text/plain": [
       "<Figure size 648x1944 with 1 Axes>"
      ]
     },
     "metadata": {},
     "output_type": "display_data"
    }
   ],
   "source": [
    "\n",
    "lgb.plot_importance(model, max_num_features=100, figsize=(9, 27))    \n"
   ]
  },
  {
   "cell_type": "code",
   "execution_count": 26,
   "metadata": {},
   "outputs": [],
   "source": [
    "sample = pd.read_csv('input/test.csv', usecols=['ID'])\n",
    "sample[\"target\"] = sub_preds\n",
    "sample.to_csv(\"submissions/subm_20180629_lgb2.csv\", index=False)"
   ]
  },
  {
   "cell_type": "code",
   "execution_count": null,
   "metadata": {},
   "outputs": [],
   "source": []
  },
  {
   "cell_type": "code",
   "execution_count": 29,
   "metadata": {},
   "outputs": [],
   "source": [
    "subm_013 = pd.read_csv('submissions/subm_013_140.csv')\n",
    "subm_012 = pd.read_csv('submissions/subm_012_140.csv')\n",
    "subm_010 = pd.read_csv('submissions/subm_010_141.csv')\n",
    "subm_007 = pd.read_csv('submissions/subm_007_144.csv')\n",
    "subm_xgb = pd.read_csv('submissions/subm_20180629_xgb1.csv')"
   ]
  },
  {
   "cell_type": "code",
   "execution_count": 30,
   "metadata": {},
   "outputs": [],
   "source": [
    "subm_013['subm_012'] = subm_012.target.values\n",
    "subm_013['subm_010'] = subm_010.target.values\n",
    "subm_013['subm_007'] = subm_007.target.values\n",
    "subm_013['subm_xgb'] = subm_xgb.target.values\n"
   ]
  },
  {
   "cell_type": "code",
   "execution_count": 31,
   "metadata": {},
   "outputs": [
    {
     "data": {
      "text/html": [
       "<div>\n",
       "<style scoped>\n",
       "    .dataframe tbody tr th:only-of-type {\n",
       "        vertical-align: middle;\n",
       "    }\n",
       "\n",
       "    .dataframe tbody tr th {\n",
       "        vertical-align: top;\n",
       "    }\n",
       "\n",
       "    .dataframe thead th {\n",
       "        text-align: right;\n",
       "    }\n",
       "</style>\n",
       "<table border=\"1\" class=\"dataframe\">\n",
       "  <thead>\n",
       "    <tr style=\"text-align: right;\">\n",
       "      <th></th>\n",
       "      <th>target</th>\n",
       "      <th>subm_012</th>\n",
       "      <th>subm_010</th>\n",
       "      <th>subm_007</th>\n",
       "      <th>subm_xgb</th>\n",
       "    </tr>\n",
       "  </thead>\n",
       "  <tbody>\n",
       "    <tr>\n",
       "      <th>target</th>\n",
       "      <td>1.000000</td>\n",
       "      <td>0.977368</td>\n",
       "      <td>0.952674</td>\n",
       "      <td>0.682340</td>\n",
       "      <td>0.944526</td>\n",
       "    </tr>\n",
       "    <tr>\n",
       "      <th>subm_012</th>\n",
       "      <td>0.977368</td>\n",
       "      <td>1.000000</td>\n",
       "      <td>0.965453</td>\n",
       "      <td>0.759145</td>\n",
       "      <td>0.952605</td>\n",
       "    </tr>\n",
       "    <tr>\n",
       "      <th>subm_010</th>\n",
       "      <td>0.952674</td>\n",
       "      <td>0.965453</td>\n",
       "      <td>1.000000</td>\n",
       "      <td>0.656187</td>\n",
       "      <td>0.928871</td>\n",
       "    </tr>\n",
       "    <tr>\n",
       "      <th>subm_007</th>\n",
       "      <td>0.682340</td>\n",
       "      <td>0.759145</td>\n",
       "      <td>0.656187</td>\n",
       "      <td>1.000000</td>\n",
       "      <td>0.613136</td>\n",
       "    </tr>\n",
       "    <tr>\n",
       "      <th>subm_xgb</th>\n",
       "      <td>0.944526</td>\n",
       "      <td>0.952605</td>\n",
       "      <td>0.928871</td>\n",
       "      <td>0.613136</td>\n",
       "      <td>1.000000</td>\n",
       "    </tr>\n",
       "  </tbody>\n",
       "</table>\n",
       "</div>"
      ],
      "text/plain": [
       "            target  subm_012  subm_010  subm_007  subm_xgb\n",
       "target    1.000000  0.977368  0.952674  0.682340  0.944526\n",
       "subm_012  0.977368  1.000000  0.965453  0.759145  0.952605\n",
       "subm_010  0.952674  0.965453  1.000000  0.656187  0.928871\n",
       "subm_007  0.682340  0.759145  0.656187  1.000000  0.613136\n",
       "subm_xgb  0.944526  0.952605  0.928871  0.613136  1.000000"
      ]
     },
     "execution_count": 31,
     "metadata": {},
     "output_type": "execute_result"
    }
   ],
   "source": [
    "subm_013.corr()"
   ]
  },
  {
   "cell_type": "code",
   "execution_count": 33,
   "metadata": {},
   "outputs": [],
   "source": [
    "subm_014 = subm_013\n",
    "subm_014.target = subm_012.target * 0.5 + subm_013.target * 0.2 + subm_010.target * 0.2 + subm_xgb.target * 0.1\n",
    "subm_014[['ID', 'target']].to_csv(\"submissions/subm_014.csv\", index=False)"
   ]
  },
  {
   "cell_type": "code",
   "execution_count": 20,
   "metadata": {},
   "outputs": [],
   "source": []
  },
  {
   "cell_type": "code",
   "execution_count": null,
   "metadata": {},
   "outputs": [],
   "source": []
  }
 ],
 "metadata": {
  "kernelspec": {
   "display_name": "Python 3",
   "language": "python",
   "name": "python3"
  },
  "language_info": {
   "codemirror_mode": {
    "name": "ipython",
    "version": 3
   },
   "file_extension": ".py",
   "mimetype": "text/x-python",
   "name": "python",
   "nbconvert_exporter": "python",
   "pygments_lexer": "ipython3",
   "version": "3.6.5"
  }
 },
 "nbformat": 4,
 "nbformat_minor": 2
}
