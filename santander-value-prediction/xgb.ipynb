{
 "cells": [
  {
   "cell_type": "code",
   "execution_count": 1,
   "metadata": {},
   "outputs": [
    {
     "name": "stdout",
     "output_type": "stream",
     "text": [
      "['train.csv.zip', 'test.csv', 'sample_submission.csv.zip', 'test.csv.zip', 'train.csv', 'sample_submission.csv']\n"
     ]
    }
   ],
   "source": [
    "import os\n",
    "\n",
    "import pandas as pd \n",
    "import numpy as np\n",
    "import matplotlib\n",
    "import matplotlib.pyplot as plt\n",
    "from math import pi\n",
    "import seaborn as sns\n",
    "%matplotlib inline \n",
    "\n",
    "import warnings\n",
    "warnings.filterwarnings(\"ignore\")\n",
    "\n",
    "# Print all rows and columns\n",
    "pd.set_option('display.max_columns', None)\n",
    "pd.set_option('display.max_rows', None)\n",
    "IS_LOCAL = True\n",
    "\n",
    "import os\n",
    "\n",
    "if IS_LOCAL:\n",
    "    PATH=\"input\"\n",
    "else:\n",
    "    PATH=\"../input\"\n",
    "print(os.listdir(PATH))"
   ]
  },
  {
   "cell_type": "code",
   "execution_count": 2,
   "metadata": {},
   "outputs": [],
   "source": [
    "train_df = pd.read_csv(os.path.join(PATH, \"train.csv\"))\n",
    "test_df = pd.read_csv(os.path.join(PATH, \"test.csv\"))"
   ]
  },
  {
   "cell_type": "code",
   "execution_count": null,
   "metadata": {},
   "outputs": [],
   "source": []
  },
  {
   "cell_type": "code",
   "execution_count": 3,
   "metadata": {},
   "outputs": [],
   "source": [
    "train_y = np.log1p(train_df[\"target\"].values)\n",
    "train_X = train_df.drop([\"ID\", \"target\"], axis=1)\n",
    "test_X = test_df.drop([\"ID\"], axis=1)"
   ]
  },
  {
   "cell_type": "code",
   "execution_count": 10,
   "metadata": {},
   "outputs": [
    {
     "name": "stdout",
     "output_type": "stream",
     "text": [
      "tsvd\n",
      "pca\n",
      "ica\n",
      "grp\n",
      "srp\n"
     ]
    },
    {
     "ename": "NameError",
     "evalue": "name 'train' is not defined",
     "output_type": "error",
     "traceback": [
      "\u001b[0;31m---------------------------------------------------------------------------\u001b[0m",
      "\u001b[0;31mNameError\u001b[0m                                 Traceback (most recent call last)",
      "\u001b[0;32m<ipython-input-10-699e35175868>\u001b[0m in \u001b[0;36m<module>\u001b[0;34m()\u001b[0m\n\u001b[1;32m     38\u001b[0m \u001b[0;31m# Append decomposition components to datasets\u001b[0m\u001b[0;34m\u001b[0m\u001b[0;34m\u001b[0m\u001b[0m\n\u001b[1;32m     39\u001b[0m \u001b[0;32mfor\u001b[0m \u001b[0mi\u001b[0m \u001b[0;32min\u001b[0m \u001b[0mrange\u001b[0m\u001b[0;34m(\u001b[0m\u001b[0;36m1\u001b[0m\u001b[0;34m,\u001b[0m \u001b[0mn_comp\u001b[0m \u001b[0;34m+\u001b[0m \u001b[0;36m1\u001b[0m\u001b[0;34m)\u001b[0m\u001b[0;34m:\u001b[0m\u001b[0;34m\u001b[0m\u001b[0m\n\u001b[0;32m---> 40\u001b[0;31m     \u001b[0mtrain\u001b[0m\u001b[0;34m[\u001b[0m\u001b[0;34m'pca_'\u001b[0m \u001b[0;34m+\u001b[0m \u001b[0mstr\u001b[0m\u001b[0;34m(\u001b[0m\u001b[0mi\u001b[0m\u001b[0;34m)\u001b[0m\u001b[0;34m]\u001b[0m \u001b[0;34m=\u001b[0m \u001b[0mpca2_results_train\u001b[0m\u001b[0;34m[\u001b[0m\u001b[0;34m:\u001b[0m\u001b[0;34m,\u001b[0m \u001b[0mi\u001b[0m \u001b[0;34m-\u001b[0m \u001b[0;36m1\u001b[0m\u001b[0;34m]\u001b[0m\u001b[0;34m\u001b[0m\u001b[0m\n\u001b[0m\u001b[1;32m     41\u001b[0m     \u001b[0mtest\u001b[0m\u001b[0;34m[\u001b[0m\u001b[0;34m'pca_'\u001b[0m \u001b[0;34m+\u001b[0m \u001b[0mstr\u001b[0m\u001b[0;34m(\u001b[0m\u001b[0mi\u001b[0m\u001b[0;34m)\u001b[0m\u001b[0;34m]\u001b[0m \u001b[0;34m=\u001b[0m \u001b[0mpca2_results_test\u001b[0m\u001b[0;34m[\u001b[0m\u001b[0;34m:\u001b[0m\u001b[0;34m,\u001b[0m \u001b[0mi\u001b[0m \u001b[0;34m-\u001b[0m \u001b[0;36m1\u001b[0m\u001b[0;34m]\u001b[0m\u001b[0;34m\u001b[0m\u001b[0m\n\u001b[1;32m     42\u001b[0m \u001b[0;34m\u001b[0m\u001b[0m\n",
      "\u001b[0;31mNameError\u001b[0m: name 'train' is not defined"
     ]
    }
   ],
   "source": [
    "from sklearn.random_projection import GaussianRandomProjection\n",
    "from sklearn.random_projection import SparseRandomProjection\n",
    "from sklearn.decomposition import PCA, FastICA\n",
    "from sklearn.decomposition import TruncatedSVD\n",
    "\n",
    "n_comp = 320\n",
    "\n",
    "# tSVD\n",
    "print('tsvd')\n",
    "tsvd = TruncatedSVD(n_components=n_comp, random_state=420)\n",
    "tsvd_results_train = tsvd.fit_transform(train_X)\n",
    "tsvd_results_test = tsvd.transform(test_X)\n",
    "\n",
    "# PCA\n",
    "print('pca')\n",
    "pca = PCA(n_components=n_comp, random_state=420)\n",
    "pca2_results_train = pca.fit_transform(train_X)\n",
    "pca2_results_test = pca.transform(test_X)\n",
    "\n",
    "# ICA\n",
    "print('ica')\n",
    "ica = FastICA(n_components=n_comp, random_state=420)\n",
    "ica2_results_train = ica.fit_transform(train_X)\n",
    "ica2_results_test = ica.transform(test_X)\n",
    "\n",
    "# GRP\n",
    "print('grp')\n",
    "grp = GaussianRandomProjection(n_components=n_comp, eps=0.1, random_state=420)\n",
    "grp_results_train = grp.fit_transform(train_X)\n",
    "grp_results_test = grp.transform(test_X)\n",
    "\n",
    "# SRP\n",
    "print('srp')\n",
    "srp = SparseRandomProjection(n_components=n_comp, dense_output=True, random_state=420)\n",
    "srp_results_train = srp.fit_transform(train_X)\n",
    "srp_results_test = srp.transform(test_X)\n",
    "\n"
   ]
  },
  {
   "cell_type": "code",
   "execution_count": 11,
   "metadata": {},
   "outputs": [],
   "source": [
    "# Append decomposition components to datasets\n",
    "for i in range(1, n_comp + 1):\n",
    "    train_X['pca_' + str(i)] = pca2_results_train[:, i - 1]\n",
    "    test_X['pca_' + str(i)] = pca2_results_test[:, i - 1]\n",
    "\n",
    "    train_X['ica_' + str(i)] = ica2_results_train[:, i - 1]\n",
    "    test_X['ica_' + str(i)] = ica2_results_test[:, i - 1]\n",
    "\n",
    "    train_X['tsvd_' + str(i)] = tsvd_results_train[:, i - 1]\n",
    "    test_X['tsvd_' + str(i)] = tsvd_results_test[:, i - 1]\n",
    "\n",
    "    train_X['grp_' + str(i)] = grp_results_train[:, i - 1]\n",
    "    test_X['grp_' + str(i)] = grp_results_test[:, i - 1]\n",
    "\n",
    "    train_X['srp_' + str(i)] = srp_results_train[:, i - 1]\n",
    "    test_X['srp_' + str(i)] = srp_results_test[:, i - 1]\n",
    "\n",
    "y_mean = np.mean(train_y)"
   ]
  },
  {
   "cell_type": "code",
   "execution_count": 12,
   "metadata": {},
   "outputs": [
    {
     "data": {
      "text/plain": [
       "14.490239292748585"
      ]
     },
     "execution_count": 12,
     "metadata": {},
     "output_type": "execute_result"
    }
   ],
   "source": [
    "y_mean"
   ]
  },
  {
   "cell_type": "code",
   "execution_count": 15,
   "metadata": {},
   "outputs": [],
   "source": [
    "import xgboost as xgb\n",
    "\n",
    "def run_xgb(train_X, train_y, val_X, val_y, test_X):\n",
    "    params =  {\n",
    "      \"objective\"           : \"reg:linear\",\n",
    "      \"eval_metric\"         : \"rmse\",\n",
    "      \"eta\"                 : 0.01,\n",
    "      \"max_depth\"           : 4,\n",
    "      #\"min_child_weight\"    : 6,\n",
    "      #\"gamma\"               : 10,\n",
    "      \"subsample\"           : 0.7,\n",
    "      \"colsample_bytree\"    : 0.5,\n",
    "      #\"alpha\"               : 16,\n",
    "      #\"lambda\"              : 1,\n",
    "      #'tree_method'       : 'hist',\n",
    "      'nthread'           : 8,\n",
    "      'base_score' : 14.5,\n",
    "       #'max_delta_step'    : 1,\n",
    "       #'scale_pos_weight' : 3\n",
    "    }\n",
    "    dtrain = xgb.DMatrix(train_X, label=train_y)\n",
    "    dval = xgb.DMatrix(val_X, label=val_y)\n",
    "    dtest = xgb.DMatrix(test_X)\n",
    "    evallist = [(dtrain, 'train'), (dval, 'eval')]\n",
    "    num_round = 5000\n",
    "    bst = xgb.train(params, dtrain, num_round, evallist, early_stopping_rounds=200, verbose_eval=200)\n",
    "    \n",
    "    pred_test_y = bst.predict(dtest, ntree_limit=bst.best_ntree_limit)\n",
    "    return pred_test_y, bst, {}\n",
    "\n"
   ]
  },
  {
   "cell_type": "code",
   "execution_count": 16,
   "metadata": {},
   "outputs": [
    {
     "name": "stdout",
     "output_type": "stream",
     "text": [
      "[0]\ttrain-rmse:1.75768\teval-rmse:1.70045\n",
      "Multiple eval metrics have been passed: 'eval-rmse' will be used for early stopping.\n",
      "\n",
      "Will train until eval-rmse hasn't improved in 200 rounds.\n",
      "[200]\ttrain-rmse:1.33356\teval-rmse:1.43229\n",
      "[400]\ttrain-rmse:1.15758\teval-rmse:1.38587\n",
      "[600]\ttrain-rmse:1.04035\teval-rmse:1.3745\n",
      "[800]\ttrain-rmse:0.945847\teval-rmse:1.36791\n",
      "[1000]\ttrain-rmse:0.861842\teval-rmse:1.36329\n",
      "[1200]\ttrain-rmse:0.788832\teval-rmse:1.36281\n",
      "Stopping. Best iteration:\n",
      "[1151]\ttrain-rmse:0.806775\teval-rmse:1.36167\n",
      "\n",
      "[0]\ttrain-rmse:1.74408\teval-rmse:1.75703\n",
      "Multiple eval metrics have been passed: 'eval-rmse' will be used for early stopping.\n",
      "\n",
      "Will train until eval-rmse hasn't improved in 200 rounds.\n",
      "[200]\ttrain-rmse:1.33519\teval-rmse:1.46877\n",
      "[400]\ttrain-rmse:1.15863\teval-rmse:1.40418\n",
      "[600]\ttrain-rmse:1.04073\teval-rmse:1.38472\n",
      "[800]\ttrain-rmse:0.945302\teval-rmse:1.37627\n",
      "[1000]\ttrain-rmse:0.863094\teval-rmse:1.37192\n",
      "[1200]\ttrain-rmse:0.789489\teval-rmse:1.36928\n",
      "[1400]\ttrain-rmse:0.722739\teval-rmse:1.36738\n",
      "[1600]\ttrain-rmse:0.660447\teval-rmse:1.36665\n",
      "Stopping. Best iteration:\n",
      "[1539]\ttrain-rmse:0.677792\teval-rmse:1.36597\n",
      "\n",
      "[0]\ttrain-rmse:1.74952\teval-rmse:1.73466\n",
      "Multiple eval metrics have been passed: 'eval-rmse' will be used for early stopping.\n",
      "\n",
      "Will train until eval-rmse hasn't improved in 200 rounds.\n",
      "[200]\ttrain-rmse:1.33106\teval-rmse:1.47237\n",
      "[400]\ttrain-rmse:1.15393\teval-rmse:1.42136\n",
      "[600]\ttrain-rmse:1.03533\teval-rmse:1.40434\n",
      "[800]\ttrain-rmse:0.939979\teval-rmse:1.39792\n",
      "[1000]\ttrain-rmse:0.858397\teval-rmse:1.39339\n",
      "[1200]\ttrain-rmse:0.784957\teval-rmse:1.39034\n",
      "[1400]\ttrain-rmse:0.717385\teval-rmse:1.3886\n",
      "Stopping. Best iteration:\n",
      "[1396]\ttrain-rmse:0.718658\teval-rmse:1.38856\n",
      "\n",
      "[0]\ttrain-rmse:1.73862\teval-rmse:1.77815\n",
      "Multiple eval metrics have been passed: 'eval-rmse' will be used for early stopping.\n",
      "\n",
      "Will train until eval-rmse hasn't improved in 200 rounds.\n",
      "[200]\ttrain-rmse:1.32627\teval-rmse:1.51259\n",
      "[400]\ttrain-rmse:1.1498\teval-rmse:1.45547\n",
      "[600]\ttrain-rmse:1.02922\teval-rmse:1.43964\n",
      "[800]\ttrain-rmse:0.936707\teval-rmse:1.43417\n",
      "[1000]\ttrain-rmse:0.85614\teval-rmse:1.42942\n",
      "[1200]\ttrain-rmse:0.784303\teval-rmse:1.4282\n",
      "[1400]\ttrain-rmse:0.715237\teval-rmse:1.42684\n",
      "[1600]\ttrain-rmse:0.656709\teval-rmse:1.42747\n",
      "Stopping. Best iteration:\n",
      "[1402]\ttrain-rmse:0.714492\teval-rmse:1.4268\n",
      "\n",
      "[0]\ttrain-rmse:1.74235\teval-rmse:1.76462\n",
      "Multiple eval metrics have been passed: 'eval-rmse' will be used for early stopping.\n",
      "\n",
      "Will train until eval-rmse hasn't improved in 200 rounds.\n",
      "[200]\ttrain-rmse:1.32477\teval-rmse:1.4775\n",
      "[400]\ttrain-rmse:1.1518\teval-rmse:1.41946\n",
      "[600]\ttrain-rmse:1.03426\teval-rmse:1.4048\n",
      "[800]\ttrain-rmse:0.942832\teval-rmse:1.39703\n",
      "[1000]\ttrain-rmse:0.860455\teval-rmse:1.3924\n",
      "[1200]\ttrain-rmse:0.78543\teval-rmse:1.39022\n",
      "[1400]\ttrain-rmse:0.718177\teval-rmse:1.39041\n",
      "Stopping. Best iteration:\n",
      "[1275]\ttrain-rmse:0.759377\teval-rmse:1.38969\n",
      "\n"
     ]
    }
   ],
   "source": [
    "import numpy as np # linear algebra\n",
    "import pandas as pd # data processing, CSV file I/O (e.g. pd.read_csv)\n",
    "import matplotlib.pyplot as plt\n",
    "import seaborn as sns\n",
    "from sklearn.feature_extraction.text import TfidfVectorizer, CountVectorizer\n",
    "from sklearn.decomposition import TruncatedSVD\n",
    "from sklearn import preprocessing, model_selection, metrics\n",
    "import lightgbm as lgb\n",
    "\n",
    "kf = model_selection.KFold(n_splits=5, shuffle=True, random_state=2017)\n",
    "pred_test_full = 0\n",
    "for dev_index, val_index in kf.split(train_X):\n",
    "    dev_X, val_X = train_X.loc[dev_index,:], train_X.loc[val_index,:]\n",
    "    dev_y, val_y = train_y[dev_index], train_y[val_index]\n",
    "    pred_test, model, evals_result = run_xgb(dev_X, dev_y, val_X, val_y, test_X)\n",
    "    pred_test_full += pred_test\n",
    "pred_test_full /= 5.\n",
    "pred_test_full = np.expm1(pred_test_full)"
   ]
  },
  {
   "cell_type": "code",
   "execution_count": 17,
   "metadata": {},
   "outputs": [],
   "source": [
    "sub_df = pd.DataFrame({\"ID\":test_df[\"ID\"].values})\n",
    "sub_df[\"target\"] = pred_test_full\n",
    "sub_df.to_csv(\"baseline_xgb.csv\", index=False)"
   ]
  },
  {
   "cell_type": "code",
   "execution_count": 18,
   "metadata": {},
   "outputs": [
    {
     "data": {
      "text/plain": [
       "<matplotlib.axes._subplots.AxesSubplot at 0x7f8c11fb9320>"
      ]
     },
     "execution_count": 18,
     "metadata": {},
     "output_type": "execute_result"
    },
    {
     "data": {
      "image/png": "[encoded data removed]",
      "text/plain": [
       "<Figure size 432x288 with 1 Axes>"
      ]
     },
     "metadata": {},
     "output_type": "display_data"
    }
   ],
   "source": [
    "xgb.plot_importance(model, max_num_features=30)"
   ]
  },
  {
   "cell_type": "code",
   "execution_count": null,
   "metadata": {},
   "outputs": [],
   "source": []
  }
 ],
 "metadata": {
  "kernelspec": {
   "display_name": "Python 3",
   "language": "python",
   "name": "python3"
  },
  "language_info": {
   "codemirror_mode": {
    "name": "ipython",
    "version": 3
   },
   "file_extension": ".py",
   "mimetype": "text/x-python",
   "name": "python",
   "nbconvert_exporter": "python",
   "pygments_lexer": "ipython3",
   "version": "3.6.5"
  }
 },
 "nbformat": 4,
 "nbformat_minor": 2
}
